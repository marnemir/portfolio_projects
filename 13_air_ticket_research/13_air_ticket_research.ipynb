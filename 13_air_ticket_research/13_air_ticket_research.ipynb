{
 "cells": [
  {
   "cell_type": "markdown",
   "metadata": {},
   "source": [
    "# Исследование спроса на авиабилеты\n",
    "\n",
    "#### Тема проекта:\n",
    "- Исследование спроса на авиабилеты в города, где проходят фестивали\n",
    "\n",
    "#### Цель:\n",
    "- Проанализировать спрос пассажиров и проверить гипотезу\n",
    "\n",
    "#### Поставленные задачи:\n",
    "- Рассчитать количество рейсов для каждой модели самолёта;\n",
    "- Определить среднее количество рейсов для городов;\n",
    "- Определить топ-10 городов с наибольшим количеством рейсов;\n",
    "- Проверить гипотезу: «Средний спрос на билеты во время фестивалей не отличается от среднего спроса на билеты в обычное время».\n",
    "\n",
    "#### Краткий план работы:\n",
    "- [Шаг 1. Аналитика данных](#Шаг-1.-Аналитика-данных)\n",
    "- [Шаг 2. Проверка гипотезы](#Шаг-2.-Проверка-гипотезы)\n",
    "\n",
    "#### Вывод:\n",
    "- Рассчитаны необходимые показатели для моделей самолёта и городов;\n",
    "- Проверена гипотеза.\n",
    "\n",
    "**Статус проекта**: проект завершён.\n",
    "\n",
    "**Используемые библиотеки**: *numpy*, *pandas*, *matplotlib*, *seaborn*, *pylab*, *scipy*, *statsmodels*\n",
    "\n",
    "**Источник данных**: [курс Data Science от Яндекс.Практикум](https://praktikum.yandex.ru/profile/data-scientist/)"
   ]
  },
  {
   "cell_type": "code",
   "execution_count": 1,
   "metadata": {},
   "outputs": [],
   "source": [
    "# отключение предупреждений\n",
    "import warnings\n",
    "warnings.filterwarnings('ignore') \n",
    "\n",
    "# импорт библиотек и функция для дальнейшей работы\n",
    "import numpy as np\n",
    "import pandas as pd\n",
    "import matplotlib.pyplot as plt\n",
    "import seaborn as sns\n",
    "import pylab as py \n",
    "from scipy import stats as st\n",
    "import statsmodels.api as sm "
   ]
  },
  {
   "cell_type": "markdown",
   "metadata": {},
   "source": [
    "## Шаг 1. Аналитика данных\n",
    "\n",
    "Разобьём шаг на два этапа и последовательно изучим предоставленные файлы:\n",
    "\n",
    "- [1.1. Изучение файла query_1.csv](#1.1.-Изучение-файла-query_1.csv)\n",
    "- [1.2. Изучение файла query_3.csv](#1.2.-Изучение-файла-query_3.csv)\n",
    "\n",
    "Выгрузим файлы и посмотрим общую информацию по данным с помощью функции:"
   ]
  },
  {
   "cell_type": "code",
   "execution_count": 2,
   "metadata": {},
   "outputs": [],
   "source": [
    "def read_info(file_path):    \n",
    "    \"\"\"Функция возвращает датафрейм, выводит количество дубликатов, общую информацию:\n",
    "    - file_path - путь к файлу .csv.\"\"\"\n",
    "    \n",
    "    # выгрузка файла\n",
    "    df = pd.read_csv(file_path)\n",
    "    \n",
    "    # проверка на дубликаты\n",
    "    print('Количество дубликатов:', df.duplicated().sum())\n",
    "    print()\n",
    "    \n",
    "    # общая информация\n",
    "    print(df.info())\n",
    "    \n",
    "    # вывод первых строк\n",
    "    return df"
   ]
  },
  {
   "cell_type": "markdown",
   "metadata": {},
   "source": [
    "### 1.1. Изучение файла query_1.csv"
   ]
  },
  {
   "cell_type": "code",
   "execution_count": 3,
   "metadata": {},
   "outputs": [
    {
     "name": "stdout",
     "output_type": "stream",
     "text": [
      "Количество дубликатов: 0\n",
      "\n",
      "<class 'pandas.core.frame.DataFrame'>\n",
      "RangeIndex: 8 entries, 0 to 7\n",
      "Data columns (total 2 columns):\n",
      " #   Column          Non-Null Count  Dtype \n",
      "---  ------          --------------  ----- \n",
      " 0   model           8 non-null      object\n",
      " 1   flights_amount  8 non-null      int64 \n",
      "dtypes: int64(1), object(1)\n",
      "memory usage: 256.0+ bytes\n",
      "None\n"
     ]
    },
    {
     "data": {
      "text/html": [
       "<div>\n",
       "<style scoped>\n",
       "    .dataframe tbody tr th:only-of-type {\n",
       "        vertical-align: middle;\n",
       "    }\n",
       "\n",
       "    .dataframe tbody tr th {\n",
       "        vertical-align: top;\n",
       "    }\n",
       "\n",
       "    .dataframe thead th {\n",
       "        text-align: right;\n",
       "    }\n",
       "</style>\n",
       "<table border=\"1\" class=\"dataframe\">\n",
       "  <thead>\n",
       "    <tr style=\"text-align: right;\">\n",
       "      <th></th>\n",
       "      <th>model</th>\n",
       "      <th>flights_amount</th>\n",
       "    </tr>\n",
       "  </thead>\n",
       "  <tbody>\n",
       "    <tr>\n",
       "      <th>0</th>\n",
       "      <td>Airbus A319-100</td>\n",
       "      <td>607</td>\n",
       "    </tr>\n",
       "    <tr>\n",
       "      <th>1</th>\n",
       "      <td>Airbus A321-200</td>\n",
       "      <td>960</td>\n",
       "    </tr>\n",
       "    <tr>\n",
       "      <th>2</th>\n",
       "      <td>Boeing 737-300</td>\n",
       "      <td>630</td>\n",
       "    </tr>\n",
       "    <tr>\n",
       "      <th>3</th>\n",
       "      <td>Boeing 767-300</td>\n",
       "      <td>600</td>\n",
       "    </tr>\n",
       "    <tr>\n",
       "      <th>4</th>\n",
       "      <td>Boeing 777-300</td>\n",
       "      <td>300</td>\n",
       "    </tr>\n",
       "    <tr>\n",
       "      <th>5</th>\n",
       "      <td>Bombardier CRJ-200</td>\n",
       "      <td>4446</td>\n",
       "    </tr>\n",
       "    <tr>\n",
       "      <th>6</th>\n",
       "      <td>Cessna 208 Caravan</td>\n",
       "      <td>4557</td>\n",
       "    </tr>\n",
       "    <tr>\n",
       "      <th>7</th>\n",
       "      <td>Sukhoi SuperJet-100</td>\n",
       "      <td>4185</td>\n",
       "    </tr>\n",
       "  </tbody>\n",
       "</table>\n",
       "</div>"
      ],
      "text/plain": [
       "                 model  flights_amount\n",
       "0      Airbus A319-100             607\n",
       "1      Airbus A321-200             960\n",
       "2       Boeing 737-300             630\n",
       "3       Boeing 767-300             600\n",
       "4       Boeing 777-300             300\n",
       "5   Bombardier CRJ-200            4446\n",
       "6   Cessna 208 Caravan            4557\n",
       "7  Sukhoi SuperJet-100            4185"
      ]
     },
     "execution_count": 3,
     "metadata": {},
     "output_type": "execute_result"
    }
   ],
   "source": [
    "# открытие файла query_1.csv\n",
    "aircraft = read_info('datasets/query_1.csv')\n",
    "aircraft"
   ]
  },
  {
   "cell_type": "markdown",
   "metadata": {},
   "source": [
    "#### Датафрейм aircraft:\n",
    "- **Размер.** Файл содержит **8 строк и 2 столбца** (модель самолёта и количество совершённых полётов).\n",
    "- **Тип данных** соответствует содержимому, изменения не требуются.\n",
    "- **Дубликаты** и **пропуски** отсутствуют.\n",
    "\n",
    "Для наглядности визуализируем результаты с помощью функции:"
   ]
  },
  {
   "cell_type": "code",
   "execution_count": 4,
   "metadata": {},
   "outputs": [],
   "source": [
    "def barh_plot(df_name, col_name, title, xlabel, ylabel, xticks=None):\n",
    "    \n",
    "    \"\"\"Функция возвращает горизонтальный barchart с подписанными значениями:\n",
    "    - df_name - наименование датафрейма;\n",
    "    - col_name - наименование колонки;\n",
    "    - title - значение title;\n",
    "    - xlabel - значение xlabel;\n",
    "    - ylabel - значение ylabel;\n",
    "    - xticks - значение xticks.\"\"\"\n",
    "    \n",
    "    df_name.plot(kind='barh', figsize=(8, 5))\n",
    "    y = [np.round(i, 2) for i in df_name[col_name].values]\n",
    "    for index, value in enumerate(y):\n",
    "        plt.text(value, index, str(value))\n",
    "    plt.title(title)\n",
    "    plt.xlabel(xlabel)\n",
    "    plt.ylabel(ylabel)\n",
    "    plt.xticks(xticks)\n",
    "    plt.show()"
   ]
  },
  {
   "cell_type": "code",
   "execution_count": 5,
   "metadata": {},
   "outputs": [
    {
     "data": {
      "image/png": "[encoded data removed]",
      "text/plain": [
       "<Figure size 576x360 with 1 Axes>"
      ]
     },
     "metadata": {
      "needs_background": "light"
     },
     "output_type": "display_data"
    }
   ],
   "source": [
    "# настройка датафрейма\n",
    "aircraft = aircraft.set_index('model').sort_values(by='flights_amount')\n",
    "\n",
    "# построение barh\n",
    "barh_plot(aircraft, 'flights_amount', 'Количество полётов для выбранных моделей',\n",
    "          'Количество полётов', 'Наименование модели', np.arange(0, 5001, 500))"
   ]
  },
  {
   "cell_type": "markdown",
   "metadata": {},
   "source": [
    "- **Больше всего** полётов за указанный период (сентябрь 2018) совершили самолёты моделей:\n",
    " - [*Cessna 208 Caravan*](https://en.wikipedia.org/wiki/Cessna_208_Caravan) - **4557 полётов**.  \n",
    " Небольшой самолёт с неубирающимися шасси. Он может использоваться для обучающих полётов, региональных рейсов и VIP-перевозок. Возможно, благодаря разнообразию целей использования и компактности, такая модель является очень популярной и совершает много полётов.\n",
    " - [*Bombardier CRJ-200*](https://ru.wikipedia.org/wiki/Bombardier_CRJ200) - **4446 полётов**.  \n",
    " Среднемагистральный пассажирский самолет для местных авиалиний, разработанный канадской фирмой.  \n",
    " Он также эксплуатируется в России, но, по общему впечатлению, упоминается реже, чем, например *Airbus* и *Boeing*, которые в нашем случае не попали в топ (подробнее - [\"Какие самолёты летают в России\"](https://www.rbc.ru/photoreport/27/11/2015/5655a9989a79479570a1d5f3)). \n",
    " - [*Sukhoi SuperJet-100*](https://en.wikipedia.org/wiki/Sukhoi_Superjet_100) - **4185 полётов**.  \n",
    " Отечественная модель, использование которой поддерживается на государственном уровне .\n",
    "\n",
    "\n",
    "- **Меньше всего** полётов совершили самолёт модели [*Boeing 777-300*](https://en.wikipedia.org/wiki/Boeing_777) - **300 полётов**.\n",
    "\n",
    "Если обратиться к базе и вывести с использованием SQL информацию из таблицы по моделям, видим следующее:"
   ]
  },
  {
   "cell_type": "code",
   "execution_count": 6,
   "metadata": {},
   "outputs": [
    {
     "data": {
      "text/html": [
       "<div>\n",
       "<style scoped>\n",
       "    .dataframe tbody tr th:only-of-type {\n",
       "        vertical-align: middle;\n",
       "    }\n",
       "\n",
       "    .dataframe tbody tr th {\n",
       "        vertical-align: top;\n",
       "    }\n",
       "\n",
       "    .dataframe thead th {\n",
       "        text-align: right;\n",
       "    }\n",
       "</style>\n",
       "<table border=\"1\" class=\"dataframe\">\n",
       "  <thead>\n",
       "    <tr style=\"text-align: right;\">\n",
       "      <th></th>\n",
       "      <th>aircraft_code</th>\n",
       "      <th>model</th>\n",
       "      <th>range</th>\n",
       "    </tr>\n",
       "  </thead>\n",
       "  <tbody>\n",
       "    <tr>\n",
       "      <th>0</th>\n",
       "      <td>CN1</td>\n",
       "      <td>Cessna 208 Caravan</td>\n",
       "      <td>1200</td>\n",
       "    </tr>\n",
       "    <tr>\n",
       "      <th>1</th>\n",
       "      <td>CR2</td>\n",
       "      <td>Bombardier CRJ</td>\n",
       "      <td>2700</td>\n",
       "    </tr>\n",
       "    <tr>\n",
       "      <th>2</th>\n",
       "      <td>SU9</td>\n",
       "      <td>Sukhoi SuperJet-100</td>\n",
       "      <td>3000</td>\n",
       "    </tr>\n",
       "    <tr>\n",
       "      <th>3</th>\n",
       "      <td>733</td>\n",
       "      <td>Boeing 737-300</td>\n",
       "      <td>4200</td>\n",
       "    </tr>\n",
       "    <tr>\n",
       "      <th>4</th>\n",
       "      <td>321</td>\n",
       "      <td>Airbus A321-200</td>\n",
       "      <td>5600</td>\n",
       "    </tr>\n",
       "    <tr>\n",
       "      <th>5</th>\n",
       "      <td>320</td>\n",
       "      <td>Airbus A320</td>\n",
       "      <td>5700</td>\n",
       "    </tr>\n",
       "    <tr>\n",
       "      <th>6</th>\n",
       "      <td>319</td>\n",
       "      <td>Airbus A319</td>\n",
       "      <td>6700</td>\n",
       "    </tr>\n",
       "    <tr>\n",
       "      <th>7</th>\n",
       "      <td>763</td>\n",
       "      <td>Boeing 767-300</td>\n",
       "      <td>7900</td>\n",
       "    </tr>\n",
       "    <tr>\n",
       "      <th>8</th>\n",
       "      <td>773</td>\n",
       "      <td>Boeing 777-300</td>\n",
       "      <td>11100</td>\n",
       "    </tr>\n",
       "  </tbody>\n",
       "</table>\n",
       "</div>"
      ],
      "text/plain": [
       "  aircraft_code                model  range\n",
       "0           CN1   Cessna 208 Caravan   1200\n",
       "1           CR2       Bombardier CRJ   2700\n",
       "2           SU9  Sukhoi SuperJet-100   3000\n",
       "3           733       Boeing 737-300   4200\n",
       "4           321      Airbus A321-200   5600\n",
       "5           320          Airbus A320   5700\n",
       "6           319          Airbus A319   6700\n",
       "7           763       Boeing 767-300   7900\n",
       "8           773       Boeing 777-300  11100"
      ]
     },
     "execution_count": 6,
     "metadata": {},
     "output_type": "execute_result"
    }
   ],
   "source": [
    "aircrafts_sql = pd.DataFrame({\n",
    "    'aircraft_code': ['CN1', 'CR2', 'SU9', '733', '321', '320', '319', '763', '773'],\n",
    "    'model': ['Cessna 208 Caravan', 'Bombardier CRJ', 'Sukhoi SuperJet-100', 'Boeing 737-300', 'Airbus A321-200',\n",
    "              'Airbus A320', 'Airbus A319', 'Boeing 767-300', 'Boeing 777-300'],\n",
    "    'range': [1200, 2700, 3000, 4200, 5600, 5700, 6700, 7900, 11100]\n",
    "})\n",
    "\n",
    "aircrafts_sql"
   ]
  },
  {
   "cell_type": "markdown",
   "metadata": {},
   "source": [
    "Колонка *range* - это дальность полёта.\n",
    "- Самолёты из *топ-3* с максимальным количеством рейсов имеют **самую короткую** дальность полёта.  \n",
    "- Модель *Boeing 777-300*, находящаяся на последнем месте, имеет **самую длинную** дальность полёта.\n",
    "\n",
    "Такая закономерность может быть связана с тем, что для регулярных коротких перевозок нецелесообразно использовать самолёты, предназначенные для длительных полётов. Поэтому в топ попали модели с самой маленькой дальностью полёта."
   ]
  },
  {
   "cell_type": "markdown",
   "metadata": {},
   "source": [
    "### 1.2. Изучение файла query_3.csv"
   ]
  },
  {
   "cell_type": "code",
   "execution_count": 7,
   "metadata": {},
   "outputs": [
    {
     "name": "stdout",
     "output_type": "stream",
     "text": [
      "Количество дубликатов: 0\n",
      "\n",
      "<class 'pandas.core.frame.DataFrame'>\n",
      "RangeIndex: 101 entries, 0 to 100\n",
      "Data columns (total 2 columns):\n",
      " #   Column           Non-Null Count  Dtype  \n",
      "---  ------           --------------  -----  \n",
      " 0   city             101 non-null    object \n",
      " 1   average_flights  101 non-null    float64\n",
      "dtypes: float64(1), object(1)\n",
      "memory usage: 1.7+ KB\n",
      "None\n"
     ]
    },
    {
     "data": {
      "text/html": [
       "<div>\n",
       "<style scoped>\n",
       "    .dataframe tbody tr th:only-of-type {\n",
       "        vertical-align: middle;\n",
       "    }\n",
       "\n",
       "    .dataframe tbody tr th {\n",
       "        vertical-align: top;\n",
       "    }\n",
       "\n",
       "    .dataframe thead th {\n",
       "        text-align: right;\n",
       "    }\n",
       "</style>\n",
       "<table border=\"1\" class=\"dataframe\">\n",
       "  <thead>\n",
       "    <tr style=\"text-align: right;\">\n",
       "      <th></th>\n",
       "      <th>city</th>\n",
       "      <th>average_flights</th>\n",
       "    </tr>\n",
       "  </thead>\n",
       "  <tbody>\n",
       "    <tr>\n",
       "      <th>0</th>\n",
       "      <td>Абакан</td>\n",
       "      <td>3.870968</td>\n",
       "    </tr>\n",
       "    <tr>\n",
       "      <th>1</th>\n",
       "      <td>Анадырь</td>\n",
       "      <td>1.000000</td>\n",
       "    </tr>\n",
       "    <tr>\n",
       "      <th>2</th>\n",
       "      <td>Анапа</td>\n",
       "      <td>2.161290</td>\n",
       "    </tr>\n",
       "    <tr>\n",
       "      <th>3</th>\n",
       "      <td>Архангельск</td>\n",
       "      <td>5.354839</td>\n",
       "    </tr>\n",
       "    <tr>\n",
       "      <th>4</th>\n",
       "      <td>Астрахань</td>\n",
       "      <td>2.451613</td>\n",
       "    </tr>\n",
       "  </tbody>\n",
       "</table>\n",
       "</div>"
      ],
      "text/plain": [
       "          city  average_flights\n",
       "0       Абакан         3.870968\n",
       "1      Анадырь         1.000000\n",
       "2        Анапа         2.161290\n",
       "3  Архангельск         5.354839\n",
       "4    Астрахань         2.451613"
      ]
     },
     "execution_count": 7,
     "metadata": {},
     "output_type": "execute_result"
    }
   ],
   "source": [
    "# открытие файла query_3.csv\n",
    "city = read_info('datasets/query_3.csv')\n",
    "city.head()"
   ]
  },
  {
   "cell_type": "markdown",
   "metadata": {},
   "source": [
    "#### Датафрейм city:\n",
    "- **Размер.** Файл содержит **101 строкy и 2 столбца** (название города и среднее количество прибывающих рейсов).\n",
    "- **Тип данных** соответствует содержимому, изменения не требуются.\n",
    "- **Дубликаты** и **пропуски** отсутствуют.\n",
    "\n",
    "Посмотрим на распределение количества полётов:"
   ]
  },
  {
   "cell_type": "code",
   "execution_count": 8,
   "metadata": {},
   "outputs": [
    {
     "data": {
      "image/png": "[encoded data removed]",
      "text/plain": [
       "<Figure size 720x288 with 1 Axes>"
      ]
     },
     "metadata": {
      "needs_background": "light"
     },
     "output_type": "display_data"
    }
   ],
   "source": [
    "# настройка датафрейма\n",
    "city = city.set_index('city').sort_values(by='average_flights')\n",
    "\n",
    "# построение гистограммы\n",
    "plt.figure(figsize=(10,4))\n",
    "sns.distplot(city, kde=True, label=city.columns)\n",
    "plt.title('Распределение среднего количества прибывающих рейсов')\n",
    "plt.xlabel('Количество прибывающих рейсов')\n",
    "plt.legend()\n",
    "plt.grid()\n",
    "plt.show()"
   ]
  },
  {
   "cell_type": "code",
   "execution_count": 9,
   "metadata": {},
   "outputs": [
    {
     "data": {
      "image/png": "[encoded data removed]",
      "text/plain": [
       "<Figure size 720x288 with 1 Axes>"
      ]
     },
     "metadata": {
      "needs_background": "light"
     },
     "output_type": "display_data"
    }
   ],
   "source": [
    "# построение гистограммы, с лимитом\n",
    "plt.figure(figsize=(10,4))\n",
    "sns.distplot(city, kde=True, label=city.columns, bins=50)\n",
    "plt.title('Распределение среднего количества прибывающих рейсов')\n",
    "plt.xlabel('Количество прибывающих рейсов')\n",
    "plt.xlim(0, 20)\n",
    "plt.legend()\n",
    "plt.grid()\n",
    "plt.show()"
   ]
  },
  {
   "cell_type": "code",
   "execution_count": 10,
   "metadata": {},
   "outputs": [
    {
     "data": {
      "text/html": [
       "<div>\n",
       "<style scoped>\n",
       "    .dataframe tbody tr th:only-of-type {\n",
       "        vertical-align: middle;\n",
       "    }\n",
       "\n",
       "    .dataframe tbody tr th {\n",
       "        vertical-align: top;\n",
       "    }\n",
       "\n",
       "    .dataframe thead th {\n",
       "        text-align: right;\n",
       "    }\n",
       "</style>\n",
       "<table border=\"1\" class=\"dataframe\">\n",
       "  <thead>\n",
       "    <tr style=\"text-align: right;\">\n",
       "      <th></th>\n",
       "      <th>average_flights</th>\n",
       "    </tr>\n",
       "  </thead>\n",
       "  <tbody>\n",
       "    <tr>\n",
       "      <th>count</th>\n",
       "      <td>101.000000</td>\n",
       "    </tr>\n",
       "    <tr>\n",
       "      <th>mean</th>\n",
       "      <td>5.494189</td>\n",
       "    </tr>\n",
       "    <tr>\n",
       "      <th>std</th>\n",
       "      <td>13.119790</td>\n",
       "    </tr>\n",
       "    <tr>\n",
       "      <th>min</th>\n",
       "      <td>1.000000</td>\n",
       "    </tr>\n",
       "    <tr>\n",
       "      <th>25%</th>\n",
       "      <td>2.000000</td>\n",
       "    </tr>\n",
       "    <tr>\n",
       "      <th>50%</th>\n",
       "      <td>3.000000</td>\n",
       "    </tr>\n",
       "    <tr>\n",
       "      <th>75%</th>\n",
       "      <td>5.870968</td>\n",
       "    </tr>\n",
       "    <tr>\n",
       "      <th>max</th>\n",
       "      <td>129.774194</td>\n",
       "    </tr>\n",
       "  </tbody>\n",
       "</table>\n",
       "</div>"
      ],
      "text/plain": [
       "       average_flights\n",
       "count       101.000000\n",
       "mean          5.494189\n",
       "std          13.119790\n",
       "min           1.000000\n",
       "25%           2.000000\n",
       "50%           3.000000\n",
       "75%           5.870968\n",
       "max         129.774194"
      ]
     },
     "execution_count": 10,
     "metadata": {},
     "output_type": "execute_result"
    }
   ],
   "source": [
    "# вывод сводной статистики\n",
    "city.describe()"
   ]
  },
  {
   "cell_type": "markdown",
   "metadata": {},
   "source": [
    "- Среднее количество рейсов для города - **5 рейсов**, значение медианы - **3 рейса**.\n",
    "- Для 75% выбранных городов количество прибывающих рейсов в день **не превышает 6**.\n",
    "- Из-за наличия выброса **129 рейсов в день** данные смещены вправо.\n",
    "- **Минимальное** значение - **1 рейс в день**."
   ]
  },
  {
   "cell_type": "markdown",
   "metadata": {},
   "source": [
    "Для **топ-10** городов построим *barchart*:"
   ]
  },
  {
   "cell_type": "code",
   "execution_count": 11,
   "metadata": {
    "scrolled": true
   },
   "outputs": [
    {
     "data": {
      "image/png": "[encoded data removed]",
      "text/plain": [
       "<Figure size 576x360 with 1 Axes>"
      ]
     },
     "metadata": {
      "needs_background": "light"
     },
     "output_type": "display_data"
    }
   ],
   "source": [
    "# построение barh\n",
    "barh_plot(city.tail(10), 'average_flights', 'Среднее количество рейсов для топ-10 городов',\n",
    "          'Среднее количество рейсов', 'Город', np.arange(0, 141, 10))"
   ]
  },
  {
   "cell_type": "markdown",
   "metadata": {},
   "source": [
    "- Выброс со значением **129 рейсов** приходится на **Москву**.\n",
    "- В **топ-3** входят [самые крупные города России](http://www.statdata.ru/goroda-millionniki-rossii-po-naseleniu/201x) - **Москва**, **Санкт-Петербург** и **Новосибирск**.\n",
    "- В топ также входят другие города-миллионники - **Красноярск, Екатеринбург, Ростов-на-Дону и Пермь**.\n",
    "- **Сочи** является популярным курортным городом. Кроме того, сентябрь - это ещё сезон, поэтому неудивительно, что город попал в топ-10.\n",
    "- Население **Брянска** - около 400 тыс. человек, а **Ульяновска** - около 600 тыс. человек. Города не входят в список миллионников, однако также попали в топ-10."
   ]
  },
  {
   "cell_type": "markdown",
   "metadata": {},
   "source": [
    "## Шаг 1. Вывод\n",
    "\n",
    "Были рассмотрены предоставленные файлы:\n",
    "\n",
    "#### [1.1. Изучение файла query_1.csv](#1.1.-Изучение-файла-query_1.csv)  \n",
    "\n",
    "- **Датафрейм aircraft**  \n",
    " - **Размер.** Файл содержит **8 строк и 2 столбца** (модель самолёта и количество совершённых полётов).\n",
    " - **Тип данных** соответствует содержимому, изменения не требуются.\n",
    " - **Дубликаты** и **пропуски** отсутствуют.\n",
    "\n",
    "\n",
    "- **Анализ графиков**\n",
    " - **Больше всего** полётов за указанный период (сентябрь 2018) совершили самолёты моделей:\n",
    "   - [*Cessna 208 Caravan*](https://en.wikipedia.org/wiki/Cessna_208_Caravan) - **4557 полётов**;  \n",
    "   - [*Bombardier CRJ-200*](https://ru.wikipedia.org/wiki/Bombardier_CRJ200) - **4446 полётов**;  \n",
    "   - [*Sukhoi SuperJet-100*](https://en.wikipedia.org/wiki/Sukhoi_Superjet_100) - **4185 полётов**.  \n",
    "- **Меньше всего** полётов совершили самолёт модели [*Boeing 777-300*](https://en.wikipedia.org/wiki/Boeing_777) - **300 полётов**.\n",
    "\n",
    "\n",
    "- **Проверка данных в базе**\n",
    " - Самолёты из *топ-3* с максимальным количеством рейсов имеют **самую короткую** дальность полёта.  \n",
    " - Модель *Boeing 777-300*, находящаяся на последнем месте, имеет **самую длинную** дальность полёта.  \n",
    " - Такая закономерность может быть связана с тем, что для регулярных коротких перевозок нецелесообразно использовать самолёты, предназначенные для длительных полётов. Поэтому в топ попали модели с самой маленькой дальностью полёта.\n",
    "\n",
    "#### [1.2. Изучение файла query_3.csv](#1.2.-Изучение-файла-query_3.csv)\n",
    "\n",
    "- **Датафрейм city** \n",
    " - **Размер.** Файл содержит **101 строкy и 2 столбца** (название города и среднее количество прибывающих рейсов).\n",
    " - **Тип данных** соответствует содержимому, изменения не требуются.\n",
    " - **Дубликаты** и **пропуски** отсутствуют.\n",
    "\n",
    "\n",
    "- **Анализ графиков (распределение рейсов)**\n",
    " - Среднее количество рейсов для города - **5 рейсов**, значение медианы - **3 рейса**.\n",
    " - Для 75% выбранных городов количество рейсов в день **не превышает 6**.\n",
    " - Из-за наличия выброса **129 рейсов в день** данные смещены вправо.\n",
    " - **Минимальное** значение - **1 рейс в день**.\n",
    "\n",
    "\n",
    "- **Анализ графиков (топ-10 городов)**\n",
    " - Выброс со значением **129 рейсов** приходится на **Москву**.\n",
    " - В **топ-3** входят [самые крупные города России](http://www.statdata.ru/goroda-millionniki-rossii-po-naseleniu/201x) - **Москва**, **Санкт-Петербург** и **Новосибирск**.\n",
    " - В топ также входят другие города-миллионники - **Красноярск, Екатеринбург, Ростов-на-Дону и Пермь**.\n",
    " - **Сочи** является популярным курортным городом. Кроме того, сентябрь - это ещё сезон, поэтому неудивительно, что город попал в топ-10.\n",
    " - Население **Брянска** - около 400 тыс. человек, а **Ульяновска** - около 600 тыс. человек. Города не входят в список миллионников, однако также попали в топ-10."
   ]
  },
  {
   "cell_type": "markdown",
   "metadata": {},
   "source": [
    "## Шаг 2. Проверка гипотезы"
   ]
  },
  {
   "cell_type": "code",
   "execution_count": 12,
   "metadata": {},
   "outputs": [
    {
     "name": "stdout",
     "output_type": "stream",
     "text": [
      "Количество дубликатов: 0\n",
      "\n",
      "<class 'pandas.core.frame.DataFrame'>\n",
      "RangeIndex: 10 entries, 0 to 9\n",
      "Data columns (total 4 columns):\n",
      " #   Column         Non-Null Count  Dtype  \n",
      "---  ------         --------------  -----  \n",
      " 0   week_number    10 non-null     int64  \n",
      " 1   ticket_amount  10 non-null     int64  \n",
      " 2   festival_week  3 non-null      float64\n",
      " 3   festival_name  3 non-null      object \n",
      "dtypes: float64(1), int64(2), object(1)\n",
      "memory usage: 448.0+ bytes\n",
      "None\n"
     ]
    },
    {
     "data": {
      "text/html": [
       "<div>\n",
       "<style scoped>\n",
       "    .dataframe tbody tr th:only-of-type {\n",
       "        vertical-align: middle;\n",
       "    }\n",
       "\n",
       "    .dataframe tbody tr th {\n",
       "        vertical-align: top;\n",
       "    }\n",
       "\n",
       "    .dataframe thead th {\n",
       "        text-align: right;\n",
       "    }\n",
       "</style>\n",
       "<table border=\"1\" class=\"dataframe\">\n",
       "  <thead>\n",
       "    <tr style=\"text-align: right;\">\n",
       "      <th></th>\n",
       "      <th>week_number</th>\n",
       "      <th>ticket_amount</th>\n",
       "      <th>festival_week</th>\n",
       "      <th>festival_name</th>\n",
       "    </tr>\n",
       "  </thead>\n",
       "  <tbody>\n",
       "    <tr>\n",
       "      <th>0</th>\n",
       "      <td>30</td>\n",
       "      <td>43568</td>\n",
       "      <td>30.0</td>\n",
       "      <td>Park Live</td>\n",
       "    </tr>\n",
       "    <tr>\n",
       "      <th>1</th>\n",
       "      <td>31</td>\n",
       "      <td>51034</td>\n",
       "      <td>31.0</td>\n",
       "      <td>Пикник Афиши</td>\n",
       "    </tr>\n",
       "    <tr>\n",
       "      <th>5</th>\n",
       "      <td>35</td>\n",
       "      <td>51360</td>\n",
       "      <td>NaN</td>\n",
       "      <td>NaN</td>\n",
       "    </tr>\n",
       "    <tr>\n",
       "      <th>3</th>\n",
       "      <td>33</td>\n",
       "      <td>51378</td>\n",
       "      <td>NaN</td>\n",
       "      <td>NaN</td>\n",
       "    </tr>\n",
       "    <tr>\n",
       "      <th>6</th>\n",
       "      <td>36</td>\n",
       "      <td>51386</td>\n",
       "      <td>36.0</td>\n",
       "      <td>Видфест</td>\n",
       "    </tr>\n",
       "    <tr>\n",
       "      <th>4</th>\n",
       "      <td>34</td>\n",
       "      <td>51492</td>\n",
       "      <td>NaN</td>\n",
       "      <td>NaN</td>\n",
       "    </tr>\n",
       "    <tr>\n",
       "      <th>8</th>\n",
       "      <td>38</td>\n",
       "      <td>51518</td>\n",
       "      <td>NaN</td>\n",
       "      <td>NaN</td>\n",
       "    </tr>\n",
       "    <tr>\n",
       "      <th>9</th>\n",
       "      <td>39</td>\n",
       "      <td>51623</td>\n",
       "      <td>NaN</td>\n",
       "      <td>NaN</td>\n",
       "    </tr>\n",
       "    <tr>\n",
       "      <th>7</th>\n",
       "      <td>37</td>\n",
       "      <td>51670</td>\n",
       "      <td>NaN</td>\n",
       "      <td>NaN</td>\n",
       "    </tr>\n",
       "    <tr>\n",
       "      <th>2</th>\n",
       "      <td>32</td>\n",
       "      <td>51675</td>\n",
       "      <td>NaN</td>\n",
       "      <td>NaN</td>\n",
       "    </tr>\n",
       "  </tbody>\n",
       "</table>\n",
       "</div>"
      ],
      "text/plain": [
       "   week_number  ticket_amount  festival_week festival_name\n",
       "0           30          43568           30.0     Park Live\n",
       "1           31          51034           31.0  Пикник Афиши\n",
       "5           35          51360            NaN           NaN\n",
       "3           33          51378            NaN           NaN\n",
       "6           36          51386           36.0       Видфест\n",
       "4           34          51492            NaN           NaN\n",
       "8           38          51518            NaN           NaN\n",
       "9           39          51623            NaN           NaN\n",
       "7           37          51670            NaN           NaN\n",
       "2           32          51675            NaN           NaN"
      ]
     },
     "execution_count": 12,
     "metadata": {},
     "output_type": "execute_result"
    }
   ],
   "source": [
    "# открытие файла /datasets/query_last.csv\n",
    "festival = read_info('datasets/query_last.csv')\n",
    "festival.sort_values(by='ticket_amount')"
   ]
  },
  {
   "cell_type": "markdown",
   "metadata": {},
   "source": [
    "#### Датафрейм festival:\n",
    "- **Размер.** Файл содержит **10 строк и 4 столбца** (номер недели, количество билетов, неделя фестиваля, наименование фестивала).\n",
    "- **Тип данных** соответствует содержимому, изменения не требуются. Колонка *festival_week* имеет тип данных *float* из-за наличия **пропусков**.\n",
    "- **Пропуски** в колонках *festival_week* и *festival_name* имеют смысл -  на данной неделе не было фестивала.\n",
    "- **Дубликаты** отсутствуют. "
   ]
  },
  {
   "cell_type": "code",
   "execution_count": 13,
   "metadata": {},
   "outputs": [
    {
     "name": "stdout",
     "output_type": "stream",
     "text": [
      "Среднее значение выборки для неделей без фестивалей 51530.857142857145\n",
      "Среднее значение выборки для неделей c фестивалями 48662.666666666664\n"
     ]
    }
   ],
   "source": [
    "# создание выборок\n",
    "fest_no = festival[festival['festival_week'].isnull()]['ticket_amount'].values\n",
    "fest_yes = festival[festival['festival_week'].notnull()]['ticket_amount'].values\n",
    "\n",
    "print(f'Среднее значение выборки для неделей без фестивалей {fest_no.mean()}')\n",
    "print(f'Среднее значение выборки для неделей c фестивалями {fest_yes.mean()}')"
   ]
  },
  {
   "cell_type": "markdown",
   "metadata": {},
   "source": [
    "На первый взгляд количество билетов на время фестиваля **отличается** от обычной недели.  \n",
    "Однако отличие не совсем такое, как можно подумать: количество билетов на время фестивалей не больше, а **меньше**, чем в обычные недели.\n",
    "\n",
    "Тем не менее, следует проверить гипотезу:  \n",
    "***Средний спрос на билеты во время фестивалей не отличается от среднего спроса на билеты в обычное время***.\n",
    "\n",
    "Сформулируем нулевую и альтернативную гипотезу:  \n",
    "- **Нулевая гипотеза H₀**: Среднее количество проданных билетов во время фестивалей **не отличается** от среднего количества проданных билетов в обычное время, т. е. спрос одинаковый.\n",
    "- **Альтернативная гипотеза H₁**: Среднее количество проданных билетов во время фестивалей **отличается** от среднего количества проданных билетов в обычное время, т. е. спрос разный."
   ]
  },
  {
   "cell_type": "markdown",
   "metadata": {},
   "source": [
    "Необходимо сравнить *средний спрос*, т. е. среднее количество билетов, для двух выборок *Есть фестиваль* и *Нет фестиваля*.  \n",
    "- Проблема в том, что размер сравниваемых выборок **очень маленький**.\n",
    "- Для многих тестов необходимо, чтобы данные внутри каждой группы были **распределены нормально**.  \n",
    "Так, для 3 значений *Есть фестиваль* затруднительно определить, нормальное ли распределение.\n",
    "\n",
    "Для наглядности построим **график QQ-plot** для значений каждой выборки и используем тест **Шапиро-Уилка** для проверки распределения на нормальность:"
   ]
  },
  {
   "cell_type": "code",
   "execution_count": 14,
   "metadata": {},
   "outputs": [
    {
     "data": {
      "image/png": "[encoded data removed]",
      "text/plain": [
       "<Figure size 720x360 with 2 Axes>"
      ]
     },
     "metadata": {
      "needs_background": "light"
     },
     "output_type": "display_data"
    }
   ],
   "source": [
    "fig = plt.figure(figsize=(10, 5))\n",
    "\n",
    "ax1 = fig.add_subplot(221)\n",
    "ax2 = fig.add_subplot(222)\n",
    "\n",
    "plt.subplots_adjust(wspace=0.3, hspace=None)\n",
    "\n",
    "ax1.title.set_text('Недели без фестивалей')\n",
    "ax2.title.set_text('Недели с фестивалями')\n",
    "\n",
    "sm.qqplot(st.zscore(fest_no), line ='45', ax=ax1)\n",
    "sm.qqplot(st.zscore(fest_yes), line ='45', ax=ax2)\n",
    "\n",
    "py.show()"
   ]
  },
  {
   "cell_type": "code",
   "execution_count": 15,
   "metadata": {
    "scrolled": true
   },
   "outputs": [
    {
     "name": "stdout",
     "output_type": "stream",
     "text": [
      "Датафрейм \"Нет фестиваля\"\n",
      "Не получилось отвергнуть нулевую гипотезу, значение p-value 0.29630061984062195\n",
      "\n",
      "Датафрейм \"Есть фестиваль\"\n",
      "Не получилось отвергнуть нулевую гипотезу, значение p-value 0.07614270597696304\n",
      "\n"
     ]
    }
   ],
   "source": [
    "# тест Шапиро-Уилка\n",
    "for k, v in {'Датафрейм \"Нет фестиваля\"': st.shapiro(fest_no), 'Датафрейм \"Есть фестиваль\"': st.shapiro(fest_yes)}.items():\n",
    "    print(k)\n",
    "    alpha = .05\n",
    "    if st.shapiro(fest_no)[1] >= alpha:\n",
    "        print(f'Не получилось отвергнуть нулевую гипотезу, значение p-value {v[1]}')\n",
    "    else:\n",
    "        print(f'Отвергаем нулевую гипотезу, значение p-value {v[1]}')\n",
    "    print()"
   ]
  },
  {
   "cell_type": "markdown",
   "metadata": {},
   "source": [
    "- В данном случае при проверке распределения на нормальность с помощью теста **Шапиро-Уилка** у нас **не получилось** отвергнуть нулевую гипотезу, т. е. распределение не отличается от нормального.\n",
    "- Однако, как было сказано выше, количество наблюдений в выборках **слишком маленькое**."
   ]
  },
  {
   "cell_type": "markdown",
   "metadata": {},
   "source": [
    "Когда нет уверенности относительно нормального распределения данных, рекомендуется использование **непараметрических** тестов.\n",
    "\n",
    "Для сравнения результатов используем **оба теста**: *парный t-тест для независимых выборок* (параметрический) и *U-критерий Манна-Уитни* (непараметрический)."
   ]
  },
  {
   "cell_type": "code",
   "execution_count": 16,
   "metadata": {},
   "outputs": [
    {
     "name": "stdout",
     "output_type": "stream",
     "text": [
      "p-значение: 0.09688869045922928\n",
      "Не получилось отвергнуть нулевую гипотезу\n"
     ]
    }
   ],
   "source": [
    "# парный t-тест для независимых выборок\n",
    "alpha = .05 \n",
    "\n",
    "results = st.ttest_ind(fest_no, fest_yes)\n",
    "print('p-значение:', results.pvalue)\n",
    "\n",
    "if (results.pvalue < alpha):\n",
    "    print(\"Отвергаем нулевую гипотезу\")\n",
    "else:\n",
    "    print(\"Не получилось отвергнуть нулевую гипотезу\")"
   ]
  },
  {
   "cell_type": "code",
   "execution_count": 17,
   "metadata": {},
   "outputs": [
    {
     "name": "stdout",
     "output_type": "stream",
     "text": [
      "p-значение: 0.03412374418900064\n",
      "Отвергаем нулевую гипотезу\n"
     ]
    }
   ],
   "source": [
    "# U-критерий Манна-Уитни\n",
    "alpha = .05 \n",
    "\n",
    "results = st.mannwhitneyu(fest_no, fest_yes)\n",
    "print('p-значение:', results.pvalue)\n",
    "\n",
    "if (results.pvalue < alpha):\n",
    "    print(\"Отвергаем нулевую гипотезу\")\n",
    "else:\n",
    "    print(\"Не получилось отвергнуть нулевую гипотезу\")"
   ]
  },
  {
   "cell_type": "markdown",
   "metadata": {},
   "source": [
    "- В случае с *парным t-тестом для независимых выборок* у нас **не получилось** отвергнуть нулевую гипотезу, т. е. спрос на билеты **одинаковый**.\n",
    "- В случае в *U-критерием Манна-Уитни* у нас **получилось** отвергнуть нулевую гипотезу, т. е. спрос на билеты **различается**.\n",
    "\n",
    "Тем не менее, поскольку элементов в выборках **очень мало**, сделать какие-либо однозначные выводы представляется **затруднительным**. Следовало бы рассмотреть выборку с большим количеством элементов.  \n",
    "\n",
    "Мы дополнительно проверили, возможно ли **расширить выборку** за счёт существующих данных. Например, взять более продолжительный период или другой год (хотя здесь возникает риск сезонности). Дополнительных данных не оказалось: максимальное количество фестивалей **в Москве** (3 фестиваля) и **в Санкт-Петербурге** (2 фестиваля).  "
   ]
  },
  {
   "cell_type": "markdown",
   "metadata": {},
   "source": [
    "## Вывод 2\n",
    "\n",
    "- **Сформулированы H₀ и H₁:**\n",
    " - **Нулевая гипотеза H₀**: Среднее количество проданных билетов во время фестивалей **не отличается** от среднего количества проданных билетов в обычное время, т. е. спрос одинаковый.\n",
    " - **Альтернативная гипотеза H₁**: Среднее количество проданных билетов во время фестивалей **отличается** от среднего количества проданных билетов в обычное время, т. е. спрос разный.\n",
    "\n",
    "\n",
    "- **Обнаружены следующие проблемы:**\n",
    " - Размер сравниваемых выборок **очень маленький**.\n",
    " - Для многих тестов необходимо, чтобы данные внутри каждой группы были **распределены нормально**.  \n",
    " \n",
    " \n",
    "- **Проведение проверки гипотезы:**\n",
    " - Для данных, где нет уверенности относительно нормальности распределения, принято использовать **непараметрические тесты**.\n",
    " - Для сравнения результатов было принято решение использовать **два теста**: *парный t-тест для независимых выборок* (параметрический) и *U-критерий Манна-Уитни* (непараметрический).\n",
    " - В случае с *парным t-тестом для независимых выборок* у нас **не получилось** отвергнуть нулевую гипотезу, т. е. спрос на билеты **одинаковый**.\n",
    " - В случае в *U-критерием Манна-Уитни* у нас **получилось** отвергнуть нулевую гипотезу, т. е. спрос на билеты **различается**.\n",
    "\n",
    "\n",
    "- Дополнительно было проверено, возможно ли **расширить выборку** за счёт существующих данных. Например, взять более продолжительный период или другой год. Дополнительных данных не оказалось.\n",
    "\n",
    "\n",
    "\n",
    "- Поскольку элементов в выборках **очень мало**, сделать какие-либо однозначные выводы представляется **затруднительным**."
   ]
  },
  {
   "cell_type": "markdown",
   "metadata": {},
   "source": [
    "# Итоговый вывод\n",
    "\n",
    "### 1. Анализ\n",
    "- Рассмотрены исходные файлы для анализа: *query_1.csv* (модели самолётов) и *query_3.csv* (количество прибывающих рейсов для городов).\n",
    "- Проблем с выгруженными данными нет: отсутствуют пропуски, дубликаты, тип данных соответствует содержимому.\n",
    "- Самые популярные **модели самолётов**: *Cessna 208 Caravan*, *Bombardier CRJ-200*, *Sukhoi SuperJet-100*.\n",
    "- Эти самолёты имеют **самую короткую** дальность полёта. Такая закономерность может быть связана с тем, что для регулярных коротких перевозок нецелесообразно использовать самолёты, предназначенные для длительных полётов.\n",
    "- Для большинства выбранных **городов** количество прибывающих рейсов в день **не превышает 6**.\n",
    "- Больше всего рейсов прибывает в **Москву** - в среднем **129 рейсов в день**.\n",
    "\n",
    "### 2. Проверка гипотезы\n",
    "- Сформулированы H₀ и H₁:\n",
    " - **Нулевая гипотеза H₀**: Среднее количество проданных билетов во время фестивалей **не отличается** от среднего количества проданных билетов в обычное время, т. е. спрос одинаковый.\n",
    " - **Альтернативная гипотеза H₁**: Среднее количество проданных билетов во время фестивалей **отличается** от среднего количества проданных билетов в обычное время, т. е. спрос разный.\n",
    "\n",
    "\n",
    "- Поскольку размер выборок (недели с фестивалями и без) **очень маленький**, то не совсем корректно использовать методы, требующие **нормального распределения** внутри групп.\n",
    "\n",
    "\n",
    "- Тем не менее, для сравнения результатов было принято решение использовать **два теста**: *парный t-тест для независимых выборок* (параметрический) и *U-критерий Манна-Уитни* (непараметрический):\n",
    " - В случае с *парным t-тестом для независимых выборок* у нас **не получилось** отвергнуть нулевую гипотезу, т. е. спрос на билеты **одинаковый**.\n",
    " - В случае в *U-критерием Манна-Уитни* у нас **получилось** отвергнуть нулевую гипотезу, т. е. спрос на билеты **различается**.\n",
    "\n",
    "\n",
    "- Дополнительно было проверено, возможно ли **расширить выборку** за счёт существующих данных. Например, взять более продолжительный период или другой год. Дополнительных данных не оказалось.\n",
    "- Поскольку элементов в выборках **очень мало**, сделать какие-либо однозначные выводы представляется **затруднительным**."
   ]
  }
 ],
 "metadata": {
  "kernelspec": {
   "display_name": "Python 3",
   "language": "python",
   "name": "python3"
  },
  "language_info": {
   "codemirror_mode": {
    "name": "ipython",
    "version": 3
   },
   "file_extension": ".py",
   "mimetype": "text/x-python",
   "name": "python",
   "nbconvert_exporter": "python",
   "pygments_lexer": "ipython3",
   "version": "3.7.6"
  }
 },
 "nbformat": 4,
 "nbformat_minor": 2
}
