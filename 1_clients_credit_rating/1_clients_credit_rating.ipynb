{
 "cells": [
  {
   "cell_type": "markdown",
   "metadata": {},
   "source": [
    "# Исследование надёжности заёмщиков\n",
    "\n",
    "#### Тема проекта:\n",
    "- Исследование надёжности заёмщиков, принадлежащих к различным социально-экономическим группам.  \n",
    "\n",
    "#### Цель:\n",
    "- Сделать предобработку данных и вывести информацию по доле должников для выделенных групп.\n",
    "\n",
    "#### Поставленные задачи:\n",
    "- Сделать предобработку данных:\n",
    "   - Изучить пропуски, дубликаты, аномальные значения;\n",
    "   - Провести лемматизацию целей кредита;\n",
    "   - Сделать категоризацию для запрашиваемых групп.\n",
    "- Сравнить группы, в зависимости от наличия детей, семейного статуса, целей кредита, группы дохода.\n",
    "- По каждой группе вывести табличную и графическую информация по ситуации с должниками.\n",
    "\n",
    "#### Краткий план работы:\n",
    "- Шаг 1. Открытие и изучение файла;\n",
    "- Шаг 2. Предобработка данных;\n",
    "- Шаг 3. Вывод информации по группам.\n",
    "\n",
    "#### Вывод:\n",
    "- Проведена предобработа данных.\n",
    "- Выведена информация по запрашиваемым социально-экономическим группам.\n",
    "\n",
    "**Статус проекта**: проект завершён.\n",
    "\n",
    "**Используемые библиотеки**: *numpy*, *pandas*, *matplotlib*, *pymystem3*, *collections*\n",
    "\n",
    "**Источник данных**: [курс Data Science от Яндекс.Практикум](https://praktikum.yandex.ru/profile/data-scientist/)"
   ]
  },
  {
   "cell_type": "code",
   "execution_count": 1,
   "metadata": {},
   "outputs": [],
   "source": [
    "# отключение предупреждений\n",
    "import warnings\n",
    "warnings.filterwarnings('ignore') \n",
    "\n",
    "# импорт библиотек и функций для дальнейшей работы\n",
    "import numpy as np\n",
    "import pandas as pd\n",
    "import matplotlib.pyplot as plt\n",
    "\n",
    "from pymystem3 import Mystem\n",
    "from collections import Counter"
   ]
  },
  {
   "cell_type": "markdown",
   "metadata": {},
   "source": [
    "## Шаг 1. Открытие и изучение файла\n",
    "\n",
    "Выгрузим файл в датафрейм и посмотрим **общую информацию** по данным:"
   ]
  },
  {
   "cell_type": "code",
   "execution_count": 2,
   "metadata": {},
   "outputs": [
    {
     "name": "stdout",
     "output_type": "stream",
     "text": [
      "<class 'pandas.core.frame.DataFrame'>\n",
      "RangeIndex: 21525 entries, 0 to 21524\n",
      "Data columns (total 12 columns):\n",
      "children            21525 non-null int64\n",
      "days_employed       19351 non-null float64\n",
      "dob_years           21525 non-null int64\n",
      "education           21525 non-null object\n",
      "education_id        21525 non-null int64\n",
      "family_status       21525 non-null object\n",
      "family_status_id    21525 non-null int64\n",
      "gender              21525 non-null object\n",
      "income_type         21525 non-null object\n",
      "debt                21525 non-null int64\n",
      "total_income        19351 non-null float64\n",
      "purpose             21525 non-null object\n",
      "dtypes: float64(2), int64(5), object(5)\n",
      "memory usage: 2.0+ MB\n",
      "None\n"
     ]
    },
    {
     "data": {
      "text/html": [
       "<div>\n",
       "<style scoped>\n",
       "    .dataframe tbody tr th:only-of-type {\n",
       "        vertical-align: middle;\n",
       "    }\n",
       "\n",
       "    .dataframe tbody tr th {\n",
       "        vertical-align: top;\n",
       "    }\n",
       "\n",
       "    .dataframe thead th {\n",
       "        text-align: right;\n",
       "    }\n",
       "</style>\n",
       "<table border=\"1\" class=\"dataframe\">\n",
       "  <thead>\n",
       "    <tr style=\"text-align: right;\">\n",
       "      <th></th>\n",
       "      <th>children</th>\n",
       "      <th>days_employed</th>\n",
       "      <th>dob_years</th>\n",
       "      <th>education</th>\n",
       "      <th>education_id</th>\n",
       "      <th>family_status</th>\n",
       "      <th>family_status_id</th>\n",
       "      <th>gender</th>\n",
       "      <th>income_type</th>\n",
       "      <th>debt</th>\n",
       "      <th>total_income</th>\n",
       "      <th>purpose</th>\n",
       "    </tr>\n",
       "  </thead>\n",
       "  <tbody>\n",
       "    <tr>\n",
       "      <td>0</td>\n",
       "      <td>1</td>\n",
       "      <td>-8437.673028</td>\n",
       "      <td>42</td>\n",
       "      <td>высшее</td>\n",
       "      <td>0</td>\n",
       "      <td>женат / замужем</td>\n",
       "      <td>0</td>\n",
       "      <td>F</td>\n",
       "      <td>сотрудник</td>\n",
       "      <td>0</td>\n",
       "      <td>253875.639453</td>\n",
       "      <td>покупка жилья</td>\n",
       "    </tr>\n",
       "    <tr>\n",
       "      <td>1</td>\n",
       "      <td>1</td>\n",
       "      <td>-4024.803754</td>\n",
       "      <td>36</td>\n",
       "      <td>среднее</td>\n",
       "      <td>1</td>\n",
       "      <td>женат / замужем</td>\n",
       "      <td>0</td>\n",
       "      <td>F</td>\n",
       "      <td>сотрудник</td>\n",
       "      <td>0</td>\n",
       "      <td>112080.014102</td>\n",
       "      <td>приобретение автомобиля</td>\n",
       "    </tr>\n",
       "    <tr>\n",
       "      <td>2</td>\n",
       "      <td>0</td>\n",
       "      <td>-5623.422610</td>\n",
       "      <td>33</td>\n",
       "      <td>Среднее</td>\n",
       "      <td>1</td>\n",
       "      <td>женат / замужем</td>\n",
       "      <td>0</td>\n",
       "      <td>M</td>\n",
       "      <td>сотрудник</td>\n",
       "      <td>0</td>\n",
       "      <td>145885.952297</td>\n",
       "      <td>покупка жилья</td>\n",
       "    </tr>\n",
       "    <tr>\n",
       "      <td>3</td>\n",
       "      <td>3</td>\n",
       "      <td>-4124.747207</td>\n",
       "      <td>32</td>\n",
       "      <td>среднее</td>\n",
       "      <td>1</td>\n",
       "      <td>женат / замужем</td>\n",
       "      <td>0</td>\n",
       "      <td>M</td>\n",
       "      <td>сотрудник</td>\n",
       "      <td>0</td>\n",
       "      <td>267628.550329</td>\n",
       "      <td>дополнительное образование</td>\n",
       "    </tr>\n",
       "    <tr>\n",
       "      <td>4</td>\n",
       "      <td>0</td>\n",
       "      <td>340266.072047</td>\n",
       "      <td>53</td>\n",
       "      <td>среднее</td>\n",
       "      <td>1</td>\n",
       "      <td>гражданский брак</td>\n",
       "      <td>1</td>\n",
       "      <td>F</td>\n",
       "      <td>пенсионер</td>\n",
       "      <td>0</td>\n",
       "      <td>158616.077870</td>\n",
       "      <td>сыграть свадьбу</td>\n",
       "    </tr>\n",
       "    <tr>\n",
       "      <td>5</td>\n",
       "      <td>0</td>\n",
       "      <td>-926.185831</td>\n",
       "      <td>27</td>\n",
       "      <td>высшее</td>\n",
       "      <td>0</td>\n",
       "      <td>гражданский брак</td>\n",
       "      <td>1</td>\n",
       "      <td>M</td>\n",
       "      <td>компаньон</td>\n",
       "      <td>0</td>\n",
       "      <td>255763.565419</td>\n",
       "      <td>покупка жилья</td>\n",
       "    </tr>\n",
       "    <tr>\n",
       "      <td>6</td>\n",
       "      <td>0</td>\n",
       "      <td>-2879.202052</td>\n",
       "      <td>43</td>\n",
       "      <td>высшее</td>\n",
       "      <td>0</td>\n",
       "      <td>женат / замужем</td>\n",
       "      <td>0</td>\n",
       "      <td>F</td>\n",
       "      <td>компаньон</td>\n",
       "      <td>0</td>\n",
       "      <td>240525.971920</td>\n",
       "      <td>операции с жильем</td>\n",
       "    </tr>\n",
       "    <tr>\n",
       "      <td>7</td>\n",
       "      <td>0</td>\n",
       "      <td>-152.779569</td>\n",
       "      <td>50</td>\n",
       "      <td>СРЕДНЕЕ</td>\n",
       "      <td>1</td>\n",
       "      <td>женат / замужем</td>\n",
       "      <td>0</td>\n",
       "      <td>M</td>\n",
       "      <td>сотрудник</td>\n",
       "      <td>0</td>\n",
       "      <td>135823.934197</td>\n",
       "      <td>образование</td>\n",
       "    </tr>\n",
       "    <tr>\n",
       "      <td>8</td>\n",
       "      <td>2</td>\n",
       "      <td>-6929.865299</td>\n",
       "      <td>35</td>\n",
       "      <td>ВЫСШЕЕ</td>\n",
       "      <td>0</td>\n",
       "      <td>гражданский брак</td>\n",
       "      <td>1</td>\n",
       "      <td>F</td>\n",
       "      <td>сотрудник</td>\n",
       "      <td>0</td>\n",
       "      <td>95856.832424</td>\n",
       "      <td>на проведение свадьбы</td>\n",
       "    </tr>\n",
       "    <tr>\n",
       "      <td>9</td>\n",
       "      <td>0</td>\n",
       "      <td>-2188.756445</td>\n",
       "      <td>41</td>\n",
       "      <td>среднее</td>\n",
       "      <td>1</td>\n",
       "      <td>женат / замужем</td>\n",
       "      <td>0</td>\n",
       "      <td>M</td>\n",
       "      <td>сотрудник</td>\n",
       "      <td>0</td>\n",
       "      <td>144425.938277</td>\n",
       "      <td>покупка жилья для семьи</td>\n",
       "    </tr>\n",
       "  </tbody>\n",
       "</table>\n",
       "</div>"
      ],
      "text/plain": [
       "   children  days_employed  dob_years education  education_id  \\\n",
       "0         1   -8437.673028         42    высшее             0   \n",
       "1         1   -4024.803754         36   среднее             1   \n",
       "2         0   -5623.422610         33   Среднее             1   \n",
       "3         3   -4124.747207         32   среднее             1   \n",
       "4         0  340266.072047         53   среднее             1   \n",
       "5         0    -926.185831         27    высшее             0   \n",
       "6         0   -2879.202052         43    высшее             0   \n",
       "7         0    -152.779569         50   СРЕДНЕЕ             1   \n",
       "8         2   -6929.865299         35    ВЫСШЕЕ             0   \n",
       "9         0   -2188.756445         41   среднее             1   \n",
       "\n",
       "      family_status  family_status_id gender income_type  debt   total_income  \\\n",
       "0   женат / замужем                 0      F   сотрудник     0  253875.639453   \n",
       "1   женат / замужем                 0      F   сотрудник     0  112080.014102   \n",
       "2   женат / замужем                 0      M   сотрудник     0  145885.952297   \n",
       "3   женат / замужем                 0      M   сотрудник     0  267628.550329   \n",
       "4  гражданский брак                 1      F   пенсионер     0  158616.077870   \n",
       "5  гражданский брак                 1      M   компаньон     0  255763.565419   \n",
       "6   женат / замужем                 0      F   компаньон     0  240525.971920   \n",
       "7   женат / замужем                 0      M   сотрудник     0  135823.934197   \n",
       "8  гражданский брак                 1      F   сотрудник     0   95856.832424   \n",
       "9   женат / замужем                 0      M   сотрудник     0  144425.938277   \n",
       "\n",
       "                      purpose  \n",
       "0               покупка жилья  \n",
       "1     приобретение автомобиля  \n",
       "2               покупка жилья  \n",
       "3  дополнительное образование  \n",
       "4             сыграть свадьбу  \n",
       "5               покупка жилья  \n",
       "6           операции с жильем  \n",
       "7                 образование  \n",
       "8       на проведение свадьбы  \n",
       "9     покупка жилья для семьи  "
      ]
     },
     "execution_count": 2,
     "metadata": {},
     "output_type": "execute_result"
    }
   ],
   "source": [
    "# загрузка файла\n",
    "debt_raw = pd.read_csv('/datasets/data.csv')\n",
    "\n",
    "# проверка общей информации\n",
    "print(debt_raw.info())\n",
    "\n",
    "# вывод первых строк\n",
    "debt_raw.head(10)"
   ]
  },
  {
   "cell_type": "markdown",
   "metadata": {},
   "source": [
    "- **Размер датафрейма**. В таблице содержится **21525 наблюдений** и **12 колонок** (различных признаков).\n",
    "- **Пропущенные значения**. В колонках *days_employed* и *total_income* есть пропуски. Количество строк в этих колонках совпадает (19351 строк).\n",
    "- **Тип данных**. На первый взгляд явных проблем нет (например, если бы *total_income* имел тип object). Но можно изменить тип данных *days_employed* (общий трудовой стаж в днях) на int64.\n",
    "\n",
    "С данными в некоторых колонках видны явные проблемы даже в первых 10 строках:\n",
    " - Колонка **days_employed** - общий трудовой стаж в днях. Присутствуют **отрицательные** и **очень большие значения**. Так, в строке с индексом 4 есть значение 340266.072047 дней, т. е. 932 года.\n",
    " - Колонка **education** - явно есть проблемы с **регистром**.\n",
    " - Колонка **total_income** - в идеале, нужно уточнить валюту и округлить до 2 знаков после запятой."
   ]
  },
  {
   "cell_type": "markdown",
   "metadata": {},
   "source": [
    "Посмотрим, нет ли проблем в **наименовании колонок**: разный регистр, лишние пробелы и др."
   ]
  },
  {
   "cell_type": "code",
   "execution_count": 3,
   "metadata": {},
   "outputs": [
    {
     "data": {
      "text/plain": [
       "Index(['children', 'days_employed', 'dob_years', 'education', 'education_id',\n",
       "       'family_status', 'family_status_id', 'gender', 'income_type', 'debt',\n",
       "       'total_income', 'purpose'],\n",
       "      dtype='object')"
      ]
     },
     "execution_count": 3,
     "metadata": {},
     "output_type": "execute_result"
    }
   ],
   "source": [
    "# проверка названия колонок\n",
    "debt_raw.columns"
   ]
  },
  {
   "cell_type": "markdown",
   "metadata": {},
   "source": [
    "Все названия колонок указаны латиницей, маленькими буквами, без лишних пробелов. Названия можно оставить в текущем виде.\n",
    "\n",
    "Проверим наши данные на предмет наличия **дубликатов**:"
   ]
  },
  {
   "cell_type": "code",
   "execution_count": 4,
   "metadata": {},
   "outputs": [
    {
     "name": "stdout",
     "output_type": "stream",
     "text": [
      "Количество дубликатов: 54\n"
     ]
    },
    {
     "data": {
      "text/html": [
       "<div>\n",
       "<style scoped>\n",
       "    .dataframe tbody tr th:only-of-type {\n",
       "        vertical-align: middle;\n",
       "    }\n",
       "\n",
       "    .dataframe tbody tr th {\n",
       "        vertical-align: top;\n",
       "    }\n",
       "\n",
       "    .dataframe thead th {\n",
       "        text-align: right;\n",
       "    }\n",
       "</style>\n",
       "<table border=\"1\" class=\"dataframe\">\n",
       "  <thead>\n",
       "    <tr style=\"text-align: right;\">\n",
       "      <th></th>\n",
       "      <th>children</th>\n",
       "      <th>days_employed</th>\n",
       "      <th>dob_years</th>\n",
       "      <th>education</th>\n",
       "      <th>education_id</th>\n",
       "      <th>family_status</th>\n",
       "      <th>family_status_id</th>\n",
       "      <th>gender</th>\n",
       "      <th>income_type</th>\n",
       "      <th>debt</th>\n",
       "      <th>total_income</th>\n",
       "      <th>purpose</th>\n",
       "    </tr>\n",
       "  </thead>\n",
       "  <tbody>\n",
       "    <tr>\n",
       "      <td>2849</td>\n",
       "      <td>0</td>\n",
       "      <td>NaN</td>\n",
       "      <td>41</td>\n",
       "      <td>среднее</td>\n",
       "      <td>1</td>\n",
       "      <td>женат / замужем</td>\n",
       "      <td>0</td>\n",
       "      <td>F</td>\n",
       "      <td>сотрудник</td>\n",
       "      <td>0</td>\n",
       "      <td>NaN</td>\n",
       "      <td>покупка жилья для семьи</td>\n",
       "    </tr>\n",
       "    <tr>\n",
       "      <td>4182</td>\n",
       "      <td>1</td>\n",
       "      <td>NaN</td>\n",
       "      <td>34</td>\n",
       "      <td>ВЫСШЕЕ</td>\n",
       "      <td>0</td>\n",
       "      <td>гражданский брак</td>\n",
       "      <td>1</td>\n",
       "      <td>F</td>\n",
       "      <td>сотрудник</td>\n",
       "      <td>0</td>\n",
       "      <td>NaN</td>\n",
       "      <td>свадьба</td>\n",
       "    </tr>\n",
       "    <tr>\n",
       "      <td>4851</td>\n",
       "      <td>0</td>\n",
       "      <td>NaN</td>\n",
       "      <td>60</td>\n",
       "      <td>среднее</td>\n",
       "      <td>1</td>\n",
       "      <td>гражданский брак</td>\n",
       "      <td>1</td>\n",
       "      <td>F</td>\n",
       "      <td>пенсионер</td>\n",
       "      <td>0</td>\n",
       "      <td>NaN</td>\n",
       "      <td>свадьба</td>\n",
       "    </tr>\n",
       "    <tr>\n",
       "      <td>5557</td>\n",
       "      <td>0</td>\n",
       "      <td>NaN</td>\n",
       "      <td>58</td>\n",
       "      <td>среднее</td>\n",
       "      <td>1</td>\n",
       "      <td>гражданский брак</td>\n",
       "      <td>1</td>\n",
       "      <td>F</td>\n",
       "      <td>пенсионер</td>\n",
       "      <td>0</td>\n",
       "      <td>NaN</td>\n",
       "      <td>сыграть свадьбу</td>\n",
       "    </tr>\n",
       "    <tr>\n",
       "      <td>7808</td>\n",
       "      <td>0</td>\n",
       "      <td>NaN</td>\n",
       "      <td>57</td>\n",
       "      <td>среднее</td>\n",
       "      <td>1</td>\n",
       "      <td>гражданский брак</td>\n",
       "      <td>1</td>\n",
       "      <td>F</td>\n",
       "      <td>пенсионер</td>\n",
       "      <td>0</td>\n",
       "      <td>NaN</td>\n",
       "      <td>на проведение свадьбы</td>\n",
       "    </tr>\n",
       "  </tbody>\n",
       "</table>\n",
       "</div>"
      ],
      "text/plain": [
       "      children  days_employed  dob_years education  education_id  \\\n",
       "2849         0            NaN         41   среднее             1   \n",
       "4182         1            NaN         34    ВЫСШЕЕ             0   \n",
       "4851         0            NaN         60   среднее             1   \n",
       "5557         0            NaN         58   среднее             1   \n",
       "7808         0            NaN         57   среднее             1   \n",
       "\n",
       "         family_status  family_status_id gender income_type  debt  \\\n",
       "2849   женат / замужем                 0      F   сотрудник     0   \n",
       "4182  гражданский брак                 1      F   сотрудник     0   \n",
       "4851  гражданский брак                 1      F   пенсионер     0   \n",
       "5557  гражданский брак                 1      F   пенсионер     0   \n",
       "7808  гражданский брак                 1      F   пенсионер     0   \n",
       "\n",
       "      total_income                  purpose  \n",
       "2849           NaN  покупка жилья для семьи  \n",
       "4182           NaN                  свадьба  \n",
       "4851           NaN                  свадьба  \n",
       "5557           NaN          сыграть свадьбу  \n",
       "7808           NaN    на проведение свадьбы  "
      ]
     },
     "execution_count": 4,
     "metadata": {},
     "output_type": "execute_result"
    }
   ],
   "source": [
    "# подсчет количества задублированных строк\n",
    "print('Количество дубликатов:', debt_raw.duplicated().sum())\n",
    "\n",
    "# вывод нескольких строк\n",
    "debt_raw[debt_raw.duplicated()].head()"
   ]
  },
  {
   "cell_type": "markdown",
   "metadata": {},
   "source": [
    "## Шаг 1. Вывод\n",
    "\n",
    "Первые наблюдения при ознакомлении с данными:  \n",
    "\n",
    "- Данные содержат **21525 наблюдений**, т.е. информацию по 21525 обращениям для займа, а также **12 колонок** - различные социально-экономические характеристики клиента и статус возврата долга.\n",
    "- В таблице есть **пропущенные значения** в колонках *days_employed* и *total_income*. \n",
    "- На первый взгляд с **типом данных** нет явных проблем. Но, возможно, стоит изменить тип данных *days_employed* (общий трудовой стаж в днях) на int64.\n",
    "- С **наименованиями колонок** явных проблем не обнаружено. Все названия указаны латиницей, маленькими буквами, без лишних пробелов.\n",
    "- При первом ознакомлении в таблице есть **54 явных дубликата**. В разделе работы с дубликатами данные будут изучены более детально.\n",
    "\n",
    "Есть дополнительные вопросы к значениям в колонках *days_employed*, *education*, *total_income*:\n",
    " - Колонка *days_employed* - общий трудовой стаж в днях. Присутствуют **отрицательные** и **очень большие значения**, которые вряд ли могут быть стажем в днях.\n",
    " - Колонка *education* - явно есть проблемы с **регистром**.\n",
    " - Колонка *total_income* - в идеале, нужно уточнить валюту и округлить до 2 знаков после запятой."
   ]
  },
  {
   "cell_type": "markdown",
   "metadata": {},
   "source": [
    "## Шаг 2. Предобработка данных\n",
    "\n",
    "Предобработка данных будет состоять из следующих этапов:\n",
    "- 2.1. Приведение данных к единому регистру\n",
    "- 2.2. Проверка данных на правдоподобность\n",
    "- 2.3. Обработка пропусков\n",
    "- 2.4. Обработка дубликатов\n",
    "- 2.5. Лемматизация значений *purpose*\n",
    "- 2.6. Категоризация"
   ]
  },
  {
   "cell_type": "markdown",
   "metadata": {},
   "source": [
    "### 2.1. Приведение данных к единому регистру\n",
    "\n",
    "Ранее мы отметили, что даже в первых строках в некоторых колонках были **проблемы с регистром**.  \n",
    "\n",
    "Сначала отдельно проверим значения в колонке *gender*:"
   ]
  },
  {
   "cell_type": "code",
   "execution_count": 5,
   "metadata": {},
   "outputs": [
    {
     "data": {
      "text/plain": [
       "F      14236\n",
       "M       7288\n",
       "XNA        1\n",
       "Name: gender, dtype: int64"
      ]
     },
     "execution_count": 5,
     "metadata": {},
     "output_type": "execute_result"
    }
   ],
   "source": [
    "# проверка значений\n",
    "debt_raw['gender'].value_counts()"
   ]
  },
  {
   "cell_type": "markdown",
   "metadata": {},
   "source": [
    "Присутствуют значения **F** - женский пол, **M** - мужской пол.  \n",
    "Также есть одно значение **XNA**, что, скорее всего, означает пропуск. Удалим данное наблюдение из датафрейма:"
   ]
  },
  {
   "cell_type": "code",
   "execution_count": 6,
   "metadata": {},
   "outputs": [
    {
     "name": "stdout",
     "output_type": "stream",
     "text": [
      "Количество строк ДО: 21525\n",
      "Количество строк ПОСЛЕ: 21524\n"
     ]
    }
   ],
   "source": [
    "# создадим рабочую копию\n",
    "debt = debt_raw.copy()\n",
    "\n",
    "print('Количество строк ДО:', len(debt))\n",
    "debt = debt[debt['gender'] != 'XNA']\n",
    "debt.reset_index(inplace=True, drop=True)\n",
    "print('Количество строк ПОСЛЕ:', len(debt))"
   ]
  },
  {
   "cell_type": "markdown",
   "metadata": {},
   "source": [
    "Теоретически данную колонку можно перевести в **логический тип**, например, 0 - M, 1 - F. Но пока оставим данные в текущем виде.\n",
    "\n",
    "Теперь исправим регистр в колонках типа object: *education*, *family_status*, *income_type*, *purpose*."
   ]
  },
  {
   "cell_type": "code",
   "execution_count": 7,
   "metadata": {},
   "outputs": [
    {
     "data": {
      "text/html": [
       "<div>\n",
       "<style scoped>\n",
       "    .dataframe tbody tr th:only-of-type {\n",
       "        vertical-align: middle;\n",
       "    }\n",
       "\n",
       "    .dataframe tbody tr th {\n",
       "        vertical-align: top;\n",
       "    }\n",
       "\n",
       "    .dataframe thead th {\n",
       "        text-align: right;\n",
       "    }\n",
       "</style>\n",
       "<table border=\"1\" class=\"dataframe\">\n",
       "  <thead>\n",
       "    <tr style=\"text-align: right;\">\n",
       "      <th></th>\n",
       "      <th>children</th>\n",
       "      <th>days_employed</th>\n",
       "      <th>dob_years</th>\n",
       "      <th>education</th>\n",
       "      <th>education_id</th>\n",
       "      <th>family_status</th>\n",
       "      <th>family_status_id</th>\n",
       "      <th>gender</th>\n",
       "      <th>income_type</th>\n",
       "      <th>debt</th>\n",
       "      <th>total_income</th>\n",
       "      <th>purpose</th>\n",
       "    </tr>\n",
       "  </thead>\n",
       "  <tbody>\n",
       "    <tr>\n",
       "      <td>0</td>\n",
       "      <td>1</td>\n",
       "      <td>-8437.673028</td>\n",
       "      <td>42</td>\n",
       "      <td>высшее</td>\n",
       "      <td>0</td>\n",
       "      <td>женат / замужем</td>\n",
       "      <td>0</td>\n",
       "      <td>F</td>\n",
       "      <td>сотрудник</td>\n",
       "      <td>0</td>\n",
       "      <td>253875.639453</td>\n",
       "      <td>покупка жилья</td>\n",
       "    </tr>\n",
       "    <tr>\n",
       "      <td>1</td>\n",
       "      <td>1</td>\n",
       "      <td>-4024.803754</td>\n",
       "      <td>36</td>\n",
       "      <td>среднее</td>\n",
       "      <td>1</td>\n",
       "      <td>женат / замужем</td>\n",
       "      <td>0</td>\n",
       "      <td>F</td>\n",
       "      <td>сотрудник</td>\n",
       "      <td>0</td>\n",
       "      <td>112080.014102</td>\n",
       "      <td>приобретение автомобиля</td>\n",
       "    </tr>\n",
       "    <tr>\n",
       "      <td>2</td>\n",
       "      <td>0</td>\n",
       "      <td>-5623.422610</td>\n",
       "      <td>33</td>\n",
       "      <td>среднее</td>\n",
       "      <td>1</td>\n",
       "      <td>женат / замужем</td>\n",
       "      <td>0</td>\n",
       "      <td>M</td>\n",
       "      <td>сотрудник</td>\n",
       "      <td>0</td>\n",
       "      <td>145885.952297</td>\n",
       "      <td>покупка жилья</td>\n",
       "    </tr>\n",
       "    <tr>\n",
       "      <td>3</td>\n",
       "      <td>3</td>\n",
       "      <td>-4124.747207</td>\n",
       "      <td>32</td>\n",
       "      <td>среднее</td>\n",
       "      <td>1</td>\n",
       "      <td>женат / замужем</td>\n",
       "      <td>0</td>\n",
       "      <td>M</td>\n",
       "      <td>сотрудник</td>\n",
       "      <td>0</td>\n",
       "      <td>267628.550329</td>\n",
       "      <td>дополнительное образование</td>\n",
       "    </tr>\n",
       "    <tr>\n",
       "      <td>4</td>\n",
       "      <td>0</td>\n",
       "      <td>340266.072047</td>\n",
       "      <td>53</td>\n",
       "      <td>среднее</td>\n",
       "      <td>1</td>\n",
       "      <td>гражданский брак</td>\n",
       "      <td>1</td>\n",
       "      <td>F</td>\n",
       "      <td>пенсионер</td>\n",
       "      <td>0</td>\n",
       "      <td>158616.077870</td>\n",
       "      <td>сыграть свадьбу</td>\n",
       "    </tr>\n",
       "  </tbody>\n",
       "</table>\n",
       "</div>"
      ],
      "text/plain": [
       "   children  days_employed  dob_years education  education_id  \\\n",
       "0         1   -8437.673028         42    высшее             0   \n",
       "1         1   -4024.803754         36   среднее             1   \n",
       "2         0   -5623.422610         33   среднее             1   \n",
       "3         3   -4124.747207         32   среднее             1   \n",
       "4         0  340266.072047         53   среднее             1   \n",
       "\n",
       "      family_status  family_status_id gender income_type  debt   total_income  \\\n",
       "0   женат / замужем                 0      F   сотрудник     0  253875.639453   \n",
       "1   женат / замужем                 0      F   сотрудник     0  112080.014102   \n",
       "2   женат / замужем                 0      M   сотрудник     0  145885.952297   \n",
       "3   женат / замужем                 0      M   сотрудник     0  267628.550329   \n",
       "4  гражданский брак                 1      F   пенсионер     0  158616.077870   \n",
       "\n",
       "                      purpose  \n",
       "0               покупка жилья  \n",
       "1     приобретение автомобиля  \n",
       "2               покупка жилья  \n",
       "3  дополнительное образование  \n",
       "4             сыграть свадьбу  "
      ]
     },
     "execution_count": 7,
     "metadata": {},
     "output_type": "execute_result"
    }
   ],
   "source": [
    "# изменение регистра для выбранных колонок\n",
    "obj_columns = ['education', 'family_status', 'income_type', 'purpose']\n",
    "for col_name in obj_columns:\n",
    "    debt[col_name] = debt[col_name].str.lower()\n",
    "    \n",
    "debt.head()"
   ]
  },
  {
   "cell_type": "markdown",
   "metadata": {},
   "source": [
    "Данные типа object приведены к нужному формату. Можем переходить к следующему пункту."
   ]
  },
  {
   "cell_type": "markdown",
   "metadata": {},
   "source": [
    "### 2.2. Проверка данных на правдоподобность"
   ]
  },
  {
   "cell_type": "markdown",
   "metadata": {},
   "source": [
    "#### Колонка children"
   ]
  },
  {
   "cell_type": "code",
   "execution_count": 8,
   "metadata": {},
   "outputs": [
    {
     "data": {
      "text/plain": [
       " 0     14148\n",
       " 1      4818\n",
       " 2      2055\n",
       " 3       330\n",
       " 20       76\n",
       "-1        47\n",
       " 4        41\n",
       " 5         9\n",
       "Name: children, dtype: int64"
      ]
     },
     "execution_count": 8,
     "metadata": {},
     "output_type": "execute_result"
    }
   ],
   "source": [
    "# колонка children\n",
    "debt['children'].value_counts()"
   ]
  },
  {
   "cell_type": "markdown",
   "metadata": {},
   "source": [
    "Присутствуют некоторые подозрительные значения. Например, **отрицательное значение** - возможно, это ошибка либо обозначение пропуска.\n",
    "\n",
    "Также в 76 случаях присутствует значение **20 детей**. В 2018 году семей с 11 и более детей [около 1000](https://www.virtualacademy.ru/news/statistika-kolichestva-detei-v-seme-v-rossii/). Вряд ли 7% этих семей имеют именно 20 детей и пришли именно в этот банк за кредитом.  \n",
    "\n",
    "В реальной жизни по обоим случаям необходимо уточнить информацию. Для текущей задачи мы **исключим** эти данные из таблицы."
   ]
  },
  {
   "cell_type": "code",
   "execution_count": 9,
   "metadata": {},
   "outputs": [
    {
     "name": "stdout",
     "output_type": "stream",
     "text": [
      "Количество строк ДО: 21524\n",
      "Количество строк ПОСЛЕ: 21401\n"
     ]
    }
   ],
   "source": [
    "print('Количество строк ДО:', len(debt))\n",
    "debt = debt[(debt['children'] != 20) & (debt['children'] != -1)]\n",
    "debt.reset_index(inplace=True, drop=True)\n",
    "print('Количество строк ПОСЛЕ:', len(debt))"
   ]
  },
  {
   "cell_type": "markdown",
   "metadata": {},
   "source": [
    "#### Колонка dob_years\n",
    "\n",
    "Проверим, присутствует ли в датафрейме возраст младше 18 лет и старше 75 лет:"
   ]
  },
  {
   "cell_type": "code",
   "execution_count": 10,
   "metadata": {},
   "outputs": [
    {
     "name": "stdout",
     "output_type": "stream",
     "text": [
      "0    100\n",
      "Name: dob_years, dtype: int64\n"
     ]
    },
    {
     "data": {
      "text/html": [
       "<div>\n",
       "<style scoped>\n",
       "    .dataframe tbody tr th:only-of-type {\n",
       "        vertical-align: middle;\n",
       "    }\n",
       "\n",
       "    .dataframe tbody tr th {\n",
       "        vertical-align: top;\n",
       "    }\n",
       "\n",
       "    .dataframe thead th {\n",
       "        text-align: right;\n",
       "    }\n",
       "</style>\n",
       "<table border=\"1\" class=\"dataframe\">\n",
       "  <thead>\n",
       "    <tr style=\"text-align: right;\">\n",
       "      <th></th>\n",
       "      <th>children</th>\n",
       "      <th>days_employed</th>\n",
       "      <th>dob_years</th>\n",
       "      <th>education</th>\n",
       "      <th>education_id</th>\n",
       "      <th>family_status</th>\n",
       "      <th>family_status_id</th>\n",
       "      <th>gender</th>\n",
       "      <th>income_type</th>\n",
       "      <th>debt</th>\n",
       "      <th>total_income</th>\n",
       "      <th>purpose</th>\n",
       "    </tr>\n",
       "  </thead>\n",
       "  <tbody>\n",
       "    <tr>\n",
       "      <td>99</td>\n",
       "      <td>0</td>\n",
       "      <td>346541.618895</td>\n",
       "      <td>0</td>\n",
       "      <td>среднее</td>\n",
       "      <td>1</td>\n",
       "      <td>женат / замужем</td>\n",
       "      <td>0</td>\n",
       "      <td>F</td>\n",
       "      <td>пенсионер</td>\n",
       "      <td>0</td>\n",
       "      <td>71291.522491</td>\n",
       "      <td>автомобиль</td>\n",
       "    </tr>\n",
       "    <tr>\n",
       "      <td>149</td>\n",
       "      <td>0</td>\n",
       "      <td>-2664.273168</td>\n",
       "      <td>0</td>\n",
       "      <td>среднее</td>\n",
       "      <td>1</td>\n",
       "      <td>в разводе</td>\n",
       "      <td>3</td>\n",
       "      <td>F</td>\n",
       "      <td>сотрудник</td>\n",
       "      <td>0</td>\n",
       "      <td>70176.435951</td>\n",
       "      <td>операции с жильем</td>\n",
       "    </tr>\n",
       "    <tr>\n",
       "      <td>270</td>\n",
       "      <td>3</td>\n",
       "      <td>-1872.663186</td>\n",
       "      <td>0</td>\n",
       "      <td>среднее</td>\n",
       "      <td>1</td>\n",
       "      <td>женат / замужем</td>\n",
       "      <td>0</td>\n",
       "      <td>F</td>\n",
       "      <td>сотрудник</td>\n",
       "      <td>0</td>\n",
       "      <td>102166.458894</td>\n",
       "      <td>ремонт жилью</td>\n",
       "    </tr>\n",
       "    <tr>\n",
       "      <td>577</td>\n",
       "      <td>0</td>\n",
       "      <td>397856.565013</td>\n",
       "      <td>0</td>\n",
       "      <td>среднее</td>\n",
       "      <td>1</td>\n",
       "      <td>женат / замужем</td>\n",
       "      <td>0</td>\n",
       "      <td>F</td>\n",
       "      <td>пенсионер</td>\n",
       "      <td>0</td>\n",
       "      <td>97620.687042</td>\n",
       "      <td>строительство собственной недвижимости</td>\n",
       "    </tr>\n",
       "    <tr>\n",
       "      <td>1033</td>\n",
       "      <td>0</td>\n",
       "      <td>-1158.029561</td>\n",
       "      <td>0</td>\n",
       "      <td>высшее</td>\n",
       "      <td>0</td>\n",
       "      <td>в разводе</td>\n",
       "      <td>3</td>\n",
       "      <td>F</td>\n",
       "      <td>компаньон</td>\n",
       "      <td>0</td>\n",
       "      <td>303994.134987</td>\n",
       "      <td>свой автомобиль</td>\n",
       "    </tr>\n",
       "  </tbody>\n",
       "</table>\n",
       "</div>"
      ],
      "text/plain": [
       "      children  days_employed  dob_years education  education_id  \\\n",
       "99           0  346541.618895          0   среднее             1   \n",
       "149          0   -2664.273168          0   среднее             1   \n",
       "270          3   -1872.663186          0   среднее             1   \n",
       "577          0  397856.565013          0   среднее             1   \n",
       "1033         0   -1158.029561          0    высшее             0   \n",
       "\n",
       "        family_status  family_status_id gender income_type  debt  \\\n",
       "99    женат / замужем                 0      F   пенсионер     0   \n",
       "149         в разводе                 3      F   сотрудник     0   \n",
       "270   женат / замужем                 0      F   сотрудник     0   \n",
       "577   женат / замужем                 0      F   пенсионер     0   \n",
       "1033        в разводе                 3      F   компаньон     0   \n",
       "\n",
       "       total_income                                 purpose  \n",
       "99     71291.522491                              автомобиль  \n",
       "149    70176.435951                       операции с жильем  \n",
       "270   102166.458894                            ремонт жилью  \n",
       "577    97620.687042  строительство собственной недвижимости  \n",
       "1033  303994.134987                         свой автомобиль  "
      ]
     },
     "execution_count": 10,
     "metadata": {},
     "output_type": "execute_result"
    }
   ],
   "source": [
    "# колонка dob_years\n",
    "print(debt[(debt['dob_years'] < 18) | (debt['dob_years'] > 75)]['dob_years'].value_counts())\n",
    "debt[(debt['dob_years'] < 18) | (debt['dob_years'] > 75)].head()"
   ]
  },
  {
   "cell_type": "markdown",
   "metadata": {},
   "source": [
    "Да, присутствует 100 строк с возрастом **0 лет**. Удалим данные строки из датафрейма:"
   ]
  },
  {
   "cell_type": "code",
   "execution_count": 11,
   "metadata": {},
   "outputs": [
    {
     "name": "stdout",
     "output_type": "stream",
     "text": [
      "Количество строк ДО: 21401\n",
      "Количество строк ПОСЛЕ: 21301\n"
     ]
    }
   ],
   "source": [
    "print('Количество строк ДО:', len(debt))\n",
    "debt = debt[debt['dob_years'] != 0]\n",
    "debt.reset_index(inplace=True, drop=True)\n",
    "print('Количество строк ПОСЛЕ:', len(debt))"
   ]
  },
  {
   "cell_type": "markdown",
   "metadata": {},
   "source": [
    "#### Колонка education"
   ]
  },
  {
   "cell_type": "code",
   "execution_count": 12,
   "metadata": {},
   "outputs": [
    {
     "data": {
      "text/plain": [
       "среднее                15073\n",
       "высшее                  5202\n",
       "неоконченное высшее      738\n",
       "начальное                282\n",
       "ученая степень             6\n",
       "Name: education, dtype: int64"
      ]
     },
     "execution_count": 12,
     "metadata": {},
     "output_type": "execute_result"
    }
   ],
   "source": [
    "# колонка education\n",
    "debt['education'].value_counts()"
   ]
  },
  {
   "cell_type": "markdown",
   "metadata": {},
   "source": [
    "Проблем и подозрительных значений нет. Проверим взаимное соответствие *education* и *education_id*:"
   ]
  },
  {
   "cell_type": "code",
   "execution_count": 13,
   "metadata": {},
   "outputs": [
    {
     "data": {
      "text/plain": [
       "education\n",
       "высшее                 [0]\n",
       "начальное              [3]\n",
       "неоконченное высшее    [2]\n",
       "среднее                [1]\n",
       "ученая степень         [4]\n",
       "Name: education_id, dtype: object"
      ]
     },
     "execution_count": 13,
     "metadata": {},
     "output_type": "execute_result"
    }
   ],
   "source": [
    "# проверка взаимного соответствия\n",
    "debt.groupby(\"education\")[\"education_id\"].unique()"
   ]
  },
  {
   "cell_type": "markdown",
   "metadata": {},
   "source": [
    "Всё в порядке, каждому типу образования соответствует один определённый id."
   ]
  },
  {
   "cell_type": "markdown",
   "metadata": {},
   "source": [
    "#### Колонка family_status\n",
    "\n",
    "Поскольку у нас также присутствует колонка с id, сразу проверим колонки *family_status* и *family_status_id* на взаимное соответствие."
   ]
  },
  {
   "cell_type": "code",
   "execution_count": 14,
   "metadata": {},
   "outputs": [
    {
     "data": {
      "text/plain": [
       "family_status\n",
       "в разводе                [3]\n",
       "вдовец / вдова           [2]\n",
       "гражданский брак         [1]\n",
       "женат / замужем          [0]\n",
       "не женат / не замужем    [4]\n",
       "Name: family_status_id, dtype: object"
      ]
     },
     "execution_count": 14,
     "metadata": {},
     "output_type": "execute_result"
    }
   ],
   "source": [
    "# проверка взаимного соответствия\n",
    "debt.groupby(\"family_status\")[\"family_status_id\"].unique()"
   ]
  },
  {
   "cell_type": "markdown",
   "metadata": {},
   "source": [
    "В колонках, связанных с семейным положением тоже всё в порядке."
   ]
  },
  {
   "cell_type": "markdown",
   "metadata": {},
   "source": [
    "#### Колонка income_type"
   ]
  },
  {
   "cell_type": "code",
   "execution_count": 15,
   "metadata": {},
   "outputs": [
    {
     "data": {
      "text/plain": [
       "сотрудник          10996\n",
       "компаньон           5033\n",
       "пенсионер           3819\n",
       "госслужащий         1447\n",
       "предприниматель        2\n",
       "безработный            2\n",
       "в декрете              1\n",
       "студент                1\n",
       "Name: income_type, dtype: int64"
      ]
     },
     "execution_count": 15,
     "metadata": {},
     "output_type": "execute_result"
    }
   ],
   "source": [
    "# колонка income_type\n",
    "debt['income_type'].value_counts()"
   ]
  },
  {
   "cell_type": "markdown",
   "metadata": {},
   "source": [
    "В данных содержится **8 категорий** для обозначения трудового статуса человека."
   ]
  },
  {
   "cell_type": "markdown",
   "metadata": {},
   "source": [
    "#### Колонка debt"
   ]
  },
  {
   "cell_type": "code",
   "execution_count": 16,
   "metadata": {},
   "outputs": [
    {
     "data": {
      "text/plain": [
       "0    19577\n",
       "1     1724\n",
       "Name: debt, dtype: int64"
      ]
     },
     "execution_count": 16,
     "metadata": {},
     "output_type": "execute_result"
    }
   ],
   "source": [
    "# колонка income_type\n",
    "debt['debt'].value_counts()"
   ]
  },
  {
   "cell_type": "markdown",
   "metadata": {},
   "source": [
    "Большинство клиентов банка **не являются должниками**."
   ]
  },
  {
   "cell_type": "markdown",
   "metadata": {},
   "source": [
    "#### Колонка total_income"
   ]
  },
  {
   "cell_type": "code",
   "execution_count": 17,
   "metadata": {},
   "outputs": [
    {
     "name": "stdout",
     "output_type": "stream",
     "text": [
      "count    1.914900e+04\n",
      "mean     1.674919e+05\n",
      "std      1.032220e+05\n",
      "min      2.066726e+04\n",
      "25%      1.030283e+05\n",
      "50%      1.450179e+05\n",
      "75%      2.033535e+05\n",
      "max      2.265604e+06\n",
      "Name: total_income, dtype: float64\n"
     ]
    },
    {
     "data": {
      "image/png": "[encoded data removed]",
      "text/plain": [
       "<Figure size 576x360 with 1 Axes>"
      ]
     },
     "metadata": {
      "needs_background": "light"
     },
     "output_type": "display_data"
    }
   ],
   "source": [
    "# вывод сводной статистики\n",
    "print(debt['total_income'].describe())\n",
    "\n",
    "# построение графика\n",
    "plt.figure(figsize=(8, 5))\n",
    "plt.hist(debt['total_income'], bins=100)\n",
    "plt.title('Распределение значений зарплаты')\n",
    "plt.xlabel('Зарплата (у. е.)')\n",
    "plt.ylabel('Количество клиентов')\n",
    "plt.grid()\n",
    "plt.show()"
   ]
  },
  {
   "cell_type": "markdown",
   "metadata": {},
   "source": [
    "- В данных наблюдается **положительная скошенность**, т. е. смещённость в сторону бóльших значений. \n",
    "- Выборочное **среднее** около **160 тыс. у. е.**, **медиана** - **145 тыс. у. е.** (валюта неизвестна, поэтому используем обозначение у. е.).\n",
    "- **Минимальное** начение - около **20 тыс. у. е.**, **максимальное** - **2,2 млн у. е.**.\n",
    "\n",
    "Итак, мы проверили значения практически во всех колонках. Колонка *days_employed* будет рассмотрена в следующем пункте."
   ]
  },
  {
   "cell_type": "markdown",
   "metadata": {},
   "source": [
    "### 2.3. Обработка пропусков\n",
    "\n",
    "Посчитаем **количество пропусков** в колонках *days_employed* и *total_income*:"
   ]
  },
  {
   "cell_type": "code",
   "execution_count": 18,
   "metadata": {},
   "outputs": [
    {
     "data": {
      "text/plain": [
       "children               0\n",
       "days_employed       2152\n",
       "dob_years              0\n",
       "education              0\n",
       "education_id           0\n",
       "family_status          0\n",
       "family_status_id       0\n",
       "gender                 0\n",
       "income_type            0\n",
       "debt                   0\n",
       "total_income        2152\n",
       "purpose                0\n",
       "dtype: int64"
      ]
     },
     "execution_count": 18,
     "metadata": {},
     "output_type": "execute_result"
    }
   ],
   "source": [
    "# вывод количества пропусков по колонкам\n",
    "debt.isna().sum()"
   ]
  },
  {
   "cell_type": "markdown",
   "metadata": {},
   "source": [
    "Есть подозрение, что **пропуски** находятся **в одних и тех же строках**. Сделаем два датафрейма и сравним их: \n",
    "- **df_days_employed_nan** - где пропуски только в колонке *days_employed*\n",
    "- **df_total_income_nan** - где пропуски только в колонке *total_income*"
   ]
  },
  {
   "cell_type": "code",
   "execution_count": 19,
   "metadata": {},
   "outputs": [
    {
     "name": "stdout",
     "output_type": "stream",
     "text": [
      "Два срезы идентичны: True\n"
     ]
    }
   ],
   "source": [
    "# пропуски только в days_employed\n",
    "df_days_employed_nan = debt[debt['days_employed'].isna()]\n",
    "\n",
    "# пропуски только в total_income\n",
    "df_total_income_nan = debt[debt['total_income'].isna()]\n",
    "\n",
    "# сравнение двух датафреймов\n",
    "print('Два срезы идентичны: ', end='')\n",
    "print(df_days_employed_nan.equals(df_total_income_nan))"
   ]
  },
  {
   "cell_type": "markdown",
   "metadata": {},
   "source": [
    "Действительно, **пропуски** допущены в одних и тех же строках.\n",
    "\n",
    "Есть несколько предварительных версий относительно **пропущенных значений** в обеих колонках *days_employed* (общий трудовой стаж в днях) и *total_income* (ежемесячный доход):\n",
    "1. **Человек никогда официально не работал и не работает**. Поэтому данные по трудовому стажу и доходу отсутствуют. Значит, статус человека должен быть, например, \"безработный\"/\"пенсионер\"/\"студент\"/\"в декрете\".\n",
    "2. **Отсутствие информации** по клиентам. Например, заемщики отказались предоставлять эту информацию о себе.\n",
    "3. **Техническая причина**. Например, случайный пропуск в результате выгрузки. Данные были в исходном файле, но по какой-то причине не загрузились или не прочлись программой.\n",
    "4. **Человеческого фактор**. Кто-то случайно стёр данные, некорректно заполнил базу и др."
   ]
  },
  {
   "cell_type": "markdown",
   "metadata": {},
   "source": [
    "**Первая причина** сразу же отвергается, потому что среди наблюдений с пропусками есть работающие люди, например, сотрудники и госслужащие:"
   ]
  },
  {
   "cell_type": "code",
   "execution_count": 20,
   "metadata": {},
   "outputs": [
    {
     "name": "stdout",
     "output_type": "stream",
     "text": [
      "сотрудник          1096\n",
      "компаньон           502\n",
      "пенсионер           407\n",
      "госслужащий         146\n",
      "предприниматель       1\n",
      "Name: income_type, dtype: int64\n"
     ]
    }
   ],
   "source": [
    "print(df_total_income_nan['income_type'].value_counts())"
   ]
  },
  {
   "cell_type": "markdown",
   "metadata": {},
   "source": [
    "**Вторая причина** - возможна, но маловероятна, т. к. данная информация существенна.\n",
    "\n",
    "**Третья** и **четвёртая** причины связаны с **техническим** и **человеческим** фактором.  \n",
    "Возможно, проблемы в данных связаны с некорректным заполнением базы или техническим сбоем.\n",
    "\n",
    "Вспомним, что ещё при ознакомлении с данными нас смутили значения **колонки *days_employed***, где присутствуют **отрицательные** или **нереалистично большие** значения. В идеале, причину таких данных нужно уточнить у коллег, которые предоставили выгрузку.  \n",
    "Для текущих задач можем **полностью удалить** колонку *days_employed*, т. к. в ней содержаться не только пропуски, но в принципе подозрительные данные."
   ]
  },
  {
   "cell_type": "code",
   "execution_count": 21,
   "metadata": {},
   "outputs": [
    {
     "data": {
      "text/html": [
       "<div>\n",
       "<style scoped>\n",
       "    .dataframe tbody tr th:only-of-type {\n",
       "        vertical-align: middle;\n",
       "    }\n",
       "\n",
       "    .dataframe tbody tr th {\n",
       "        vertical-align: top;\n",
       "    }\n",
       "\n",
       "    .dataframe thead th {\n",
       "        text-align: right;\n",
       "    }\n",
       "</style>\n",
       "<table border=\"1\" class=\"dataframe\">\n",
       "  <thead>\n",
       "    <tr style=\"text-align: right;\">\n",
       "      <th></th>\n",
       "      <th>children</th>\n",
       "      <th>dob_years</th>\n",
       "      <th>education</th>\n",
       "      <th>education_id</th>\n",
       "      <th>family_status</th>\n",
       "      <th>family_status_id</th>\n",
       "      <th>gender</th>\n",
       "      <th>income_type</th>\n",
       "      <th>debt</th>\n",
       "      <th>total_income</th>\n",
       "      <th>purpose</th>\n",
       "    </tr>\n",
       "  </thead>\n",
       "  <tbody>\n",
       "    <tr>\n",
       "      <td>0</td>\n",
       "      <td>1</td>\n",
       "      <td>42</td>\n",
       "      <td>высшее</td>\n",
       "      <td>0</td>\n",
       "      <td>женат / замужем</td>\n",
       "      <td>0</td>\n",
       "      <td>F</td>\n",
       "      <td>сотрудник</td>\n",
       "      <td>0</td>\n",
       "      <td>253875.639453</td>\n",
       "      <td>покупка жилья</td>\n",
       "    </tr>\n",
       "    <tr>\n",
       "      <td>1</td>\n",
       "      <td>1</td>\n",
       "      <td>36</td>\n",
       "      <td>среднее</td>\n",
       "      <td>1</td>\n",
       "      <td>женат / замужем</td>\n",
       "      <td>0</td>\n",
       "      <td>F</td>\n",
       "      <td>сотрудник</td>\n",
       "      <td>0</td>\n",
       "      <td>112080.014102</td>\n",
       "      <td>приобретение автомобиля</td>\n",
       "    </tr>\n",
       "    <tr>\n",
       "      <td>2</td>\n",
       "      <td>0</td>\n",
       "      <td>33</td>\n",
       "      <td>среднее</td>\n",
       "      <td>1</td>\n",
       "      <td>женат / замужем</td>\n",
       "      <td>0</td>\n",
       "      <td>M</td>\n",
       "      <td>сотрудник</td>\n",
       "      <td>0</td>\n",
       "      <td>145885.952297</td>\n",
       "      <td>покупка жилья</td>\n",
       "    </tr>\n",
       "    <tr>\n",
       "      <td>3</td>\n",
       "      <td>3</td>\n",
       "      <td>32</td>\n",
       "      <td>среднее</td>\n",
       "      <td>1</td>\n",
       "      <td>женат / замужем</td>\n",
       "      <td>0</td>\n",
       "      <td>M</td>\n",
       "      <td>сотрудник</td>\n",
       "      <td>0</td>\n",
       "      <td>267628.550329</td>\n",
       "      <td>дополнительное образование</td>\n",
       "    </tr>\n",
       "    <tr>\n",
       "      <td>4</td>\n",
       "      <td>0</td>\n",
       "      <td>53</td>\n",
       "      <td>среднее</td>\n",
       "      <td>1</td>\n",
       "      <td>гражданский брак</td>\n",
       "      <td>1</td>\n",
       "      <td>F</td>\n",
       "      <td>пенсионер</td>\n",
       "      <td>0</td>\n",
       "      <td>158616.077870</td>\n",
       "      <td>сыграть свадьбу</td>\n",
       "    </tr>\n",
       "  </tbody>\n",
       "</table>\n",
       "</div>"
      ],
      "text/plain": [
       "   children  dob_years education  education_id     family_status  \\\n",
       "0         1         42    высшее             0   женат / замужем   \n",
       "1         1         36   среднее             1   женат / замужем   \n",
       "2         0         33   среднее             1   женат / замужем   \n",
       "3         3         32   среднее             1   женат / замужем   \n",
       "4         0         53   среднее             1  гражданский брак   \n",
       "\n",
       "   family_status_id gender income_type  debt   total_income  \\\n",
       "0                 0      F   сотрудник     0  253875.639453   \n",
       "1                 0      F   сотрудник     0  112080.014102   \n",
       "2                 0      M   сотрудник     0  145885.952297   \n",
       "3                 0      M   сотрудник     0  267628.550329   \n",
       "4                 1      F   пенсионер     0  158616.077870   \n",
       "\n",
       "                      purpose  \n",
       "0               покупка жилья  \n",
       "1     приобретение автомобиля  \n",
       "2               покупка жилья  \n",
       "3  дополнительное образование  \n",
       "4             сыграть свадьбу  "
      ]
     },
     "execution_count": 21,
     "metadata": {},
     "output_type": "execute_result"
    }
   ],
   "source": [
    "# удаление колонки days_employed\n",
    "debt = debt.drop('days_employed', axis=1)\n",
    "debt.head()"
   ]
  },
  {
   "cell_type": "markdown",
   "metadata": {},
   "source": [
    "Что касается колонки *total_income* - доля пропусков порядка **10%**:"
   ]
  },
  {
   "cell_type": "code",
   "execution_count": 22,
   "metadata": {},
   "outputs": [
    {
     "name": "stdout",
     "output_type": "stream",
     "text": [
      "Доля строк с пропусками в колонке total_income 10.10%\n"
     ]
    }
   ],
   "source": [
    "print('Доля строк с пропусками в колонке total_income {:.2%}'.format(debt['total_income'].isnull().sum() / len(debt)))"
   ]
  },
  {
   "cell_type": "markdown",
   "metadata": {},
   "source": [
    "Теоретически можно было бы восстановить пропуск, заполнив его подходящей мерой центральной тенденции.  \n",
    "Для этого необходимо разбить выборку на несколько групп и изучить распределение *total_income* выбранной группы. Однако такие замены способны смещать данные.\n",
    "\n",
    "Поскольку пропусков относительно немного, мы примем решение **удалить** строки с неполной информацией."
   ]
  },
  {
   "cell_type": "code",
   "execution_count": 23,
   "metadata": {},
   "outputs": [
    {
     "name": "stdout",
     "output_type": "stream",
     "text": [
      "Количество строк ДО: 21301\n",
      "Количество строк ПОСЛЕ: 19149\n"
     ]
    }
   ],
   "source": [
    "print('Количество строк ДО:', len(debt))\n",
    "debt.dropna(inplace=True)\n",
    "print('Количество строк ПОСЛЕ:', len(debt))"
   ]
  },
  {
   "cell_type": "markdown",
   "metadata": {},
   "source": [
    "### 2.4. Обработка дубликатов\n",
    "\n",
    "Ранее мы уже проверяли данные: в них содержалось **54 дубликата**. Все эти дубликаты имели пропуски в колонках *days_employed* и*total_income*.  \n",
    "Проверим, изменилось ли значение после приведения текстовых данных к единому регистру:"
   ]
  },
  {
   "cell_type": "code",
   "execution_count": 24,
   "metadata": {},
   "outputs": [
    {
     "name": "stdout",
     "output_type": "stream",
     "text": [
      "Количество дубликатов: 0\n"
     ]
    },
    {
     "data": {
      "text/html": [
       "<div>\n",
       "<style scoped>\n",
       "    .dataframe tbody tr th:only-of-type {\n",
       "        vertical-align: middle;\n",
       "    }\n",
       "\n",
       "    .dataframe tbody tr th {\n",
       "        vertical-align: top;\n",
       "    }\n",
       "\n",
       "    .dataframe thead th {\n",
       "        text-align: right;\n",
       "    }\n",
       "</style>\n",
       "<table border=\"1\" class=\"dataframe\">\n",
       "  <thead>\n",
       "    <tr style=\"text-align: right;\">\n",
       "      <th></th>\n",
       "      <th>children</th>\n",
       "      <th>dob_years</th>\n",
       "      <th>education</th>\n",
       "      <th>education_id</th>\n",
       "      <th>family_status</th>\n",
       "      <th>family_status_id</th>\n",
       "      <th>gender</th>\n",
       "      <th>income_type</th>\n",
       "      <th>debt</th>\n",
       "      <th>total_income</th>\n",
       "      <th>purpose</th>\n",
       "    </tr>\n",
       "  </thead>\n",
       "  <tbody>\n",
       "  </tbody>\n",
       "</table>\n",
       "</div>"
      ],
      "text/plain": [
       "Empty DataFrame\n",
       "Columns: [children, dob_years, education, education_id, family_status, family_status_id, gender, income_type, debt, total_income, purpose]\n",
       "Index: []"
      ]
     },
     "execution_count": 24,
     "metadata": {},
     "output_type": "execute_result"
    }
   ],
   "source": [
    "# подсчет количества задублированных строк\n",
    "print('Количество дубликатов:', debt.duplicated().sum())\n",
    "\n",
    "# вывод нескольких строк\n",
    "debt[debt.duplicated()].head()"
   ]
  },
  {
   "cell_type": "markdown",
   "metadata": {},
   "source": [
    "В предыдущих пунктах предобработки вместе с неправдоподобными и пропущенными значениями были удалены и **дубликаты**."
   ]
  },
  {
   "cell_type": "markdown",
   "metadata": {},
   "source": [
    "### 2.5. Лемматизация\n",
    "\n",
    "Бегло ознакомимся со значениями колонки *purpose*.  \n",
    "Видим, что некоторые причины очень похожи и их можно объединить в **одну категорию**."
   ]
  },
  {
   "cell_type": "code",
   "execution_count": 25,
   "metadata": {},
   "outputs": [
    {
     "data": {
      "text/plain": [
       "свадьба                                   716\n",
       "сыграть свадьбу                           684\n",
       "на проведение свадьбы                     677\n",
       "операции с недвижимостью                  609\n",
       "покупка коммерческой недвижимости         592\n",
       "покупка жилья                             584\n",
       "покупка жилья для сдачи                   584\n",
       "жилье                                     579\n",
       "операции с коммерческой недвижимостью     575\n",
       "строительство жилой недвижимости          573\n",
       "покупка своего жилья                      572\n",
       "операции с жильем                         569\n",
       "покупка жилья для семьи                   568\n",
       "недвижимость                              568\n",
       "строительство недвижимости                561\n",
       "операции со своей недвижимостью           555\n",
       "строительство собственной недвижимости    551\n",
       "покупка недвижимости                      545\n",
       "покупка жилой недвижимости                541\n",
       "ремонт жилью                              538\n",
       "на покупку своего автомобиля              449\n",
       "автомобиль                                448\n",
       "заняться высшим образованием              437\n",
       "на покупку автомобиля                     436\n",
       "на покупку подержанного автомобиля        430\n",
       "сделка с подержанным автомобилем          428\n",
       "свой автомобиль                           420\n",
       "автомобили                                417\n",
       "приобретение автомобиля                   415\n",
       "сделка с автомобилем                      408\n",
       "дополнительное образование                407\n",
       "высшее образование                        405\n",
       "образование                               398\n",
       "получение дополнительного образования     392\n",
       "получение образования                     390\n",
       "получение высшего образования             387\n",
       "профильное образование                    385\n",
       "заняться образованием                     356\n",
       "Name: purpose, dtype: int64"
      ]
     },
     "execution_count": 25,
     "metadata": {},
     "output_type": "execute_result"
    }
   ],
   "source": [
    "# выведем список причин и количество обращений по каждой\n",
    "purposes = debt['purpose'].value_counts()\n",
    "purposes"
   ]
  },
  {
   "cell_type": "markdown",
   "metadata": {},
   "source": [
    "Чтобы не выделять причины из списка вручную, воспользуемся **лемматизацией** и составим **частотнный словарь**.  \n",
    "Для начала превратим содержимое массива в текст, чтобы применить к нему лемматизацию."
   ]
  },
  {
   "cell_type": "code",
   "execution_count": 26,
   "metadata": {},
   "outputs": [
    {
     "name": "stdout",
     "output_type": "stream",
     "text": [
      "покупка жилья приобретение автомобиля покупка жилья дополнительное образование сыграть свадьбу покупка жилья операции с жильем образование на проведение свадьбы покупка жилья для семьи покупка недвижимости покупка коммерческой недвижимости приобретение автомобиля покупка жилой недвижимости строительство собственной недвижимости недвижимость строительство недвижимости на покупку подержанного автомобиля на покупку своего автомобиля недвижимость приобретение автомобиля на покупку подержанного автом\n"
     ]
    }
   ],
   "source": [
    "# задаем пустую string, в которую будем сохранять результат\n",
    "text = ''\n",
    "\n",
    "# получили массив ndarray с причинами\n",
    "purposes = debt['purpose']\n",
    "\n",
    "# сделаем итерацию по каждой фразе массива\n",
    "for phrase in purposes:\n",
    "    # в каждой фразе возьмем отдельные слова\n",
    "    for word in phrase.split():\n",
    "        # добавим лемматизированное слово в результат типа string\n",
    "        text += word+' '\n",
    "\n",
    "# вывод нескольких значений\n",
    "print(text[:500])"
   ]
  },
  {
   "cell_type": "markdown",
   "metadata": {},
   "source": [
    "Теперь сделаем **лемматизацию** и составим **частотный словарь**:"
   ]
  },
  {
   "cell_type": "code",
   "execution_count": 27,
   "metadata": {},
   "outputs": [
    {
     "name": "stdout",
     "output_type": "stream",
     "text": [
      "['покупка', ' ', 'жилье', ' ', 'приобретение', ' ', 'автомобиль', ' ', 'покупка', ' ', 'жилье', ' ', 'дополнительный', ' ', 'образование', ' ', 'сыграть', ' ', 'свадьба', ' ', 'покупка', ' ', 'жилье', ' ', 'операция', ' ', 'с', ' ', 'жилье', ' ', 'образование', ' ', 'на', ' ', 'проведение', ' ', 'свадьба', ' ', 'покупка', ' ', 'жилье', ' ', 'для', ' ', 'семья', ' ', 'покупка', ' ', 'недвижимость', ' ', 'покупка', ' ', 'коммерческий', ' ', 'недвижимость', ' ', 'приобретение', ' ', 'автомобиль', ' ', 'покупка', ' ', 'жилой', ' ', 'недвижимость', ' ', 'строительство', ' ', 'собственный', ' ', 'недвижимость', ' ', 'недвижимость', ' ', 'строительство', ' ', 'недвижимость', ' ', 'на', ' ', 'покупка', ' ', 'подержать', ' ', 'автомобиль', ' ', 'на', ' ', 'покупка', ' ', 'свой', ' ', 'автомобиль', ' ', 'недвижимость', ' ', 'приобретение', ' ', 'автомобиль', ' ']\n"
     ]
    }
   ],
   "source": [
    "# получим список с лемматизированными словами\n",
    "m = Mystem()\n",
    "lemma = m.lemmatize(text)\n",
    "\n",
    "# вывод нескольких значений\n",
    "print(lemma[:100])"
   ]
  },
  {
   "cell_type": "code",
   "execution_count": 28,
   "metadata": {},
   "outputs": [
    {
     "name": "stdout",
     "output_type": "stream",
     "text": [
      "Counter({' ': 49093, 'недвижимость': 5670, 'покупка': 5301, 'жилье': 3994, 'автомобиль': 3851, 'образование': 3557, 'с': 2589, 'операция': 2308, 'свадьба': 2077, 'свой': 1996, 'на': 1992, 'строительство': 1685, 'высокий': 1229, 'получение': 1169, 'коммерческий': 1167, 'для': 1152, 'жилой': 1114, 'сделка': 836, 'дополнительный': 799, 'заниматься': 793, 'подержать': 758, 'сыграть': 684, 'проведение': 677, 'сдача': 584, 'семья': 568, 'со': 555, 'собственный': 551, 'ремонт': 538, 'приобретение': 415, 'профильный': 385, 'подержанный': 100, ' \\n': 1})\n"
     ]
    }
   ],
   "source": [
    "# получим частотный словарь\n",
    "dict_freq = Counter(lemma)\n",
    "print(dict_freq)"
   ]
  },
  {
   "cell_type": "markdown",
   "metadata": {},
   "source": [
    "На первый взгляд можно выделить следующие категории:\n",
    "- Недвижимость\n",
    "- Автомобиль\n",
    "- Образование\n",
    "- Операция\n",
    "- Свадьба\n",
    "- Строительство и ремонт\n",
    "\n",
    "Проверим наши выделенные категории на адекватность описания целей кредита.  \n",
    "Пропишем функцию, которая будет проверять необходимые нам слова."
   ]
  },
  {
   "cell_type": "code",
   "execution_count": 29,
   "metadata": {},
   "outputs": [
    {
     "name": "stdout",
     "output_type": "stream",
     "text": [
      "Проверка слова недвижимость\n",
      "--------------------------------------------------\n",
      "['покупка', ' ', 'недвижимость', '\\n']\n",
      "['покупка', ' ', 'коммерческий', ' ', 'недвижимость', '\\n']\n",
      "['покупка', ' ', 'жилой', ' ', 'недвижимость', '\\n']\n",
      "['строительство', ' ', 'собственный', ' ', 'недвижимость', '\\n']\n",
      "['недвижимость', '\\n']\n",
      "['строительство', ' ', 'недвижимость', '\\n']\n",
      "['операция', ' ', 'с', ' ', 'коммерческий', ' ', 'недвижимость', '\\n']\n",
      "['операция', ' ', 'со', ' ', 'свой', ' ', 'недвижимость', '\\n']\n",
      "['операция', ' ', 'с', ' ', 'недвижимость', '\\n']\n",
      "['строительство', ' ', 'жилой', ' ', 'недвижимость', '\\n']\n",
      "\n",
      "Проверка слова автомобиль\n",
      "--------------------------------------------------\n",
      "['приобретение', ' ', 'автомобиль', '\\n']\n",
      "['на', ' ', 'покупка', ' ', 'подержать', ' ', 'автомобиль', '\\n']\n",
      "['на', ' ', 'покупка', ' ', 'свой', ' ', 'автомобиль', '\\n']\n",
      "['автомобиль', '\\n']\n",
      "['сделка', ' ', 'с', ' ', 'подержанный', ' ', 'автомобиль', '\\n']\n",
      "['автомобиль', '\\n']\n",
      "['свой', ' ', 'автомобиль', '\\n']\n",
      "['сделка', ' ', 'с', ' ', 'автомобиль', '\\n']\n",
      "['на', ' ', 'покупка', ' ', 'автомобиль', '\\n']\n",
      "\n",
      "Проверка слова образование\n",
      "--------------------------------------------------\n",
      "['дополнительный', ' ', 'образование', '\\n']\n",
      "['образование', '\\n']\n",
      "['заниматься', ' ', 'образование', '\\n']\n",
      "['получение', ' ', 'образование', '\\n']\n",
      "['получение', ' ', 'дополнительный', ' ', 'образование', '\\n']\n",
      "['получение', ' ', 'высокий', ' ', 'образование', '\\n']\n",
      "['профильный', ' ', 'образование', '\\n']\n",
      "['высокий', ' ', 'образование', '\\n']\n",
      "['заниматься', ' ', 'высокий', ' ', 'образование', '\\n']\n",
      "\n",
      "Проверка слова операция\n",
      "--------------------------------------------------\n",
      "['операция', ' ', 'с', ' ', 'жилье', '\\n']\n",
      "['операция', ' ', 'с', ' ', 'коммерческий', ' ', 'недвижимость', '\\n']\n",
      "['операция', ' ', 'со', ' ', 'свой', ' ', 'недвижимость', '\\n']\n",
      "['операция', ' ', 'с', ' ', 'недвижимость', '\\n']\n",
      "\n",
      "Проверка слова свадьба\n",
      "--------------------------------------------------\n",
      "['сыграть', ' ', 'свадьба', '\\n']\n",
      "['на', ' ', 'проведение', ' ', 'свадьба', '\\n']\n",
      "['свадьба', '\\n']\n",
      "\n",
      "Проверка слова строительство\n",
      "--------------------------------------------------\n",
      "['строительство', ' ', 'собственный', ' ', 'недвижимость', '\\n']\n",
      "['строительство', ' ', 'недвижимость', '\\n']\n",
      "['строительство', ' ', 'жилой', ' ', 'недвижимость', '\\n']\n",
      "\n",
      "Проверка слова ремонт\n",
      "--------------------------------------------------\n",
      "['ремонт', ' ', 'жилье', '\\n']\n",
      "\n"
     ]
    }
   ],
   "source": [
    "purposes_unique = debt['purpose'].unique()\n",
    "\n",
    "def check_word(*args):\n",
    "    \"\"\"Функция выводит лемматизированные цели с указанным словом:\n",
    "    - *args - указать слова для поиска.\"\"\"\n",
    "    \n",
    "    for word in args:\n",
    "        print('Проверка слова', word)\n",
    "        print('{:-<50}'.format(''))\n",
    "        for phrase in purposes_unique:\n",
    "            lemma_phrase = m.lemmatize(phrase)\n",
    "            if word in lemma_phrase:\n",
    "                print(lemma_phrase)\n",
    "        print()\n",
    "\n",
    "check_word('недвижимость', 'автомобиль', 'образование', 'операция', 'свадьба', 'строительство', 'ремонт')"
   ]
  },
  {
   "cell_type": "markdown",
   "metadata": {},
   "source": [
    "Видим проблемы:\n",
    "- В некоторых целях содержатся **одновременно** слова **\"недвижимость\"** и **\"строительство\"**. Нужно учесть этот момент при категоризации. Необходимо, чтобы такие цели попадали в категорию **строительство**.\n",
    "- Под словом **\"операция\"** имеется в виду не врачебное вмешательство, а сделки с недвижимостью. Поэтому данное слово можем **убрать** из списка категорий."
   ]
  },
  {
   "cell_type": "markdown",
   "metadata": {},
   "source": [
    "Финальный список категорий следующий:\n",
    "- **Недвижимость** - различные операции с жилой и коммерческой недвижимостью (покупка, обмен и др.)\n",
    "- **Автомобиль** - сделки, связанные с покупкой автомобиля\n",
    "- **Образование** - получение образования\n",
    "- **Свадьба** - проведение свадьбы\n",
    "- **Строительство и ремонт** - действия по возведению или ремонту зданий и помещений\n",
    "\n",
    "Определившись со списком категорий, сразу же проведем **категоризацию целей** и создадим нужные колонки.  \n",
    "Напишем функцию для проведения категоризации целей:"
   ]
  },
  {
   "cell_type": "code",
   "execution_count": 30,
   "metadata": {},
   "outputs": [],
   "source": [
    "# функция для категоризации целей\n",
    "# \"строительство\" мы специально ставим перед словом \"недвижимость\",\n",
    "# иначе функция не опознает эту категорию, т.к. при слове \"недвижимость\" будет TRUE и цикл закончится\n",
    "def categorize_purpose(lemma_list):\n",
    "    \"\"\"Функция присваивает для цели одну из заранее определённых категорий.\"\"\"\n",
    "    if 'строительство' in lemma_list:\n",
    "        return 'строительство и ремонт'\n",
    "    elif 'ремонт' in lemma_list:\n",
    "        return 'строительство и ремонт'\n",
    "    elif 'недвижимость' in lemma_list:\n",
    "        return 'недвижимость'\n",
    "    elif 'жилье' in lemma_list:\n",
    "        return 'недвижимость'\n",
    "    elif 'автомобиль' in lemma_list:\n",
    "        return 'автомобиль'\n",
    "    elif 'образование' in lemma_list:\n",
    "        return 'образование'\n",
    "    elif 'свадьба' in lemma_list:\n",
    "        return 'свадьба'\n",
    "    else:\n",
    "        return 'нет'"
   ]
  },
  {
   "cell_type": "code",
   "execution_count": 31,
   "metadata": {},
   "outputs": [
    {
     "data": {
      "text/html": [
       "<div>\n",
       "<style scoped>\n",
       "    .dataframe tbody tr th:only-of-type {\n",
       "        vertical-align: middle;\n",
       "    }\n",
       "\n",
       "    .dataframe tbody tr th {\n",
       "        vertical-align: top;\n",
       "    }\n",
       "\n",
       "    .dataframe thead th {\n",
       "        text-align: right;\n",
       "    }\n",
       "</style>\n",
       "<table border=\"1\" class=\"dataframe\">\n",
       "  <thead>\n",
       "    <tr style=\"text-align: right;\">\n",
       "      <th></th>\n",
       "      <th>children</th>\n",
       "      <th>dob_years</th>\n",
       "      <th>education</th>\n",
       "      <th>education_id</th>\n",
       "      <th>family_status</th>\n",
       "      <th>family_status_id</th>\n",
       "      <th>gender</th>\n",
       "      <th>income_type</th>\n",
       "      <th>debt</th>\n",
       "      <th>total_income</th>\n",
       "      <th>purpose</th>\n",
       "      <th>purpose_group_test</th>\n",
       "      <th>purpose_group</th>\n",
       "    </tr>\n",
       "  </thead>\n",
       "  <tbody>\n",
       "    <tr>\n",
       "      <td>0</td>\n",
       "      <td>1</td>\n",
       "      <td>42</td>\n",
       "      <td>высшее</td>\n",
       "      <td>0</td>\n",
       "      <td>женат / замужем</td>\n",
       "      <td>0</td>\n",
       "      <td>F</td>\n",
       "      <td>сотрудник</td>\n",
       "      <td>0</td>\n",
       "      <td>253875.639453</td>\n",
       "      <td>покупка жилья</td>\n",
       "      <td>[покупка,  , жилье, \\n]</td>\n",
       "      <td>недвижимость</td>\n",
       "    </tr>\n",
       "    <tr>\n",
       "      <td>1</td>\n",
       "      <td>1</td>\n",
       "      <td>36</td>\n",
       "      <td>среднее</td>\n",
       "      <td>1</td>\n",
       "      <td>женат / замужем</td>\n",
       "      <td>0</td>\n",
       "      <td>F</td>\n",
       "      <td>сотрудник</td>\n",
       "      <td>0</td>\n",
       "      <td>112080.014102</td>\n",
       "      <td>приобретение автомобиля</td>\n",
       "      <td>[приобретение,  , автомобиль, \\n]</td>\n",
       "      <td>автомобиль</td>\n",
       "    </tr>\n",
       "    <tr>\n",
       "      <td>2</td>\n",
       "      <td>0</td>\n",
       "      <td>33</td>\n",
       "      <td>среднее</td>\n",
       "      <td>1</td>\n",
       "      <td>женат / замужем</td>\n",
       "      <td>0</td>\n",
       "      <td>M</td>\n",
       "      <td>сотрудник</td>\n",
       "      <td>0</td>\n",
       "      <td>145885.952297</td>\n",
       "      <td>покупка жилья</td>\n",
       "      <td>[покупка,  , жилье, \\n]</td>\n",
       "      <td>недвижимость</td>\n",
       "    </tr>\n",
       "    <tr>\n",
       "      <td>3</td>\n",
       "      <td>3</td>\n",
       "      <td>32</td>\n",
       "      <td>среднее</td>\n",
       "      <td>1</td>\n",
       "      <td>женат / замужем</td>\n",
       "      <td>0</td>\n",
       "      <td>M</td>\n",
       "      <td>сотрудник</td>\n",
       "      <td>0</td>\n",
       "      <td>267628.550329</td>\n",
       "      <td>дополнительное образование</td>\n",
       "      <td>[дополнительный,  , образование, \\n]</td>\n",
       "      <td>образование</td>\n",
       "    </tr>\n",
       "    <tr>\n",
       "      <td>4</td>\n",
       "      <td>0</td>\n",
       "      <td>53</td>\n",
       "      <td>среднее</td>\n",
       "      <td>1</td>\n",
       "      <td>гражданский брак</td>\n",
       "      <td>1</td>\n",
       "      <td>F</td>\n",
       "      <td>пенсионер</td>\n",
       "      <td>0</td>\n",
       "      <td>158616.077870</td>\n",
       "      <td>сыграть свадьбу</td>\n",
       "      <td>[сыграть,  , свадьба, \\n]</td>\n",
       "      <td>свадьба</td>\n",
       "    </tr>\n",
       "  </tbody>\n",
       "</table>\n",
       "</div>"
      ],
      "text/plain": [
       "   children  dob_years education  education_id     family_status  \\\n",
       "0         1         42    высшее             0   женат / замужем   \n",
       "1         1         36   среднее             1   женат / замужем   \n",
       "2         0         33   среднее             1   женат / замужем   \n",
       "3         3         32   среднее             1   женат / замужем   \n",
       "4         0         53   среднее             1  гражданский брак   \n",
       "\n",
       "   family_status_id gender income_type  debt   total_income  \\\n",
       "0                 0      F   сотрудник     0  253875.639453   \n",
       "1                 0      F   сотрудник     0  112080.014102   \n",
       "2                 0      M   сотрудник     0  145885.952297   \n",
       "3                 0      M   сотрудник     0  267628.550329   \n",
       "4                 1      F   пенсионер     0  158616.077870   \n",
       "\n",
       "                      purpose                    purpose_group_test  \\\n",
       "0               покупка жилья               [покупка,  , жилье, \\n]   \n",
       "1     приобретение автомобиля     [приобретение,  , автомобиль, \\n]   \n",
       "2               покупка жилья               [покупка,  , жилье, \\n]   \n",
       "3  дополнительное образование  [дополнительный,  , образование, \\n]   \n",
       "4             сыграть свадьбу             [сыграть,  , свадьба, \\n]   \n",
       "\n",
       "  purpose_group  \n",
       "0  недвижимость  \n",
       "1    автомобиль  \n",
       "2  недвижимость  \n",
       "3   образование  \n",
       "4       свадьба  "
      ]
     },
     "execution_count": 31,
     "metadata": {},
     "output_type": "execute_result"
    }
   ],
   "source": [
    "debt['purpose_group_test'] = debt['purpose'].apply(m.lemmatize)\n",
    "debt['purpose_group'] = debt['purpose_group_test'].apply(categorize_purpose)\n",
    "debt.head()"
   ]
  },
  {
   "cell_type": "markdown",
   "metadata": {},
   "source": [
    "Проверим, соответствуют ли **названия категорий** содержимому:"
   ]
  },
  {
   "cell_type": "code",
   "execution_count": 32,
   "metadata": {},
   "outputs": [
    {
     "name": "stdout",
     "output_type": "stream",
     "text": [
      "Категории цели недвижимость соответствует:\n",
      "['покупка жилья' 'операции с жильем' 'покупка жилья для семьи'\n",
      " 'покупка недвижимости' 'покупка коммерческой недвижимости'\n",
      " 'покупка жилой недвижимости' 'недвижимость'\n",
      " 'операции с коммерческой недвижимостью' 'жилье'\n",
      " 'операции со своей недвижимостью' 'покупка своего жилья'\n",
      " 'операции с недвижимостью' 'покупка жилья для сдачи']\n",
      "\n",
      "Категории цели автомобиль соответствует:\n",
      "['приобретение автомобиля' 'на покупку подержанного автомобиля'\n",
      " 'на покупку своего автомобиля' 'автомобили'\n",
      " 'сделка с подержанным автомобилем' 'автомобиль' 'свой автомобиль'\n",
      " 'сделка с автомобилем' 'на покупку автомобиля']\n",
      "\n",
      "Категории цели образование соответствует:\n",
      "['дополнительное образование' 'образование' 'заняться образованием'\n",
      " 'получение образования' 'получение дополнительного образования'\n",
      " 'получение высшего образования' 'профильное образование'\n",
      " 'высшее образование' 'заняться высшим образованием']\n",
      "\n",
      "Категории цели свадьба соответствует:\n",
      "['сыграть свадьбу' 'на проведение свадьбы' 'свадьба']\n",
      "\n",
      "Категории цели строительство и ремонт соответствует:\n",
      "['строительство собственной недвижимости' 'строительство недвижимости'\n",
      " 'строительство жилой недвижимости' 'ремонт жилью']\n",
      "\n",
      "Категории цели нет соответствует:\n",
      "[]\n",
      "\n"
     ]
    }
   ],
   "source": [
    "# функция для проверки соответствия purpose и purpose_group\n",
    "def check_purpose_match(*args):\n",
    "    \"\"\"Функция указывает цели, соответствующие данной категории.\"\"\"\n",
    "    for purpose in args:\n",
    "        check_df = debt[debt['purpose_group'] == purpose]\n",
    "        print('Категории цели', purpose, 'соответствует:')\n",
    "        print(check_df['purpose'].unique())\n",
    "        print()\n",
    "\n",
    "# также мы добавим сюда 'нет', чтобы убедиться, что таких категорий действительно нет\n",
    "check_purpose_match('недвижимость', 'автомобиль', 'образование', 'свадьба', 'строительство и ремонт', 'нет')"
   ]
  },
  {
   "cell_type": "markdown",
   "metadata": {},
   "source": [
    "Дополнительно можем проверить, не потерялись ли цели, т. е. совпадают ли количества с исходным:"
   ]
  },
  {
   "cell_type": "code",
   "execution_count": 33,
   "metadata": {
    "scrolled": false
   },
   "outputs": [
    {
     "name": "stdout",
     "output_type": "stream",
     "text": [
      "purpose_group\n",
      "автомобиль                3851\n",
      "недвижимость              7441\n",
      "образование               3557\n",
      "свадьба                   2077\n",
      "строительство и ремонт    2223\n",
      "Name: purpose, dtype: int64\n",
      "\n",
      "Количество целей по группировке: 19149\n",
      "Количество целей тотал: 19149\n"
     ]
    }
   ],
   "source": [
    "purpose_total = debt['purpose'].value_counts()\n",
    "purplose_group_by = debt.groupby('purpose_group')['purpose'].count()\n",
    "\n",
    "print(purplose_group_by)\n",
    "print()\n",
    "\n",
    "print('Количество целей по группировке:', sum(purpose_total))\n",
    "print('Количество целей тотал:', sum(purplose_group_by))"
   ]
  },
  {
   "cell_type": "markdown",
   "metadata": {},
   "source": [
    "Все в порядке, можем **удалить вспомогательный столбец purpose_group_test**:"
   ]
  },
  {
   "cell_type": "code",
   "execution_count": 34,
   "metadata": {},
   "outputs": [
    {
     "name": "stdout",
     "output_type": "stream",
     "text": [
      "Количество строк: 19149\n"
     ]
    },
    {
     "data": {
      "text/html": [
       "<div>\n",
       "<style scoped>\n",
       "    .dataframe tbody tr th:only-of-type {\n",
       "        vertical-align: middle;\n",
       "    }\n",
       "\n",
       "    .dataframe tbody tr th {\n",
       "        vertical-align: top;\n",
       "    }\n",
       "\n",
       "    .dataframe thead th {\n",
       "        text-align: right;\n",
       "    }\n",
       "</style>\n",
       "<table border=\"1\" class=\"dataframe\">\n",
       "  <thead>\n",
       "    <tr style=\"text-align: right;\">\n",
       "      <th></th>\n",
       "      <th>children</th>\n",
       "      <th>dob_years</th>\n",
       "      <th>education</th>\n",
       "      <th>education_id</th>\n",
       "      <th>family_status</th>\n",
       "      <th>family_status_id</th>\n",
       "      <th>gender</th>\n",
       "      <th>income_type</th>\n",
       "      <th>debt</th>\n",
       "      <th>total_income</th>\n",
       "      <th>purpose</th>\n",
       "      <th>purpose_group</th>\n",
       "    </tr>\n",
       "  </thead>\n",
       "  <tbody>\n",
       "    <tr>\n",
       "      <td>0</td>\n",
       "      <td>1</td>\n",
       "      <td>42</td>\n",
       "      <td>высшее</td>\n",
       "      <td>0</td>\n",
       "      <td>женат / замужем</td>\n",
       "      <td>0</td>\n",
       "      <td>F</td>\n",
       "      <td>сотрудник</td>\n",
       "      <td>0</td>\n",
       "      <td>253875.639453</td>\n",
       "      <td>покупка жилья</td>\n",
       "      <td>недвижимость</td>\n",
       "    </tr>\n",
       "    <tr>\n",
       "      <td>1</td>\n",
       "      <td>1</td>\n",
       "      <td>36</td>\n",
       "      <td>среднее</td>\n",
       "      <td>1</td>\n",
       "      <td>женат / замужем</td>\n",
       "      <td>0</td>\n",
       "      <td>F</td>\n",
       "      <td>сотрудник</td>\n",
       "      <td>0</td>\n",
       "      <td>112080.014102</td>\n",
       "      <td>приобретение автомобиля</td>\n",
       "      <td>автомобиль</td>\n",
       "    </tr>\n",
       "    <tr>\n",
       "      <td>2</td>\n",
       "      <td>0</td>\n",
       "      <td>33</td>\n",
       "      <td>среднее</td>\n",
       "      <td>1</td>\n",
       "      <td>женат / замужем</td>\n",
       "      <td>0</td>\n",
       "      <td>M</td>\n",
       "      <td>сотрудник</td>\n",
       "      <td>0</td>\n",
       "      <td>145885.952297</td>\n",
       "      <td>покупка жилья</td>\n",
       "      <td>недвижимость</td>\n",
       "    </tr>\n",
       "    <tr>\n",
       "      <td>3</td>\n",
       "      <td>3</td>\n",
       "      <td>32</td>\n",
       "      <td>среднее</td>\n",
       "      <td>1</td>\n",
       "      <td>женат / замужем</td>\n",
       "      <td>0</td>\n",
       "      <td>M</td>\n",
       "      <td>сотрудник</td>\n",
       "      <td>0</td>\n",
       "      <td>267628.550329</td>\n",
       "      <td>дополнительное образование</td>\n",
       "      <td>образование</td>\n",
       "    </tr>\n",
       "    <tr>\n",
       "      <td>4</td>\n",
       "      <td>0</td>\n",
       "      <td>53</td>\n",
       "      <td>среднее</td>\n",
       "      <td>1</td>\n",
       "      <td>гражданский брак</td>\n",
       "      <td>1</td>\n",
       "      <td>F</td>\n",
       "      <td>пенсионер</td>\n",
       "      <td>0</td>\n",
       "      <td>158616.077870</td>\n",
       "      <td>сыграть свадьбу</td>\n",
       "      <td>свадьба</td>\n",
       "    </tr>\n",
       "  </tbody>\n",
       "</table>\n",
       "</div>"
      ],
      "text/plain": [
       "   children  dob_years education  education_id     family_status  \\\n",
       "0         1         42    высшее             0   женат / замужем   \n",
       "1         1         36   среднее             1   женат / замужем   \n",
       "2         0         33   среднее             1   женат / замужем   \n",
       "3         3         32   среднее             1   женат / замужем   \n",
       "4         0         53   среднее             1  гражданский брак   \n",
       "\n",
       "   family_status_id gender income_type  debt   total_income  \\\n",
       "0                 0      F   сотрудник     0  253875.639453   \n",
       "1                 0      F   сотрудник     0  112080.014102   \n",
       "2                 0      M   сотрудник     0  145885.952297   \n",
       "3                 0      M   сотрудник     0  267628.550329   \n",
       "4                 1      F   пенсионер     0  158616.077870   \n",
       "\n",
       "                      purpose purpose_group  \n",
       "0               покупка жилья  недвижимость  \n",
       "1     приобретение автомобиля    автомобиль  \n",
       "2               покупка жилья  недвижимость  \n",
       "3  дополнительное образование   образование  \n",
       "4             сыграть свадьбу       свадьба  "
      ]
     },
     "execution_count": 34,
     "metadata": {},
     "output_type": "execute_result"
    }
   ],
   "source": [
    "debt = debt.drop('purpose_group_test', 1)\n",
    "print('Количество строк:', len(debt))\n",
    "debt.head()"
   ]
  },
  {
   "cell_type": "markdown",
   "metadata": {},
   "source": [
    "### 2.6. Категоризация"
   ]
  },
  {
   "cell_type": "markdown",
   "metadata": {},
   "source": [
    "Для категоризации данных обратим внимание на переменные, которые фигурируют в вопросах задачи:\n",
    "- наличие детей\n",
    "- семейное положение\n",
    "- цель кредита\n",
    "- уровень дохода"
   ]
  },
  {
   "cell_type": "markdown",
   "metadata": {},
   "source": [
    "#### Семейное положение и цель кредита\n",
    "\n",
    "- **Семейное положение**  \n",
    "Ранее мы уже проверили, чтобы каждому **family_status_id** соответствовал только один **family_status**.  \n",
    "Поэтому можем пользоваться категоризацией по семейному положению в текущем виде.\n",
    "\n",
    "\n",
    "- **Цель кредита**  \n",
    "В разделе с лемматизацией мы провели **категоризацию по целям кредита**. Вместо названий можно было бы указать численный значения. Однако, поскольку необходимо вывести информацию, нагляднее будет использовать категории с реальными названиями."
   ]
  },
  {
   "cell_type": "markdown",
   "metadata": {},
   "source": [
    "#### Наличие детей\n",
    "\n",
    "Необходимо вывести процент должников, разбив данные по группам \"с детьми\" и \"без детей\".  \n",
    "Как и в предыдущем случае, вместо численных значений будем использовать текстовые."
   ]
  },
  {
   "cell_type": "code",
   "execution_count": 35,
   "metadata": {},
   "outputs": [
    {
     "data": {
      "text/html": [
       "<div>\n",
       "<style scoped>\n",
       "    .dataframe tbody tr th:only-of-type {\n",
       "        vertical-align: middle;\n",
       "    }\n",
       "\n",
       "    .dataframe tbody tr th {\n",
       "        vertical-align: top;\n",
       "    }\n",
       "\n",
       "    .dataframe thead th {\n",
       "        text-align: right;\n",
       "    }\n",
       "</style>\n",
       "<table border=\"1\" class=\"dataframe\">\n",
       "  <thead>\n",
       "    <tr style=\"text-align: right;\">\n",
       "      <th></th>\n",
       "      <th>children</th>\n",
       "      <th>dob_years</th>\n",
       "      <th>education</th>\n",
       "      <th>education_id</th>\n",
       "      <th>family_status</th>\n",
       "      <th>family_status_id</th>\n",
       "      <th>gender</th>\n",
       "      <th>income_type</th>\n",
       "      <th>debt</th>\n",
       "      <th>total_income</th>\n",
       "      <th>purpose</th>\n",
       "      <th>purpose_group</th>\n",
       "      <th>child_group</th>\n",
       "    </tr>\n",
       "  </thead>\n",
       "  <tbody>\n",
       "    <tr>\n",
       "      <td>0</td>\n",
       "      <td>1</td>\n",
       "      <td>42</td>\n",
       "      <td>высшее</td>\n",
       "      <td>0</td>\n",
       "      <td>женат / замужем</td>\n",
       "      <td>0</td>\n",
       "      <td>F</td>\n",
       "      <td>сотрудник</td>\n",
       "      <td>0</td>\n",
       "      <td>253875.639453</td>\n",
       "      <td>покупка жилья</td>\n",
       "      <td>недвижимость</td>\n",
       "      <td>есть дети</td>\n",
       "    </tr>\n",
       "    <tr>\n",
       "      <td>1</td>\n",
       "      <td>1</td>\n",
       "      <td>36</td>\n",
       "      <td>среднее</td>\n",
       "      <td>1</td>\n",
       "      <td>женат / замужем</td>\n",
       "      <td>0</td>\n",
       "      <td>F</td>\n",
       "      <td>сотрудник</td>\n",
       "      <td>0</td>\n",
       "      <td>112080.014102</td>\n",
       "      <td>приобретение автомобиля</td>\n",
       "      <td>автомобиль</td>\n",
       "      <td>есть дети</td>\n",
       "    </tr>\n",
       "    <tr>\n",
       "      <td>2</td>\n",
       "      <td>0</td>\n",
       "      <td>33</td>\n",
       "      <td>среднее</td>\n",
       "      <td>1</td>\n",
       "      <td>женат / замужем</td>\n",
       "      <td>0</td>\n",
       "      <td>M</td>\n",
       "      <td>сотрудник</td>\n",
       "      <td>0</td>\n",
       "      <td>145885.952297</td>\n",
       "      <td>покупка жилья</td>\n",
       "      <td>недвижимость</td>\n",
       "      <td>нет детей</td>\n",
       "    </tr>\n",
       "    <tr>\n",
       "      <td>3</td>\n",
       "      <td>3</td>\n",
       "      <td>32</td>\n",
       "      <td>среднее</td>\n",
       "      <td>1</td>\n",
       "      <td>женат / замужем</td>\n",
       "      <td>0</td>\n",
       "      <td>M</td>\n",
       "      <td>сотрудник</td>\n",
       "      <td>0</td>\n",
       "      <td>267628.550329</td>\n",
       "      <td>дополнительное образование</td>\n",
       "      <td>образование</td>\n",
       "      <td>есть дети</td>\n",
       "    </tr>\n",
       "    <tr>\n",
       "      <td>4</td>\n",
       "      <td>0</td>\n",
       "      <td>53</td>\n",
       "      <td>среднее</td>\n",
       "      <td>1</td>\n",
       "      <td>гражданский брак</td>\n",
       "      <td>1</td>\n",
       "      <td>F</td>\n",
       "      <td>пенсионер</td>\n",
       "      <td>0</td>\n",
       "      <td>158616.077870</td>\n",
       "      <td>сыграть свадьбу</td>\n",
       "      <td>свадьба</td>\n",
       "      <td>нет детей</td>\n",
       "    </tr>\n",
       "  </tbody>\n",
       "</table>\n",
       "</div>"
      ],
      "text/plain": [
       "   children  dob_years education  education_id     family_status  \\\n",
       "0         1         42    высшее             0   женат / замужем   \n",
       "1         1         36   среднее             1   женат / замужем   \n",
       "2         0         33   среднее             1   женат / замужем   \n",
       "3         3         32   среднее             1   женат / замужем   \n",
       "4         0         53   среднее             1  гражданский брак   \n",
       "\n",
       "   family_status_id gender income_type  debt   total_income  \\\n",
       "0                 0      F   сотрудник     0  253875.639453   \n",
       "1                 0      F   сотрудник     0  112080.014102   \n",
       "2                 0      M   сотрудник     0  145885.952297   \n",
       "3                 0      M   сотрудник     0  267628.550329   \n",
       "4                 1      F   пенсионер     0  158616.077870   \n",
       "\n",
       "                      purpose purpose_group child_group  \n",
       "0               покупка жилья  недвижимость   есть дети  \n",
       "1     приобретение автомобиля    автомобиль   есть дети  \n",
       "2               покупка жилья  недвижимость   нет детей  \n",
       "3  дополнительное образование   образование   есть дети  \n",
       "4             сыграть свадьбу       свадьба   нет детей  "
      ]
     },
     "execution_count": 35,
     "metadata": {},
     "output_type": "execute_result"
    }
   ],
   "source": [
    "# перевод в численные значения 0 - нет детей, 1 - есть\n",
    "debt['child_group'] = [int(i != 0) for i in debt['children']]\n",
    "\n",
    "# перевод в текстовые значения\n",
    "child_dict = {0: 'нет детей', 1: 'есть дети'}\n",
    "debt['child_group'] = debt['child_group'].map(child_dict)\n",
    "\n",
    "debt.head()"
   ]
  },
  {
   "cell_type": "markdown",
   "metadata": {},
   "source": [
    "#### Уровень дохода\n",
    "\n",
    "Ещё раз выведем сводную статистику и посмотрим на распределение переменной:"
   ]
  },
  {
   "cell_type": "code",
   "execution_count": 36,
   "metadata": {},
   "outputs": [
    {
     "name": "stdout",
     "output_type": "stream",
     "text": [
      "count    1.914900e+04\n",
      "mean     1.674919e+05\n",
      "std      1.032220e+05\n",
      "min      2.066726e+04\n",
      "25%      1.030283e+05\n",
      "50%      1.450179e+05\n",
      "75%      2.033535e+05\n",
      "max      2.265604e+06\n",
      "Name: total_income, dtype: float64\n"
     ]
    },
    {
     "data": {
      "image/png": "[encoded data removed]",
      "text/plain": [
       "<Figure size 576x360 with 1 Axes>"
      ]
     },
     "metadata": {
      "needs_background": "light"
     },
     "output_type": "display_data"
    },
    {
     "data": {
      "image/png": "[encoded data removed]",
      "text/plain": [
       "<Figure size 576x360 with 1 Axes>"
      ]
     },
     "metadata": {
      "needs_background": "light"
     },
     "output_type": "display_data"
    }
   ],
   "source": [
    "# вывод сводной статистики\n",
    "print(debt['total_income'].describe())\n",
    "\n",
    "# построение гистограммы\n",
    "plt.figure(figsize=(8, 5))\n",
    "plt.hist(debt['total_income'], bins=100)\n",
    "plt.title('Распределение значений зарплаты')\n",
    "plt.xlabel('Зарплата (у. е.)')\n",
    "plt.ylabel('Количество клиентов')\n",
    "plt.grid()\n",
    "plt.show()\n",
    "\n",
    "# построение боксплот\n",
    "plt.figure(figsize=(8, 5))\n",
    "debt['total_income'].plot(kind='box')\n",
    "plt.title('Распределение значений зарплаты')\n",
    "plt.ylabel('Зарплата (у. е.)')\n",
    "plt.ylim([0, 500000]) # ограничение диапазона\n",
    "plt.grid()\n",
    "plt.show()"
   ]
  },
  {
   "cell_type": "markdown",
   "metadata": {},
   "source": [
    "Обозначим следующие категории:\n",
    "- Доход **ниже среднего** - меньше 80 тыс. у. е.\n",
    "- **Средний** доход - от 80 тыс. у. е. до 200 тыс. у. е.\n",
    "- Доход **выше среднего** - от 200 тыс. у. е. и выше"
   ]
  },
  {
   "cell_type": "code",
   "execution_count": 37,
   "metadata": {
    "scrolled": true
   },
   "outputs": [
    {
     "name": "stdout",
     "output_type": "stream",
     "text": [
      "ниже среднего\n",
      "средний\n",
      "выше среднего\n",
      "Значение income должно быть числом!\n"
     ]
    }
   ],
   "source": [
    "def categorize_income(income):\n",
    "    \"\"\"Функция присваивает значению дохода соответствующую категорию.\"\"\"\n",
    "    try: \n",
    "        if income < 80000:\n",
    "            return 'ниже среднего'\n",
    "        elif 80000 <= income < 200000:\n",
    "            return 'средний'\n",
    "        else:\n",
    "            return 'выше среднего'\n",
    "    except:\n",
    "        return ('Значение income должно быть числом!')\n",
    "\n",
    "# проверка работы функции\n",
    "print(categorize_income(63000))\n",
    "print(categorize_income(156000))\n",
    "print(categorize_income(587032))\n",
    "print(categorize_income('проверка'))"
   ]
  },
  {
   "cell_type": "markdown",
   "metadata": {},
   "source": [
    "Функция работает, применим её к датафрейму:"
   ]
  },
  {
   "cell_type": "code",
   "execution_count": 38,
   "metadata": {
    "scrolled": false
   },
   "outputs": [
    {
     "data": {
      "text/html": [
       "<div>\n",
       "<style scoped>\n",
       "    .dataframe tbody tr th:only-of-type {\n",
       "        vertical-align: middle;\n",
       "    }\n",
       "\n",
       "    .dataframe tbody tr th {\n",
       "        vertical-align: top;\n",
       "    }\n",
       "\n",
       "    .dataframe thead th {\n",
       "        text-align: right;\n",
       "    }\n",
       "</style>\n",
       "<table border=\"1\" class=\"dataframe\">\n",
       "  <thead>\n",
       "    <tr style=\"text-align: right;\">\n",
       "      <th></th>\n",
       "      <th>children</th>\n",
       "      <th>dob_years</th>\n",
       "      <th>education</th>\n",
       "      <th>education_id</th>\n",
       "      <th>family_status</th>\n",
       "      <th>family_status_id</th>\n",
       "      <th>gender</th>\n",
       "      <th>income_type</th>\n",
       "      <th>debt</th>\n",
       "      <th>total_income</th>\n",
       "      <th>purpose</th>\n",
       "      <th>purpose_group</th>\n",
       "      <th>child_group</th>\n",
       "      <th>income_group</th>\n",
       "    </tr>\n",
       "  </thead>\n",
       "  <tbody>\n",
       "    <tr>\n",
       "      <td>0</td>\n",
       "      <td>1</td>\n",
       "      <td>42</td>\n",
       "      <td>высшее</td>\n",
       "      <td>0</td>\n",
       "      <td>женат / замужем</td>\n",
       "      <td>0</td>\n",
       "      <td>F</td>\n",
       "      <td>сотрудник</td>\n",
       "      <td>0</td>\n",
       "      <td>253875.639453</td>\n",
       "      <td>покупка жилья</td>\n",
       "      <td>недвижимость</td>\n",
       "      <td>есть дети</td>\n",
       "      <td>выше среднего</td>\n",
       "    </tr>\n",
       "    <tr>\n",
       "      <td>1</td>\n",
       "      <td>1</td>\n",
       "      <td>36</td>\n",
       "      <td>среднее</td>\n",
       "      <td>1</td>\n",
       "      <td>женат / замужем</td>\n",
       "      <td>0</td>\n",
       "      <td>F</td>\n",
       "      <td>сотрудник</td>\n",
       "      <td>0</td>\n",
       "      <td>112080.014102</td>\n",
       "      <td>приобретение автомобиля</td>\n",
       "      <td>автомобиль</td>\n",
       "      <td>есть дети</td>\n",
       "      <td>средний</td>\n",
       "    </tr>\n",
       "    <tr>\n",
       "      <td>2</td>\n",
       "      <td>0</td>\n",
       "      <td>33</td>\n",
       "      <td>среднее</td>\n",
       "      <td>1</td>\n",
       "      <td>женат / замужем</td>\n",
       "      <td>0</td>\n",
       "      <td>M</td>\n",
       "      <td>сотрудник</td>\n",
       "      <td>0</td>\n",
       "      <td>145885.952297</td>\n",
       "      <td>покупка жилья</td>\n",
       "      <td>недвижимость</td>\n",
       "      <td>нет детей</td>\n",
       "      <td>средний</td>\n",
       "    </tr>\n",
       "    <tr>\n",
       "      <td>3</td>\n",
       "      <td>3</td>\n",
       "      <td>32</td>\n",
       "      <td>среднее</td>\n",
       "      <td>1</td>\n",
       "      <td>женат / замужем</td>\n",
       "      <td>0</td>\n",
       "      <td>M</td>\n",
       "      <td>сотрудник</td>\n",
       "      <td>0</td>\n",
       "      <td>267628.550329</td>\n",
       "      <td>дополнительное образование</td>\n",
       "      <td>образование</td>\n",
       "      <td>есть дети</td>\n",
       "      <td>выше среднего</td>\n",
       "    </tr>\n",
       "    <tr>\n",
       "      <td>4</td>\n",
       "      <td>0</td>\n",
       "      <td>53</td>\n",
       "      <td>среднее</td>\n",
       "      <td>1</td>\n",
       "      <td>гражданский брак</td>\n",
       "      <td>1</td>\n",
       "      <td>F</td>\n",
       "      <td>пенсионер</td>\n",
       "      <td>0</td>\n",
       "      <td>158616.077870</td>\n",
       "      <td>сыграть свадьбу</td>\n",
       "      <td>свадьба</td>\n",
       "      <td>нет детей</td>\n",
       "      <td>средний</td>\n",
       "    </tr>\n",
       "  </tbody>\n",
       "</table>\n",
       "</div>"
      ],
      "text/plain": [
       "   children  dob_years education  education_id     family_status  \\\n",
       "0         1         42    высшее             0   женат / замужем   \n",
       "1         1         36   среднее             1   женат / замужем   \n",
       "2         0         33   среднее             1   женат / замужем   \n",
       "3         3         32   среднее             1   женат / замужем   \n",
       "4         0         53   среднее             1  гражданский брак   \n",
       "\n",
       "   family_status_id gender income_type  debt   total_income  \\\n",
       "0                 0      F   сотрудник     0  253875.639453   \n",
       "1                 0      F   сотрудник     0  112080.014102   \n",
       "2                 0      M   сотрудник     0  145885.952297   \n",
       "3                 0      M   сотрудник     0  267628.550329   \n",
       "4                 1      F   пенсионер     0  158616.077870   \n",
       "\n",
       "                      purpose purpose_group child_group   income_group  \n",
       "0               покупка жилья  недвижимость   есть дети  выше среднего  \n",
       "1     приобретение автомобиля    автомобиль   есть дети        средний  \n",
       "2               покупка жилья  недвижимость   нет детей        средний  \n",
       "3  дополнительное образование   образование   есть дети  выше среднего  \n",
       "4             сыграть свадьбу       свадьба   нет детей        средний  "
      ]
     },
     "execution_count": 38,
     "metadata": {},
     "output_type": "execute_result"
    }
   ],
   "source": [
    "# применим функцию и посмотрим результат\n",
    "debt['income_group'] = debt['total_income'].apply(categorize_income)\n",
    "debt.head()"
   ]
  },
  {
   "cell_type": "markdown",
   "metadata": {},
   "source": [
    "## Шаг 2. Вывод\n",
    "\n",
    "#### 2.1. Приведение данных к единому регистру\n",
    "- Все данные типа object приведены к единообразному виду: в написании используются только строчные буквы.\n",
    "\n",
    "#### 2.2. Проверка данных на правдоподобность\n",
    "- **Колонка gender** - удалено наблюдение с неопределённым полом XNA.\n",
    "- **Колонка children** - удалены строки с неправдоподобными значениями (-1 и 20 детей).\n",
    "- **Колонка dob_years** - удалены строки с нулевым возрастом.\n",
    "\n",
    "#### 2.3. Обработка пропусков\n",
    "- Удалена полностью колонка *days_employed*, т. к. в ней содержится много отрицательных и неправдоподобных значений. Для целей задачи данная колонка не требуется.\n",
    "- Удалены строки с пропусками в колонке *total_income*.\n",
    "\n",
    "#### 2.4. Обработка дубликатов\n",
    "- После предыдущих пунктов все дубликаты были удалены.\n",
    "\n",
    "#### 2.5. Лемматизация\n",
    "- Выделены следующие категории целей кредита:\n",
    " - **Недвижимость** - различные операции с жилой и коммерческой недвижимостью (покупка, обмен и др.)\n",
    " - **Автомобиль** - сделки, связанные с покупкой автомобиля\n",
    " - **Образование** - получение образования\n",
    " - **Свадьба** - проведение свадьбы\n",
    " - **Строительство и ремонт** - действия по возведению или ремонту зданий и помещений\n",
    " \n",
    "#### 2.6. Категоризация\n",
    "- Категоризация для **семейного положения** присутствовала в исходных данных.\n",
    "- Проведена категоризация колонок, относящихся к **целям кредита**, **наличию детей**, **уровню дохода**.\n",
    "- В рамках поставленной задачи было принято решение присвоить категориям текстовые, а не численные значения."
   ]
  },
  {
   "cell_type": "markdown",
   "metadata": {},
   "source": [
    "### Шаг 3. Вывод информации по группам\n",
    "\n",
    "Для предобработанных данных необходимо вывести следующую информацию:\n",
    "\n",
    "- Процент должников в зависимости от **наличия детей**\n",
    "- Процент должников в зависимости от **семейного статуса**\n",
    "- Процент должников в зависимости от **целей кредита**\n",
    "- Процент должников в зависимости от **группы дохода**\n",
    "\n",
    "Для каждого случая можно сделаем выводы относительно доли должников для групп.  \n",
    "***ВНИМАНИЕ!*** Мы говорим лишь о предобработанных **выборочных** данных и не экстраполируем выводы на всю генеральную совокупность."
   ]
  },
  {
   "cell_type": "code",
   "execution_count": 39,
   "metadata": {},
   "outputs": [],
   "source": [
    "def show_debt_pct(df_name, col_name, title_name):\n",
    "    \n",
    "    \"\"\"Для выбранной колонки функция выводит таблицу с процентом должников по группам:\n",
    "    - df_name - наименование датафрейма;\n",
    "    - col_name - наименование колонки (в кавычках);\n",
    "    - title_name - наименование группы для заголовка.\"\"\"\n",
    "    \n",
    "    # группировка\n",
    "    group = pd.concat([df_name.groupby(col_name)['debt'].count(),\n",
    "                       df_name.groupby(col_name)['debt'].sum()], axis=1)\n",
    "    group.columns = ['total', 'debt']\n",
    "    \n",
    "    # расчёт колонки с процентом должников\n",
    "    group['debt_pct'] = round(group['debt'] / group['total'] * 100, 2)\n",
    "    # сортировка для отражении на графике\n",
    "    group.sort_values('total', ascending=False, inplace=True)\n",
    "    \n",
    "    # построение barchart\n",
    "    group_name = group.index.values\n",
    "    plt.figure(figsize=(8, 5))\n",
    "    plt.bar(group_name, group['total'], label='нет долга')\n",
    "    plt.bar(group_name, group['debt'], bottom=group['total'], label='долг')\n",
    "    plt.ylabel('Количество клиентов')\n",
    "    plt.title(f'Положение с задолженностью ({title_name})')\n",
    "    plt.xticks(rotation=45)\n",
    "    plt.legend()\n",
    "    plt.show()\n",
    "    \n",
    "    return group"
   ]
  },
  {
   "cell_type": "code",
   "execution_count": 40,
   "metadata": {},
   "outputs": [
    {
     "data": {
      "image/png": "[encoded data removed]",
      "text/plain": [
       "<Figure size 576x360 with 1 Axes>"
      ]
     },
     "metadata": {
      "needs_background": "light"
     },
     "output_type": "display_data"
    },
    {
     "data": {
      "text/html": [
       "<div>\n",
       "<style scoped>\n",
       "    .dataframe tbody tr th:only-of-type {\n",
       "        vertical-align: middle;\n",
       "    }\n",
       "\n",
       "    .dataframe tbody tr th {\n",
       "        vertical-align: top;\n",
       "    }\n",
       "\n",
       "    .dataframe thead th {\n",
       "        text-align: right;\n",
       "    }\n",
       "</style>\n",
       "<table border=\"1\" class=\"dataframe\">\n",
       "  <thead>\n",
       "    <tr style=\"text-align: right;\">\n",
       "      <th></th>\n",
       "      <th>total</th>\n",
       "      <th>debt</th>\n",
       "      <th>debt_pct</th>\n",
       "    </tr>\n",
       "    <tr>\n",
       "      <th>child_group</th>\n",
       "      <th></th>\n",
       "      <th></th>\n",
       "      <th></th>\n",
       "    </tr>\n",
       "  </thead>\n",
       "  <tbody>\n",
       "    <tr>\n",
       "      <td>нет детей</td>\n",
       "      <td>12648</td>\n",
       "      <td>947</td>\n",
       "      <td>7.49</td>\n",
       "    </tr>\n",
       "    <tr>\n",
       "      <td>есть дети</td>\n",
       "      <td>6501</td>\n",
       "      <td>607</td>\n",
       "      <td>9.34</td>\n",
       "    </tr>\n",
       "  </tbody>\n",
       "</table>\n",
       "</div>"
      ],
      "text/plain": [
       "             total  debt  debt_pct\n",
       "child_group                       \n",
       "нет детей    12648   947      7.49\n",
       "есть дети     6501   607      9.34"
      ]
     },
     "execution_count": 40,
     "metadata": {},
     "output_type": "execute_result"
    }
   ],
   "source": [
    "# наличие детей\n",
    "show_debt_pct(debt, 'child_group', 'наличие детей')"
   ]
  },
  {
   "cell_type": "markdown",
   "metadata": {},
   "source": [
    "- В банк чаще обращались клиенты, не имеющие детей.\n",
    "- Процент должников **с детьми** несколько **выше** - 9.34%, чем для клиентов **без детей** - 7.49%."
   ]
  },
  {
   "cell_type": "code",
   "execution_count": 41,
   "metadata": {},
   "outputs": [
    {
     "data": {
      "image/png": "[encoded data removed]",
      "text/plain": [
       "<Figure size 576x360 with 1 Axes>"
      ]
     },
     "metadata": {
      "needs_background": "light"
     },
     "output_type": "display_data"
    },
    {
     "data": {
      "text/html": [
       "<div>\n",
       "<style scoped>\n",
       "    .dataframe tbody tr th:only-of-type {\n",
       "        vertical-align: middle;\n",
       "    }\n",
       "\n",
       "    .dataframe tbody tr th {\n",
       "        vertical-align: top;\n",
       "    }\n",
       "\n",
       "    .dataframe thead th {\n",
       "        text-align: right;\n",
       "    }\n",
       "</style>\n",
       "<table border=\"1\" class=\"dataframe\">\n",
       "  <thead>\n",
       "    <tr style=\"text-align: right;\">\n",
       "      <th></th>\n",
       "      <th>total</th>\n",
       "      <th>debt</th>\n",
       "      <th>debt_pct</th>\n",
       "    </tr>\n",
       "    <tr>\n",
       "      <th>family_status</th>\n",
       "      <th></th>\n",
       "      <th></th>\n",
       "      <th></th>\n",
       "    </tr>\n",
       "  </thead>\n",
       "  <tbody>\n",
       "    <tr>\n",
       "      <td>женат / замужем</td>\n",
       "      <td>11026</td>\n",
       "      <td>838</td>\n",
       "      <td>7.60</td>\n",
       "    </tr>\n",
       "    <tr>\n",
       "      <td>гражданский брак</td>\n",
       "      <td>3700</td>\n",
       "      <td>334</td>\n",
       "      <td>9.03</td>\n",
       "    </tr>\n",
       "    <tr>\n",
       "      <td>не женат / не замужем</td>\n",
       "      <td>2500</td>\n",
       "      <td>252</td>\n",
       "      <td>10.08</td>\n",
       "    </tr>\n",
       "    <tr>\n",
       "      <td>в разводе</td>\n",
       "      <td>1069</td>\n",
       "      <td>75</td>\n",
       "      <td>7.02</td>\n",
       "    </tr>\n",
       "    <tr>\n",
       "      <td>вдовец / вдова</td>\n",
       "      <td>854</td>\n",
       "      <td>55</td>\n",
       "      <td>6.44</td>\n",
       "    </tr>\n",
       "  </tbody>\n",
       "</table>\n",
       "</div>"
      ],
      "text/plain": [
       "                       total  debt  debt_pct\n",
       "family_status                               \n",
       "женат / замужем        11026   838      7.60\n",
       "гражданский брак        3700   334      9.03\n",
       "не женат / не замужем   2500   252     10.08\n",
       "в разводе               1069    75      7.02\n",
       "вдовец / вдова           854    55      6.44"
      ]
     },
     "execution_count": 41,
     "metadata": {},
     "output_type": "execute_result"
    }
   ],
   "source": [
    "# семейный статус\n",
    "show_debt_pct(debt, 'family_status', 'семейный статус')"
   ]
  },
  {
   "cell_type": "markdown",
   "metadata": {},
   "source": [
    "- Большинство клиентов находятся в **официальном браке**.\n",
    "- **Наибольшая** доля должников для группы \"не женат / не замужем\" - **10.08%**, **наименьшая** - для группы \"вдовец / вдова\" - **6.44%**."
   ]
  },
  {
   "cell_type": "code",
   "execution_count": 42,
   "metadata": {},
   "outputs": [
    {
     "data": {
      "image/png": "[encoded data removed]",
      "text/plain": [
       "<Figure size 576x360 with 1 Axes>"
      ]
     },
     "metadata": {
      "needs_background": "light"
     },
     "output_type": "display_data"
    },
    {
     "data": {
      "text/html": [
       "<div>\n",
       "<style scoped>\n",
       "    .dataframe tbody tr th:only-of-type {\n",
       "        vertical-align: middle;\n",
       "    }\n",
       "\n",
       "    .dataframe tbody tr th {\n",
       "        vertical-align: top;\n",
       "    }\n",
       "\n",
       "    .dataframe thead th {\n",
       "        text-align: right;\n",
       "    }\n",
       "</style>\n",
       "<table border=\"1\" class=\"dataframe\">\n",
       "  <thead>\n",
       "    <tr style=\"text-align: right;\">\n",
       "      <th></th>\n",
       "      <th>total</th>\n",
       "      <th>debt</th>\n",
       "      <th>debt_pct</th>\n",
       "    </tr>\n",
       "    <tr>\n",
       "      <th>purpose_group</th>\n",
       "      <th></th>\n",
       "      <th></th>\n",
       "      <th></th>\n",
       "    </tr>\n",
       "  </thead>\n",
       "  <tbody>\n",
       "    <tr>\n",
       "      <td>недвижимость</td>\n",
       "      <td>7441</td>\n",
       "      <td>547</td>\n",
       "      <td>7.35</td>\n",
       "    </tr>\n",
       "    <tr>\n",
       "      <td>автомобиль</td>\n",
       "      <td>3851</td>\n",
       "      <td>361</td>\n",
       "      <td>9.37</td>\n",
       "    </tr>\n",
       "    <tr>\n",
       "      <td>образование</td>\n",
       "      <td>3557</td>\n",
       "      <td>330</td>\n",
       "      <td>9.28</td>\n",
       "    </tr>\n",
       "    <tr>\n",
       "      <td>строительство и ремонт</td>\n",
       "      <td>2223</td>\n",
       "      <td>163</td>\n",
       "      <td>7.33</td>\n",
       "    </tr>\n",
       "    <tr>\n",
       "      <td>свадьба</td>\n",
       "      <td>2077</td>\n",
       "      <td>153</td>\n",
       "      <td>7.37</td>\n",
       "    </tr>\n",
       "  </tbody>\n",
       "</table>\n",
       "</div>"
      ],
      "text/plain": [
       "                        total  debt  debt_pct\n",
       "purpose_group                                \n",
       "недвижимость             7441   547      7.35\n",
       "автомобиль               3851   361      9.37\n",
       "образование              3557   330      9.28\n",
       "строительство и ремонт   2223   163      7.33\n",
       "свадьба                  2077   153      7.37"
      ]
     },
     "execution_count": 42,
     "metadata": {},
     "output_type": "execute_result"
    }
   ],
   "source": [
    "# цели кредита\n",
    "show_debt_pct(debt, 'purpose_group', 'цели кредита')"
   ]
  },
  {
   "cell_type": "markdown",
   "metadata": {},
   "source": [
    "- Чаще всего целью кредита являлись операции с **недвижимостью**.\n",
    "- Наиболее **высокая** доля должников в группах \"автомобиль\" и \"образование\" - **порядка 9%**."
   ]
  },
  {
   "cell_type": "code",
   "execution_count": 43,
   "metadata": {},
   "outputs": [
    {
     "data": {
      "image/png": "[encoded data removed]",
      "text/plain": [
       "<Figure size 576x360 with 1 Axes>"
      ]
     },
     "metadata": {
      "needs_background": "light"
     },
     "output_type": "display_data"
    },
    {
     "data": {
      "text/html": [
       "<div>\n",
       "<style scoped>\n",
       "    .dataframe tbody tr th:only-of-type {\n",
       "        vertical-align: middle;\n",
       "    }\n",
       "\n",
       "    .dataframe tbody tr th {\n",
       "        vertical-align: top;\n",
       "    }\n",
       "\n",
       "    .dataframe thead th {\n",
       "        text-align: right;\n",
       "    }\n",
       "</style>\n",
       "<table border=\"1\" class=\"dataframe\">\n",
       "  <thead>\n",
       "    <tr style=\"text-align: right;\">\n",
       "      <th></th>\n",
       "      <th>total</th>\n",
       "      <th>debt</th>\n",
       "      <th>debt_pct</th>\n",
       "    </tr>\n",
       "    <tr>\n",
       "      <th>income_group</th>\n",
       "      <th></th>\n",
       "      <th></th>\n",
       "      <th></th>\n",
       "    </tr>\n",
       "  </thead>\n",
       "  <tbody>\n",
       "    <tr>\n",
       "      <td>средний</td>\n",
       "      <td>11885</td>\n",
       "      <td>1025</td>\n",
       "      <td>8.62</td>\n",
       "    </tr>\n",
       "    <tr>\n",
       "      <td>выше среднего</td>\n",
       "      <td>5011</td>\n",
       "      <td>355</td>\n",
       "      <td>7.08</td>\n",
       "    </tr>\n",
       "    <tr>\n",
       "      <td>ниже среднего</td>\n",
       "      <td>2253</td>\n",
       "      <td>174</td>\n",
       "      <td>7.72</td>\n",
       "    </tr>\n",
       "  </tbody>\n",
       "</table>\n",
       "</div>"
      ],
      "text/plain": [
       "               total  debt  debt_pct\n",
       "income_group                        \n",
       "средний        11885  1025      8.62\n",
       "выше среднего   5011   355      7.08\n",
       "ниже среднего   2253   174      7.72"
      ]
     },
     "execution_count": 43,
     "metadata": {},
     "output_type": "execute_result"
    }
   ],
   "source": [
    "# группа дохода\n",
    "show_debt_pct(debt, 'income_group', 'группа доходов')"
   ]
  },
  {
   "cell_type": "markdown",
   "metadata": {},
   "source": [
    "- Большинство клиентов имеет средний доход от 80 тыс. у. е. до 200 тыс. у. е.\n",
    "- Процент должников во всех группах относительно одинковый."
   ]
  },
  {
   "cell_type": "markdown",
   "metadata": {},
   "source": [
    "## Шаг 3. Вывод\n",
    "- По каждой группе выведена **табличная** и **графическая** информация по ситуации с должниками.\n",
    "- Важно отметить, что выводы делались относительно предобработанных **выборочных** данных, а не всей генеральной совокупности.\n",
    "\n",
    "#### Наличие детей\n",
    "- В банк чаще обращались клиенты, не имеющие детей.\n",
    "- Процент должников **с детьми** несколько **выше** - 9.34%, чем для клиентов **без детей** - 7.49%.\n",
    "\n",
    "#### Семейный статус\n",
    "- Большинство клиентов находятся в **официальном браке**.\n",
    "- **Наибольшая** доля должников для группы \"не женат / не замужем\" - **10.08%**, **наименьшая** - для группы \"вдовец / вдова\" - **6.44%**.\n",
    "\n",
    "#### Цели кредита\n",
    "- Чаще всего целью кредита являлись операции с **недвижимостью**.\n",
    "- Наиболее **высокая** доля должников в группах \"автомобиль\" и \"образование\" - **порядка 9%**.\n",
    "\n",
    "#### Группа дохода\n",
    "- Большинство клиентов имеет средний доход от 80 тыс. у. е. до 200 тыс. у. е.\n",
    "- Процент должников во всех группах относительно одинковый."
   ]
  },
  {
   "cell_type": "markdown",
   "metadata": {},
   "source": [
    "# Итоговый вывод\n",
    "\n",
    "## Шаг 1. Открытие и изучение файла\n",
    "- Исходные данные содержали информацию по **21525 займам**, а также **12 колонок** - различные социально-экономические характеристики клиента и статус возврата долга.\n",
    "- В таблице содержались **пропуски** и **дубликаты**, а также аномальные значения в колонках *days_employed*, *gender*, *dob_years*, *children*.\n",
    "\n",
    "## Шаг 2. Предобработка данных\n",
    "- Все данные типа object приведены к единообразному виду: в написании используются **только строчные буквы**.\n",
    "- Выявлены и удалены все **аномальные значения**.\n",
    "- Удалена колонка, *days_employed*, содержавшая много отрицательных и неправдоподобных значений. Также удалены строки с пропусками в колонке *total_income*.\n",
    "- В результате **лемматизации** выделены группы целей кредита: недвижимость, автомобиль, образование, свадьба, строительство и ремонт.\n",
    "- Проведена категоризация колонок, относящихся к **целям кредита**, **наличию детей**, **уровню дохода**.\n",
    "\n",
    "## Шаг 3. Вывод информации по группам\n",
    "- По каждой группе выведена **табличная** и **графическая** информация по ситуации с должниками.\n",
    "- Важно отметить, что выводы делались относительно предобработанных **выборочных** данных, а не всей генеральной совокупности."
   ]
  }
 ],
 "metadata": {
  "kernelspec": {
   "display_name": "Python 3",
   "language": "python",
   "name": "python3"
  },
  "language_info": {
   "codemirror_mode": {
    "name": "ipython",
    "version": 3
   },
   "file_extension": ".py",
   "mimetype": "text/x-python",
   "name": "python",
   "nbconvert_exporter": "python",
   "pygments_lexer": "ipython3",
   "version": "3.7.6"
  }
 },
 "nbformat": 4,
 "nbformat_minor": 2
}
