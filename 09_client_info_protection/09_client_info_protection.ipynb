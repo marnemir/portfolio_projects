{
 "cells": [
  {
   "cell_type": "markdown",
   "metadata": {},
   "source": [
    "# Защита персональных данных клиентов\n",
    "\n",
    "#### Тема проекта:\n",
    "- Исследование метода защиты персональных данных клиентов\n",
    "\n",
    "#### Цель:\n",
    "- Исследовать и использовать на практике метод шифрования данных\n",
    "\n",
    "#### Поставленные задачи:\n",
    "- Изучить предоставленные данные;\n",
    "- Для шифрования данных использовать метод умножения на обратимую матрицу;\n",
    "- Исследовать связь параметров линейной регрессии;\n",
    "- Проверить, изменятся ли предсказания модели и значение метрики R-квадрат.\n",
    "\n",
    "#### Краткий план работы:\n",
    "- [Шаг 1. Загрузка и изучение данных](#Шаг-1.-Загрузка-и-изучение-данных)\n",
    "- [Шаг 2. Проверка метода умножения на матрицу](#Шаг-2.-Проверка-метода-умножения-на-матрицу)\n",
    "  - [2.1. Обучение на исходных данных](#2.1.-Обучение-на-исходных-данных)\n",
    "  - [2.2. Умножение на обратимую матрицу](#2.2.-Умножение-на-обратимую-матрицу)\n",
    "  - [2.3. Связь параметров линейной регрессии](#2.3.-Связь-параметров-линейной-регрессии)\n",
    "- [Шаг 3. Алгоритм преобразования](#Шаг-3.-Алгоритм-преобразования)\n",
    "- [Шаг 4. Проверка алгоритма](#Шаг-4.-Проверка-алгоритма)\n",
    "\n",
    "#### Вывод:\n",
    "- Изучены предоставленные данные;\n",
    "- Для шифрования данных использован метод умножения на обратимую матрицу;\n",
    "- Использованный метод шифрования не повлиял на значение предсказаний и на метрику R-квадрат.\n",
    "\n",
    "**Статус проекта**: проект завершён.  \n",
    "\n",
    "**Используемые библиотеки**: *numpy*, *pandas*, *matplotlib*, *sklearn*  \n",
    "\n",
    "**Источник данных**: [курс Data Science от Яндекс.Практикум](https://praktikum.yandex.ru/profile/data-scientist/)"
   ]
  },
  {
   "cell_type": "code",
   "execution_count": 1,
   "metadata": {},
   "outputs": [],
   "source": [
    "# отключение предупреждений\n",
    "import warnings\n",
    "warnings.filterwarnings('ignore') \n",
    "\n",
    "# импорт библиотек и функция для дальнейшей работы\n",
    "import numpy as np\n",
    "import pandas as pd\n",
    "import matplotlib.pyplot as plt\n",
    "\n",
    "from sklearn.model_selection import train_test_split\n",
    "from sklearn.linear_model import LinearRegression\n",
    "from sklearn.metrics import r2_score, mean_absolute_error"
   ]
  },
  {
   "cell_type": "markdown",
   "metadata": {},
   "source": [
    "## Шаг 1. Загрузка и изучение данных\n",
    "\n",
    "Загрузим файл, выведем несколько строк и посмотрим общую информацию:"
   ]
  },
  {
   "cell_type": "code",
   "execution_count": 2,
   "metadata": {},
   "outputs": [
    {
     "name": "stdout",
     "output_type": "stream",
     "text": [
      "<class 'pandas.core.frame.DataFrame'>\n",
      "RangeIndex: 5000 entries, 0 to 4999\n",
      "Data columns (total 5 columns):\n",
      " #   Column             Non-Null Count  Dtype  \n",
      "---  ------             --------------  -----  \n",
      " 0   Пол                5000 non-null   int64  \n",
      " 1   Возраст            5000 non-null   float64\n",
      " 2   Зарплата           5000 non-null   float64\n",
      " 3   Члены семьи        5000 non-null   int64  \n",
      " 4   Страховые выплаты  5000 non-null   int64  \n",
      "dtypes: float64(2), int64(3)\n",
      "memory usage: 195.4 KB\n",
      "None\n"
     ]
    },
    {
     "data": {
      "text/html": [
       "<div>\n",
       "<style scoped>\n",
       "    .dataframe tbody tr th:only-of-type {\n",
       "        vertical-align: middle;\n",
       "    }\n",
       "\n",
       "    .dataframe tbody tr th {\n",
       "        vertical-align: top;\n",
       "    }\n",
       "\n",
       "    .dataframe thead th {\n",
       "        text-align: right;\n",
       "    }\n",
       "</style>\n",
       "<table border=\"1\" class=\"dataframe\">\n",
       "  <thead>\n",
       "    <tr style=\"text-align: right;\">\n",
       "      <th></th>\n",
       "      <th>Пол</th>\n",
       "      <th>Возраст</th>\n",
       "      <th>Зарплата</th>\n",
       "      <th>Члены семьи</th>\n",
       "      <th>Страховые выплаты</th>\n",
       "    </tr>\n",
       "  </thead>\n",
       "  <tbody>\n",
       "    <tr>\n",
       "      <th>0</th>\n",
       "      <td>1</td>\n",
       "      <td>41.0</td>\n",
       "      <td>49600.0</td>\n",
       "      <td>1</td>\n",
       "      <td>0</td>\n",
       "    </tr>\n",
       "    <tr>\n",
       "      <th>1</th>\n",
       "      <td>0</td>\n",
       "      <td>46.0</td>\n",
       "      <td>38000.0</td>\n",
       "      <td>1</td>\n",
       "      <td>1</td>\n",
       "    </tr>\n",
       "    <tr>\n",
       "      <th>2</th>\n",
       "      <td>0</td>\n",
       "      <td>29.0</td>\n",
       "      <td>21000.0</td>\n",
       "      <td>0</td>\n",
       "      <td>0</td>\n",
       "    </tr>\n",
       "    <tr>\n",
       "      <th>3</th>\n",
       "      <td>0</td>\n",
       "      <td>21.0</td>\n",
       "      <td>41700.0</td>\n",
       "      <td>2</td>\n",
       "      <td>0</td>\n",
       "    </tr>\n",
       "    <tr>\n",
       "      <th>4</th>\n",
       "      <td>1</td>\n",
       "      <td>28.0</td>\n",
       "      <td>26100.0</td>\n",
       "      <td>0</td>\n",
       "      <td>0</td>\n",
       "    </tr>\n",
       "  </tbody>\n",
       "</table>\n",
       "</div>"
      ],
      "text/plain": [
       "   Пол  Возраст  Зарплата  Члены семьи  Страховые выплаты\n",
       "0    1     41.0   49600.0            1                  0\n",
       "1    0     46.0   38000.0            1                  1\n",
       "2    0     29.0   21000.0            0                  0\n",
       "3    0     21.0   41700.0            2                  0\n",
       "4    1     28.0   26100.0            0                  0"
      ]
     },
     "execution_count": 2,
     "metadata": {},
     "output_type": "execute_result"
    }
   ],
   "source": [
    "# выгрузка нескольких строк\n",
    "insurance = pd.read_csv('datasets/insurance.csv')\n",
    "print(insurance.info())\n",
    "insurance.head()"
   ]
  },
  {
   "cell_type": "markdown",
   "metadata": {},
   "source": [
    "- Файл содержит **5000 строк** и **5 колонок**.\n",
    "- На первый взгляд явных **пропусков нет**.\n",
    "- **Тип данных** для каждой колонки указан корректно.\n",
    "\n",
    "Проверим, чтобы в колонках не было **аномальных значений** (например, неправдоподобно большой или маленький возраст, пол кроме 0 и 1 и др.)."
   ]
  },
  {
   "cell_type": "code",
   "execution_count": 3,
   "metadata": {},
   "outputs": [
    {
     "name": "stdout",
     "output_type": "stream",
     "text": [
      "Пол\n",
      "[0, 1]\n",
      "\n",
      "Возраст\n",
      "[18.0, 19.0, 20.0, 21.0, 22.0, 23.0, 24.0, 25.0, 26.0, 27.0, 28.0, 29.0, 30.0, 31.0, 32.0, 33.0, 34.0, 35.0, 36.0, 37.0, 38.0, 39.0, 40.0, 41.0, 42.0, 43.0, 44.0, 45.0, 46.0, 47.0, 48.0, 49.0, 50.0, 51.0, 52.0, 53.0, 54.0, 55.0, 56.0, 57.0, 58.0, 59.0, 60.0, 61.0, 62.0, 65.0]\n",
      "\n",
      "Члены семьи\n",
      "[0, 1, 2, 3, 4, 5, 6]\n",
      "\n",
      "Страховые выплаты\n",
      "[0, 1, 2, 3, 4, 5]\n",
      "\n"
     ]
    }
   ],
   "source": [
    "# выведем для каждой колонки уникальные значения\n",
    "for name in ['Пол', 'Возраст', 'Члены семьи', 'Страховые выплаты']:\n",
    "    print(name)\n",
    "    print(sorted(insurance[name].unique()))\n",
    "    print()"
   ]
  },
  {
   "cell_type": "markdown",
   "metadata": {},
   "source": [
    "Явно аномальных и подозрительных значений не обнаружено.\n",
    "\n",
    "Дополнительно проверим датасет на наличие **дубликатов**:"
   ]
  },
  {
   "cell_type": "code",
   "execution_count": 4,
   "metadata": {},
   "outputs": [
    {
     "name": "stdout",
     "output_type": "stream",
     "text": [
      "Количество дубликатов: 153\n"
     ]
    },
    {
     "data": {
      "text/html": [
       "<div>\n",
       "<style scoped>\n",
       "    .dataframe tbody tr th:only-of-type {\n",
       "        vertical-align: middle;\n",
       "    }\n",
       "\n",
       "    .dataframe tbody tr th {\n",
       "        vertical-align: top;\n",
       "    }\n",
       "\n",
       "    .dataframe thead th {\n",
       "        text-align: right;\n",
       "    }\n",
       "</style>\n",
       "<table border=\"1\" class=\"dataframe\">\n",
       "  <thead>\n",
       "    <tr style=\"text-align: right;\">\n",
       "      <th></th>\n",
       "      <th>Пол</th>\n",
       "      <th>Возраст</th>\n",
       "      <th>Зарплата</th>\n",
       "      <th>Члены семьи</th>\n",
       "      <th>Страховые выплаты</th>\n",
       "    </tr>\n",
       "  </thead>\n",
       "  <tbody>\n",
       "    <tr>\n",
       "      <th>281</th>\n",
       "      <td>1</td>\n",
       "      <td>39.0</td>\n",
       "      <td>48100.0</td>\n",
       "      <td>1</td>\n",
       "      <td>0</td>\n",
       "    </tr>\n",
       "    <tr>\n",
       "      <th>488</th>\n",
       "      <td>1</td>\n",
       "      <td>24.0</td>\n",
       "      <td>32900.0</td>\n",
       "      <td>1</td>\n",
       "      <td>0</td>\n",
       "    </tr>\n",
       "    <tr>\n",
       "      <th>513</th>\n",
       "      <td>0</td>\n",
       "      <td>31.0</td>\n",
       "      <td>37400.0</td>\n",
       "      <td>2</td>\n",
       "      <td>0</td>\n",
       "    </tr>\n",
       "    <tr>\n",
       "      <th>718</th>\n",
       "      <td>1</td>\n",
       "      <td>22.0</td>\n",
       "      <td>32600.0</td>\n",
       "      <td>1</td>\n",
       "      <td>0</td>\n",
       "    </tr>\n",
       "    <tr>\n",
       "      <th>785</th>\n",
       "      <td>0</td>\n",
       "      <td>20.0</td>\n",
       "      <td>35800.0</td>\n",
       "      <td>0</td>\n",
       "      <td>0</td>\n",
       "    </tr>\n",
       "  </tbody>\n",
       "</table>\n",
       "</div>"
      ],
      "text/plain": [
       "     Пол  Возраст  Зарплата  Члены семьи  Страховые выплаты\n",
       "281    1     39.0   48100.0            1                  0\n",
       "488    1     24.0   32900.0            1                  0\n",
       "513    0     31.0   37400.0            2                  0\n",
       "718    1     22.0   32600.0            1                  0\n",
       "785    0     20.0   35800.0            0                  0"
      ]
     },
     "execution_count": 4,
     "metadata": {},
     "output_type": "execute_result"
    }
   ],
   "source": [
    "# проверка на наличие дубликатов\n",
    "print('Количество дубликатов:', insurance.duplicated().sum())\n",
    "insurance[insurance.duplicated()].head()"
   ]
  },
  {
   "cell_type": "markdown",
   "metadata": {},
   "source": [
    "В датасете обнаружено **153 дубликата**. Причины появления дубликатов: записи **действительно задублированы** (в определении задублированных записей могли бы помочь id) либо это люди, которые имеют **похожие социально-экономические** характеристики.\n",
    "\n",
    "В реальной жизни стоило бы задать вопрос коллегам, ответственным за выгрузку. В данном случае, мы оставим данные без изменений и продолжим **работать с 500 строками**."
   ]
  },
  {
   "cell_type": "markdown",
   "metadata": {},
   "source": [
    "Дополнительно рассмотрим **распределение данных** по переменным с типом *float* - **возрасту** и **зарплате**:"
   ]
  },
  {
   "cell_type": "code",
   "execution_count": 5,
   "metadata": {},
   "outputs": [],
   "source": [
    "def describe_hist(df_name, col_name, title, col_label, bins=50, xticks=None):\n",
    "    \"\"\"Функция выводит сводную статистику, боксплот и гистограмму:\n",
    "    - df_name - название датафрейма;\n",
    "    - col_name - название колонки;\n",
    "    - title - значение title;\n",
    "    - col_label - подпись для оси со значениями колонки;\n",
    "    - bins (по умолчанию 50) - значение bins;\n",
    "    - xticks - значение xticks.\"\"\"\n",
    "    \n",
    "    # вывод сводной статистики\n",
    "    print(df_name[col_name].describe())\n",
    "    \n",
    "    # построение боксплот\n",
    "    insurance.boxplot(col_name, by='Страховые выплаты', figsize=(9, 5))\n",
    "    plt.title(f'{title} (по группам страховых выплат)')\n",
    "    plt.xlabel('Количество страховых выплат')\n",
    "    plt.ylabel(col_label)\n",
    "    plt.show()\n",
    "     \n",
    "    # построение гистограммы\n",
    "    plt.figure(figsize=(10,5))\n",
    "    df_name[col_name].hist(bins=bins)\n",
    "    plt.title(title)\n",
    "    plt.xlabel(col_label)\n",
    "    plt.xticks(xticks, rotation=45)\n",
    "    plt.show()"
   ]
  },
  {
   "cell_type": "code",
   "execution_count": 6,
   "metadata": {},
   "outputs": [
    {
     "name": "stdout",
     "output_type": "stream",
     "text": [
      "Количество клиентов для разного количества выплат:\n",
      "0    4436\n",
      "1     423\n",
      "2     115\n",
      "3      18\n",
      "4       7\n",
      "5       1\n",
      "Name: Страховые выплаты, dtype: int64\n"
     ]
    }
   ],
   "source": [
    "# количество клиентов для разного количества выплат\n",
    "print('Количество клиентов для разного количества выплат:')\n",
    "print(insurance['Страховые выплаты'].value_counts())"
   ]
  },
  {
   "cell_type": "code",
   "execution_count": 7,
   "metadata": {},
   "outputs": [
    {
     "name": "stdout",
     "output_type": "stream",
     "text": [
      "count    5000.000000\n",
      "mean       30.952800\n",
      "std         8.440807\n",
      "min        18.000000\n",
      "25%        24.000000\n",
      "50%        30.000000\n",
      "75%        37.000000\n",
      "max        65.000000\n",
      "Name: Возраст, dtype: float64\n"
     ]
    },
    {
     "data": {
      "image/png": "[encoded data removed]",
      "text/plain": [
       "<Figure size 648x360 with 1 Axes>"
      ]
     },
     "metadata": {
      "needs_background": "light"
     },
     "output_type": "display_data"
    },
    {
     "data": {
      "image/png": "[encoded data removed]",
      "text/plain": [
       "<Figure size 720x360 with 1 Axes>"
      ]
     },
     "metadata": {
      "needs_background": "light"
     },
     "output_type": "display_data"
    }
   ],
   "source": [
    "# распределение для возраста\n",
    "describe_hist(insurance, 'Возраст', 'Распределение возраста клиентов', 'Возраст (год)',\n",
    "              bins=insurance['Возраст'].nunique()+1, xticks=np.arange(17, 66))"
   ]
  },
  {
   "cell_type": "markdown",
   "metadata": {},
   "source": [
    "- Среднему клиенту страховой компании **30 лет**.\n",
    "- Данные распределены не нормально: среди клиентов страховой компании больше всего **молодых людей** до 40 лет.\n",
    "- В выборке чем **старше** становится человек, тем **бо́льшее суммарное количество страховых выплат** он получает.  \n",
    "На первый взгляд выглядит логично - если человек долго являлся клиентом банка, возможно, он успел получить уже несколько выплат. Однако, в задании сказано, что страховые выплаты указаны **за 5 лет**. Поэтому, возможно, причина таких закономерностей может быть в чём-то другом.\n",
    "- Важно учесть, что для 3, 4, 5 выплат количество клиентов в каждой группе **менее 19 человек** - это довольно маленькое количество, чтобы сделать вывод."
   ]
  },
  {
   "cell_type": "code",
   "execution_count": 8,
   "metadata": {},
   "outputs": [
    {
     "name": "stdout",
     "output_type": "stream",
     "text": [
      "count     5000.000000\n",
      "mean     39916.360000\n",
      "std       9900.083569\n",
      "min       5300.000000\n",
      "25%      33300.000000\n",
      "50%      40200.000000\n",
      "75%      46600.000000\n",
      "max      79000.000000\n",
      "Name: Зарплата, dtype: float64\n"
     ]
    },
    {
     "data": {
      "image/png": "[encoded data removed]",
      "text/plain": [
       "<Figure size 648x360 with 1 Axes>"
      ]
     },
     "metadata": {
      "needs_background": "light"
     },
     "output_type": "display_data"
    },
    {
     "data": {
      "image/png": "[encoded data removed]",
      "text/plain": [
       "<Figure size 720x360 with 1 Axes>"
      ]
     },
     "metadata": {
      "needs_background": "light"
     },
     "output_type": "display_data"
    }
   ],
   "source": [
    "# распределение для зарплаты\n",
    "describe_hist(insurance, 'Зарплата', 'Распределение зарплаты клиентов', 'Зарплата (у.е.)')"
   ]
  },
  {
   "cell_type": "markdown",
   "metadata": {},
   "source": [
    "- В среднем клиент страховой получает около **40 000 у.е.** (валюта неизвестна, поэтому будем называть её условной единицей - у. е.).\n",
    "- Зарплата клиентов имеет **нормальное распределение**.\n",
    "- Для выплат с количеством 0, 1 и 2 средние выборочные значения **похожи**. Для групп 3, 4, 5 значения отличаются, однако в каждой из этих групп менее 19 человек."
   ]
  },
  {
   "cell_type": "markdown",
   "metadata": {},
   "source": [
    "## Шаг 1. Вывод\n",
    "\n",
    "- Файл содержит **5000 строк** и **5 колонок**.\n",
    "- В датасете **отсутствуют** явные **пропуски**.\n",
    "- **Тип данных** для каждой колонки указан корректно.\n",
    "- **Аномальных значений** (например, неправдоподобно большой или маленький возраст, пол кроме 0 и 1 и др.) **не обнаружено**.\n",
    "- Присутствует **153 дубликата**.\n",
    "- Изучено распределение **возраста** и **зарплаты**:\n",
    "  - **Средний** возраст клиента банка **30 лет**. При этом возраст распределен **не нормально**.\n",
    "  - В среднем клиента банка получает **около 40 тыс. у. е.**. Зарплата клиентов распределена **нормально**.\n",
    "- Из интересных закономерностей обнаружено, что у **более взрослых** клиентов **бо́льшее** число **страховы выплат**. Однако стоит учесть, что для 3, 4, 5 выплат количество клиентов в каждой группе **менее 19 человек** - это довольно маленькое количество, чтобы сделать вывод."
   ]
  },
  {
   "cell_type": "markdown",
   "metadata": {},
   "source": [
    "## Шаг 2. Проверка метода умножения на матрицу\n",
    "\n",
    "Одним из возможных методов шифрования данных является **умножение на обратимую матрицу**.  \n",
    "Рассмотрим данный метод для **линейной регрессии** и посмотрим, изменится ли значение метрики **R-квадрат**.\n",
    "\n",
    "Данный шаг разобьём на несколько этапов:\n",
    "- [2.1. Обучение на исходных данных](#2.1.-Обучение-на-исходных-данных)\n",
    "- [2.2. Умножение на обратимую матрицу](#2.2.-Умножение-на-обратимую-матрицу)\n",
    "- [2.3. Связь параметров линейной регрессии](#2.3.-Связь-параметров-линейной-регрессии)"
   ]
  },
  {
   "cell_type": "markdown",
   "metadata": {},
   "source": [
    "### 2.1. Обучение на исходных данных\n",
    "\n",
    "Выделим **признаки** и **целевой признак** для дальнейшего обучения модели:\n",
    "- **Признаки**: пол, возраст и зарплата застрахованного, количество членов его семьи.\n",
    "- **Целевой признак**: количество страховых выплат клиенту за последние 5 лет.\n",
    "\n",
    "Для тестирования модели разделим выборку на **обучающую** и **тестовую** (доля тестовой выборки 25%)."
   ]
  },
  {
   "cell_type": "code",
   "execution_count": 9,
   "metadata": {},
   "outputs": [
    {
     "name": "stdout",
     "output_type": "stream",
     "text": [
      "Количество элементов в обучающей выборке: 3750\n",
      "Количество элементов в тестовой выборке: 1250\n",
      "\n",
      "Значение R-квадрат: 0.4128950049384499\n",
      "Предсказанные значения: [ 0.78004231 -0.30575652  0.69274494 -0.19920586  0.20359419  0.47501608]\n"
     ]
    }
   ],
   "source": [
    "SEED = 54321\n",
    "\n",
    "# выделение признаков\n",
    "features = insurance.drop('Страховые выплаты', axis=1)\n",
    "# выделение целевого признака\n",
    "target = insurance['Страховые выплаты']\n",
    "\n",
    "# разделение выборок\n",
    "features_train, features_test, target_train, target_test = train_test_split(\n",
    "        features, target, test_size=0.25, random_state=SEED)\n",
    "\n",
    "print('Количество элементов в обучающей выборке:', len(features_train))\n",
    "print('Количество элементов в тестовой выборке:', len(features_test))\n",
    "print()\n",
    "\n",
    "# обучение модели\n",
    "model = LinearRegression()\n",
    "model.fit(features_train, target_train)\n",
    "predictions_test = model.predict(features_test)\n",
    "\n",
    "print('Значение R-квадрат:', r2_score(target_test, predictions_test))\n",
    "print('Предсказанные значения:', predictions_test[:6])"
   ]
  },
  {
   "cell_type": "markdown",
   "metadata": {},
   "source": [
    "Мы получили значение интересующей нас метрики **R-квадрат**, а также вывели несколько значений.  \n",
    "Бросается в глаза то, что модель предсказывает **нецелочисленные** и **отрицательные** значения целевой переменной.  \n",
    "Однако сосредоточимся на целевом вопросе - как повлияет на результат **умножение** признаков на **обратимую матрицу**."
   ]
  },
  {
   "cell_type": "markdown",
   "metadata": {},
   "source": [
    "### 2.2. Умножение на обратимую матрицу\n",
    "\n",
    "Посмотрим, какие получатся результаты при умножении признаков на **обратимую матрицу**:  \n",
    "1. Создадим **случайную матрицу**, проверим, чтобы она была **обратима**.\n",
    "2. Умножим на эту матрицу признаки **обучающей** и **тестовой** выборки.\n",
    "3. Повторно обучим модель и посмотрим на результат."
   ]
  },
  {
   "cell_type": "markdown",
   "metadata": {},
   "source": [
    "Создадим случайную матрицу размером **4х4** и проверим, чтобы она была **обратима**: посчитаем **обратную матрицу**.  \n",
    "Если матрица необратима, будет ошибка."
   ]
  },
  {
   "cell_type": "code",
   "execution_count": 10,
   "metadata": {},
   "outputs": [
    {
     "name": "stdout",
     "output_type": "stream",
     "text": [
      "Случайная матрица:\n",
      "[[0.91164078 0.62382484 0.79180384 0.4297848 ]\n",
      " [0.54301296 0.41345828 0.08564072 0.77761304]\n",
      " [0.48894968 0.05053068 0.53842679 0.04146943]\n",
      " [0.80809445 0.99525363 0.63870977 0.94585959]]\n",
      "\n",
      "Обратная матрица:\n",
      "[[ 4.7617145   1.96783951 -2.98500126 -3.65058821]\n",
      " [ 3.21317607 -1.17947405 -4.17301187 -0.30738957]\n",
      " [-4.27427426 -1.73252498  4.66775746  3.16186767]\n",
      " [-4.56285431  0.7297661   3.78917329  2.36444704]]\n"
     ]
    }
   ],
   "source": [
    "np.random.seed(SEED) # зафиксируем матрицу\n",
    "random_matrix = np.random.random((4, 4))\n",
    "print('Случайная матрица:')\n",
    "print(random_matrix)\n",
    "print()\n",
    "\n",
    "print('Обратная матрица:')\n",
    "print(np.linalg.inv(random_matrix))"
   ]
  },
  {
   "cell_type": "markdown",
   "metadata": {},
   "source": [
    "Всё в порядке, ошибки нет. Значит, матрица **обратима** - мы можем использовать её для следующего шага.  \n",
    "**Умножим** признаки обучающей и тестовой выборки на созданную матрицу:"
   ]
  },
  {
   "cell_type": "code",
   "execution_count": 11,
   "metadata": {},
   "outputs": [
    {
     "name": "stdout",
     "output_type": "stream",
     "text": [
      "Проверка значений (обучающая выборка):\n",
      "            Пол      Возраст      Зарплата  Члены семьи\n",
      "0   9109.125456   951.034043  10017.050647   792.327036\n",
      "1  25001.619196  2594.521555  27516.178336  2142.416502\n",
      "2  14061.079729  1472.480512  15458.322770  1230.167532\n",
      "3   8335.216239   876.968622   9157.405458   737.808383\n",
      "4  24757.383736  2571.338274  27249.559004  2120.967791\n",
      "\n",
      "Проверка значений (тестовая выборка):\n",
      "            Пол      Возраст      Зарплата  Члены семьи\n",
      "0  13814.445686  1444.811206  15187.746313  1206.763483\n",
      "1  17318.593016  1796.228361  19061.850000  1482.015021\n",
      "2  18605.874649  1940.180218  20464.796311  1612.554576\n",
      "3  23872.147808  2474.579864  26277.025946  2040.038285\n",
      "4  27839.525025  2889.050247  30640.016820  2384.924233\n"
     ]
    }
   ],
   "source": [
    "# умножение для обучающей выборки\n",
    "features_train_encode = np.dot(features_train, random_matrix)\n",
    "features_train_encode = pd.DataFrame(features_train_encode, columns=features_train.columns)\n",
    "print('Проверка значений (обучающая выборка):')\n",
    "print(features_train_encode.head())\n",
    "print()\n",
    "\n",
    "# умножение для тестовой выборки\n",
    "features_test_encode = np.dot(features_test, random_matrix)\n",
    "features_test_encode = pd.DataFrame(features_test_encode, columns=features_test.columns)\n",
    "print('Проверка значений (тестовая выборка):')\n",
    "print(features_test_encode.head())"
   ]
  },
  {
   "cell_type": "markdown",
   "metadata": {},
   "source": [
    "Теперь заново обучим модель по уже **зашифрованным признакам** и для сравнения выведем результаты для исходных и закодированных значений:"
   ]
  },
  {
   "cell_type": "code",
   "execution_count": 12,
   "metadata": {},
   "outputs": [
    {
     "name": "stdout",
     "output_type": "stream",
     "text": [
      "Исходные значения:\n",
      "Значение R-квадрат: 0.4128950049384499\n",
      "Предсказанные значения: [ 0.78004231 -0.30575652  0.69274494 -0.19920586  0.20359419  0.47501608]\n",
      "\n",
      "Закодированные значения:\n",
      "Значение R-квадрат: 0.41289500493817555\n",
      "Предсказанные значения: [ 0.78004231 -0.30575652  0.69274494 -0.19920586  0.20359419  0.47501608]\n",
      "\n",
      "Разница между метриками R-квадрат: 2.743361093848762e-13\n"
     ]
    }
   ],
   "source": [
    "# обучение закодированных данных\n",
    "model = LinearRegression()\n",
    "model.fit(features_train_encode, target_train)\n",
    "predictions_test_encode = model.predict(features_test_encode)\n",
    "\n",
    "print('Исходные значения:')\n",
    "print('Значение R-квадрат:', r2_score(target_test, predictions_test))\n",
    "print('Предсказанные значения:', predictions_test[:6])\n",
    "print()\n",
    "\n",
    "print('Закодированные значения:')\n",
    "print('Значение R-квадрат:', r2_score(target_test, predictions_test_encode))\n",
    "print('Предсказанные значения:', predictions_test_encode[:6])\n",
    "print()\n",
    "\n",
    "print('Разница между метриками R-квадрат:',\n",
    "      r2_score(target_test, predictions_test) - r2_score(target_test, predictions_test_encode))"
   ]
  },
  {
   "cell_type": "markdown",
   "metadata": {},
   "source": [
    "Значения **практически одинаковые**. Посмотрим какое **значение ошибки** при сравнении предсказаний по исходным и зашифрованным данным. Выберем для оценки метрику MAE:"
   ]
  },
  {
   "cell_type": "code",
   "execution_count": 13,
   "metadata": {},
   "outputs": [
    {
     "name": "stdout",
     "output_type": "stream",
     "text": [
      "Значение MAE (сравнение исходных и закодированных значений): 8.30762685311015e-12\n"
     ]
    }
   ],
   "source": [
    "print('Значение MAE (сравнение исходных и закодированных значений):', \n",
    "      mean_absolute_error(predictions_test, predictions_test_encode))"
   ]
  },
  {
   "cell_type": "markdown",
   "metadata": {},
   "source": [
    "Значение ошибки очень **маленькое**. Значит, предсказанные значения **очень похожи**, а различие происходят в силу округлений.  \n",
    "Таким образом, **предсказанные значения** и **значение R-квадрат** остались практически прежними, т. е. умножение **не повлияло на качество** линейной регрессии."
   ]
  },
  {
   "cell_type": "markdown",
   "metadata": {},
   "source": [
    "### 2.3. Связь параметров линейной регрессии\n",
    "\n",
    "Рассмотрим, как связаны параметры линейной регрессии в исходной задаче и в преобразованной.  \n",
    "Поэтапно изучим алгоритм работы линейной регрессии: создадим **класс линейной регрессии** и на каждом этапе будем смотреть, как ведут себя переменные.\n",
    "\n",
    "Обозначения:\n",
    "\n",
    "- $X$ — матрица признаков (нулевой столбец состоит из единиц)\n",
    "- $y$ — вектор целевого признака\n",
    "- $P$ — матрица, на которую умножаются признаки\n",
    "- $w$ — вектор весов линейной регрессии (нулевой элемент равен сдвигу)\n",
    "\n",
    "Формулы:\n",
    "- Предсказания: $a = Xw$\n",
    "- Задача обучения: $w = \\arg\\min_w MSE(Xw, y)$\n",
    "- Формула обучения: $w = (X^T X)^{-1} X^T y$"
   ]
  },
  {
   "cell_type": "markdown",
   "metadata": {},
   "source": [
    "1. Обучение модели\n",
    " - Переменная `X` - соединение столбца с **единицами** и обучающими **признаками**. \n",
    " - Переменная `y` - **целевой признак** обучающей выборки.\n",
    " - Переменная `w_all` - применение формулы для расчёта ветора $w$ (содержит $w$ и $w_0$): $w = (X^T X)^{-1} X^T y$\n",
    " - Из `w_all` выделяется отдельно `w` (все значения, кроме 1-го) и `w0` (первое значение).\n",
    "\n",
    "\n",
    "2. Предсказание модели\n",
    " - Для предсказания необходимо умножить обучающие признаки на параметр `w` и прибавить параметр `w0`: $a = Xw + w_{0}$"
   ]
  },
  {
   "cell_type": "code",
   "execution_count": 14,
   "metadata": {},
   "outputs": [],
   "source": [
    "# создание класса\n",
    "class LinearRegression_Manual:\n",
    "    def fit(self, train_features, train_target):\n",
    "        X = np.concatenate((np.ones((train_features.shape[0], 1)), train_features), axis=1)\n",
    "        y = train_target.values\n",
    "        w_all = np.linalg.inv(X.T.dot(X)) @ X.T @ y\n",
    "        self.w = w_all[1:]\n",
    "        self.w0 = w_all[0]\n",
    "\n",
    "    def predict(self, test_features):\n",
    "        test_predictions = test_features.dot(self.w) + self.w0\n",
    "        return test_predictions.values"
   ]
  },
  {
   "cell_type": "markdown",
   "metadata": {},
   "source": [
    "Сначала проверим, чтобы результаты созданной нами линейной регрессии совпадали с результатами линейной регрессии из `sklearn.linear_model`."
   ]
  },
  {
   "cell_type": "code",
   "execution_count": 15,
   "metadata": {
    "scrolled": true
   },
   "outputs": [
    {
     "name": "stdout",
     "output_type": "stream",
     "text": [
      "Модель из библиотеки\n",
      "Значение R-квадрат: 0.4128950049384499\n",
      "Предсказанные значения: [ 0.78004231 -0.30575652  0.69274494 -0.19920586  0.20359419  0.47501608]\n",
      "\n",
      "Созданная модель\n",
      "Значение R-квадрат: 0.41289500493845055\n",
      "Предсказанные значения: [ 0.78004231 -0.30575652  0.69274494 -0.19920586  0.20359419  0.47501608]\n",
      "\n",
      "Разница между метриками R2: -6.661338147750939e-16\n",
      "Значение MAE: 7.143192704006652e-14\n"
     ]
    }
   ],
   "source": [
    "# модель из библиотеки\n",
    "model = LinearRegression()\n",
    "model.fit(features_train, target_train)\n",
    "predictions_test = model.predict(features_test)\n",
    "r2_value = r2_score(target_test, predictions_test)\n",
    "\n",
    "print('Модель из библиотеки')\n",
    "print('Значение R-квадрат:', r2_value)\n",
    "print('Предсказанные значения:', predictions_test[:6])\n",
    "print()\n",
    "\n",
    "\n",
    "# созданная модель\n",
    "model_manual = LinearRegression_Manual()\n",
    "model_manual.fit(features_train, target_train)\n",
    "predictions_test_manual = model_manual.predict(features_test)\n",
    "r2_value_manual = r2_score(target_test, predictions_test_manual)\n",
    "\n",
    "print('Созданная модель')\n",
    "print('Значение R-квадрат:', r2_value_manual)\n",
    "print('Предсказанные значения:', predictions_test_manual[:6])\n",
    "print()\n",
    "\n",
    "\n",
    "# сравнение моделей\n",
    "print('Разница между метриками R2:', r2_value - r2_value_manual)\n",
    "print('Значение MAE:', \n",
    "      mean_absolute_error(predictions_test, predictions_test_manual))"
   ]
  },
  {
   "cell_type": "markdown",
   "metadata": {},
   "source": [
    "Всё работает, результаты **практически совпали**. В этом случае также наблюдаются **незначительные различия** между результатами работы, по сути, одной и той же модели на одних и тех же данных. Скорее всего, данная разница возникает в результате округлений вычислений.\n",
    "\n",
    "Теперь посмотрим, что происходит с переменными во время работы модели.\n",
    "\n",
    "1. **Переменная X**. Соединяем колонку с единицами и признаки. Переменные X для исходных и зашифрованных данных будут **различаться**, т. к. обучающие признаки различны, а на этом шаге всего лишь добавляется столбец с единицей."
   ]
  },
  {
   "cell_type": "code",
   "execution_count": 16,
   "metadata": {},
   "outputs": [
    {
     "name": "stdout",
     "output_type": "stream",
     "text": [
      "Исходные данные:\n",
      "[[1.00e+00 0.00e+00 2.70e+01 1.86e+04 0.00e+00]\n",
      " [1.00e+00 0.00e+00 3.00e+01 5.11e+04 0.00e+00]\n",
      " [1.00e+00 0.00e+00 4.90e+01 2.87e+04 2.00e+00]]\n",
      "\n",
      "Закодированные данные:\n",
      "[[1.00000000e+00 9.10912546e+03 9.51034043e+02 1.00170506e+04\n",
      "  7.92327036e+02]\n",
      " [1.00000000e+00 2.50016192e+04 2.59452155e+03 2.75161783e+04\n",
      "  2.14241650e+03]\n",
      " [1.00000000e+00 1.40610797e+04 1.47248051e+03 1.54583228e+04\n",
      "  1.23016753e+03]]\n"
     ]
    }
   ],
   "source": [
    "# исходные данные\n",
    "X = np.concatenate((np.ones((features_train.shape[0], 1)), features_train), axis=1)\n",
    "print('Исходные данные:')\n",
    "print(X[:3])\n",
    "print()\n",
    "\n",
    "# закодированные данные\n",
    "X_encode = np.concatenate((np.ones((features_train_encode.shape[0], 1)), features_train_encode), axis=1)\n",
    "print('Закодированные данные:')\n",
    "print(X_encode[:3])"
   ]
  },
  {
   "cell_type": "markdown",
   "metadata": {},
   "source": [
    "2. В обоих случаях значение **целевого признака** остаётся **без изменений**:"
   ]
  },
  {
   "cell_type": "code",
   "execution_count": 17,
   "metadata": {},
   "outputs": [
    {
     "name": "stdout",
     "output_type": "stream",
     "text": [
      "[0 0 1 0 0 0 0 1 0 0]\n"
     ]
    }
   ],
   "source": [
    "# значение целевого признака\n",
    "y = target_train.values\n",
    "# пример нескольких значений\n",
    "print(y[:10])"
   ]
  },
  {
   "cell_type": "markdown",
   "metadata": {},
   "source": [
    "3. Получив значения X и y, мы подставляем их в **формулу обучения**: $w = (X^T X)^{-1} X^T y$"
   ]
  },
  {
   "cell_type": "code",
   "execution_count": 18,
   "metadata": {
    "scrolled": true
   },
   "outputs": [
    {
     "name": "stdout",
     "output_type": "stream",
     "text": [
      "Исходные данные:\n",
      "Значение w: [ 6.21727512e-03  3.61588036e-02 -1.43712287e-07 -1.35713800e-02]\n",
      "Значение w0: -0.9515275746306244\n",
      "\n",
      "Закодированные данные:\n",
      "Значение w: [ 0.15030241 -0.01849957 -0.13213092 -0.03406934]\n",
      "Значение w0: -0.9515295765096994\n"
     ]
    }
   ],
   "source": [
    "# исходные данные\n",
    "w_all = np.linalg.inv(X.T.dot(X)) @ X.T @ y\n",
    "w = w_all[1:]\n",
    "w0 = w_all[0]\n",
    "print('Исходные данные:')\n",
    "print('Значение w:', w)\n",
    "print('Значение w0:', w0)\n",
    "\n",
    "print()\n",
    "\n",
    "# закодированные данные\n",
    "w_all_encode = np.linalg.inv(X_encode.T.dot(X_encode)) @ X_encode.T @ y\n",
    "w_encode = w_all_encode[1:]\n",
    "w0_encode = w_all_encode[0]\n",
    "print('Закодированные данные:')\n",
    "print('Значение w:', w_encode)\n",
    "print('Значение w0:', w0_encode)"
   ]
  },
  {
   "cell_type": "markdown",
   "metadata": {},
   "source": [
    "Мы получили очень **похожие** значения параметра `w0`. Этот параметр является интерсептом, который поднимает или опускает прямую регрессионной модели. В обеих случаях в матрицах под этот параметр был оставлен столбец с **единицами**. Поэтому после преобразования вместо единиц получился одинаковый параметр.\n",
    "\n",
    "Значения `w` и `w_encode` различны, поскольку различались и исходные `X` и `X_encode`. Однако соотношение ${w}$ и ${(X^T X)^{-1} X^T}$ для обоих случаев равно **одному и тому же** значению $y$:\n",
    "$$\n",
    "y = \\frac{w}{(X^T X)^{-1} X^T}\n",
    "$$"
   ]
  },
  {
   "cell_type": "markdown",
   "metadata": {},
   "source": [
    "4. Подставим значения в формулу для получения предсказаний. Предсказания получаются из **произведения** признаков и параметра $w$. После этого, к произведению прибавляется $w_{0}$, который, как мы рассмотрели выше, практически **одинаковый** для исходных и закодированные данных. \n",
    "\n",
    "$$\n",
    "a = Xw + w_{0}\n",
    "$$\n"
   ]
  },
  {
   "cell_type": "code",
   "execution_count": 19,
   "metadata": {},
   "outputs": [
    {
     "name": "stdout",
     "output_type": "stream",
     "text": [
      "Исходные данные:\n",
      "Значение R-квадрат: 0.41289500493845055\n",
      "[ 0.78004231 -0.30575652  0.69274494 ...  0.37153539  0.02274268\n",
      " -0.17058799]\n",
      "\n",
      "Закодированные данные:\n",
      "Значение R-квадрат: 0.4128950626741775\n",
      "[ 0.7800405  -0.30575828  0.69274323 ...  0.37153356  0.02274086\n",
      " -0.17058982]\n",
      "\n",
      "Разница между метриками R2: -5.773572697709284e-08\n",
      "Значение MAE: 1.7931283425667742e-06\n"
     ]
    }
   ],
   "source": [
    "# исходные данные\n",
    "predictions_test = features_test.dot(w) + w0\n",
    "r2_value = r2_score(target_test, predictions_test)\n",
    "print('Исходные данные:')\n",
    "print('Значение R-квадрат:', r2_value)\n",
    "print(predictions_test.values)\n",
    "print()\n",
    "\n",
    "# закодированные данные\n",
    "predictions_test_encode = features_test_encode.dot(w_encode) + w0_encode\n",
    "r2_value_encode = r2_score(target_test.values, predictions_test_encode.values)\n",
    "print('Закодированные данные:')\n",
    "print('Значение R-квадрат:', r2_value_encode)\n",
    "print(predictions_test_encode.values)\n",
    "print()\n",
    "\n",
    "# сравнение моделей\n",
    "print('Разница между метриками R2:', r2_value - r2_value_encode)\n",
    "print('Значение MAE:', \n",
    "      mean_absolute_error(predictions_test, predictions_test_encode))"
   ]
  },
  {
   "cell_type": "markdown",
   "metadata": {},
   "source": [
    "В данном случае значения **R-квадрат** также получились практически **одинаковыми**.\n",
    "\n",
    "Итак, оптимальные значения **параметров** `w`, `w0` зависят от значений `X` (единицы и признаки) и `y` (целевой признак). В случае кодирования, `y` остаётся прежним, а `X` изменяется. В результате кодирования изменяются сами значения, но соотношения между признаками остаются прежнимими."
   ]
  },
  {
   "cell_type": "markdown",
   "metadata": {},
   "source": [
    "## Шаг 2. Вывод\n",
    "\n",
    "- При **умножении** на обратимую матрицу, результат **качества** линейной регрессии и сами **предсказания** останутся **таким же**.\n",
    "- Для исходных и преобразованных данных значение $w_{0}$ останется **одинаковым**.\n",
    "- Параметры **$w$ различаются**. Однако соотношение ${w}$ и ${(X^T X)^{-1} X^T}$ равно одному и тому же значению $y$."
   ]
  },
  {
   "cell_type": "markdown",
   "metadata": {},
   "source": [
    "## Шаг 3. Алгоритм преобразования\n",
    "\n",
    "#### Алгоритм\n",
    "В качестве алгоритма преобразования данных можно предложить **умножение** исходных данных на **обратимую матрицу**.  \n",
    "Как было продемонстрировано выше, **качество** и **предсказания** для исходных и зашифрованных данных останутся практически одинаковыми.\n",
    "\n",
    "#### Обоснование\n",
    "Для исходных и зашифрованных данных **одинаковое** значение **целевой переменной** и **одинаковые предсказания**.  \n",
    "Для расчёта R-квадрат необходимо знать **дисперсию** (отклонения наблюдений от среднего значения) и **RSS (Residual sum of squares)** (различия предсказанных и наблюдаемых значений, т. е. остатки).\n",
    "\n",
    "Рассчитаем вручную значения R-квадрат для исходных и закодированных данных и убедимся в этом:"
   ]
  },
  {
   "cell_type": "markdown",
   "metadata": {},
   "source": [
    "1. Поскольку целевая переменная одна и та же в обоих случаях, то **дисперсия** также будет одинакова."
   ]
  },
  {
   "cell_type": "code",
   "execution_count": 20,
   "metadata": {},
   "outputs": [
    {
     "name": "stdout",
     "output_type": "stream",
     "text": [
      "Дисперсия данных (исходные и закодированые): 246.88\n"
     ]
    }
   ],
   "source": [
    "# отклонения\n",
    "deviations = np.mean(target_test) - target_test\n",
    "VAR = np.sum(np.square(deviations))\n",
    "print('Дисперсия данных (исходные и закодированые):', VAR)"
   ]
  },
  {
   "cell_type": "markdown",
   "metadata": {},
   "source": [
    "2. Остатки будут уже **немного различаться**, из-за небольших различий значений в 1 и 2 случае."
   ]
  },
  {
   "cell_type": "code",
   "execution_count": 21,
   "metadata": {},
   "outputs": [
    {
     "name": "stdout",
     "output_type": "stream",
     "text": [
      "RSS (исходные данные): 144.94448118079532\n",
      "RSS (закодированые данные): 144.94446692699904\n"
     ]
    }
   ],
   "source": [
    "# остатки\n",
    "residuals = predictions_test.values - target_test.values\n",
    "RSS = np.sum(np.square(residuals))\n",
    "print('RSS (исходные данные):', RSS)\n",
    "\n",
    "residuals_encode = predictions_test_encode.values - target_test.values\n",
    "RSS_encode = np.sum(np.square(residuals_encode))\n",
    "print('RSS (закодированые данные):', RSS_encode)"
   ]
  },
  {
   "cell_type": "code",
   "execution_count": 22,
   "metadata": {},
   "outputs": [
    {
     "name": "stdout",
     "output_type": "stream",
     "text": [
      "R-квадрат (исходные данные): 0.41289500493845055\n",
      "R-квадрат (закодированые данные): 0.4128950626741775\n"
     ]
    }
   ],
   "source": [
    "# R-квадрат\n",
    "r_squared = 1 - (RSS / VAR)\n",
    "print('R-квадрат (исходные данные):', r_squared)\n",
    "\n",
    "r_squared_encode = 1 - (RSS_encode / VAR)\n",
    "print('R-квадрат (закодированые данные):', r_squared_encode)"
   ]
  },
  {
   "cell_type": "markdown",
   "metadata": {},
   "source": [
    "## Шаг 3. Вывод\n",
    "    \n",
    "- Качество модели практически не поменяется из-за того, что в первом и втором случае **целевой признак** один и тот же, а **предсказанные  результаты** очень похожи. Метрика **R-квадрат** рассчитывается на основе этих значений."
   ]
  },
  {
   "cell_type": "markdown",
   "metadata": {},
   "source": [
    "## Шаг 4. Проверка алгоритма\n",
    "\n",
    "Ранее мы уже проверили, как поведут себя исходные и зашифрованные данные при использовании **модели LinearRegression из библиотеки sklearn**. Для наглядности продублируем результаты здесь."
   ]
  },
  {
   "cell_type": "code",
   "execution_count": 23,
   "metadata": {},
   "outputs": [
    {
     "name": "stdout",
     "output_type": "stream",
     "text": [
      "Исходные значения:\n",
      "Значение R-квадрат: 0.4128950049384499\n",
      "Предсказанные значения: [ 0.78004231 -0.30575652  0.69274494 -0.19920586  0.20359419  0.47501608]\n",
      "\n",
      "Закодированные значения:\n",
      "Значение R-квадрат: 0.41289500493817555\n",
      "Предсказанные значения: [ 0.78004231 -0.30575652  0.69274494 -0.19920586  0.20359419  0.47501608]\n",
      "\n",
      "Разница между метриками R-квадрат: 2.743361093848762e-13\n"
     ]
    }
   ],
   "source": [
    "# обучение исходных данных\n",
    "model = LinearRegression()\n",
    "model.fit(features_train, target_train)\n",
    "predictions_test = model.predict(features_test)\n",
    "\n",
    "# обучение закодированных данных\n",
    "model = LinearRegression()\n",
    "model.fit(features_train_encode, target_train)\n",
    "predictions_test_encode = model.predict(features_test_encode)\n",
    "\n",
    "print('Исходные значения:')\n",
    "print('Значение R-квадрат:', r2_score(target_test, predictions_test))\n",
    "print('Предсказанные значения:', predictions_test[:6])\n",
    "print()\n",
    "\n",
    "print('Закодированные значения:')\n",
    "print('Значение R-квадрат:', r2_score(target_test, predictions_test_encode))\n",
    "print('Предсказанные значения:', predictions_test_encode[:6])\n",
    "print()\n",
    "\n",
    "print('Разница между метриками R-квадрат:',\n",
    "      r2_score(target_test, predictions_test) - r2_score(target_test, predictions_test_encode))"
   ]
  },
  {
   "cell_type": "markdown",
   "metadata": {},
   "source": [
    "## Шаг 4. Вывод\n",
    "    \n",
    "- С помощью **линейной регрессии из sklearn** были обучены исходные и зашифрованные данные, сверена метрика R-квадрат.  \n",
    "- Предсказанные значения и, соответственно, R-квадрат в обоих случах **очень похожи**. Различия могут быть вызваны округлениями в процессе вычисления."
   ]
  },
  {
   "cell_type": "markdown",
   "metadata": {},
   "source": [
    "# Итоговый вывод\n",
    "\n",
    "## Шаг 1. Загрузка и изучение данных\n",
    "- Файл содержит **5000 строк** и **5 колонок**.\n",
    "- В датасете **отсутствуют** явные **пропуски**.\n",
    "- **Тип данных** для каждой колонки указан корректно.\n",
    "- **Аномальных значений** (например, неправдоподобно большой или маленький возраст, пол кроме 0 и 1 и др.) **не обнаружено**.\n",
    "- Присутствует **153 дубликата**.\n",
    "- Изучено распределение **возраста** и **зарплаты**:\n",
    "  - **Средний** возраст клиента банка **30 лет**. При этом возраст распределен **не нормально**.\n",
    "  - В среднем клиента банка получает **около 40 тыс. у. е.**. Зарплата клиентов распределена **нормально**.\n",
    "- Из интересных закономерностей обнаружено, что у **более взрослых** клиентов **бо́льшее** число **страховы выплат**. Однако стоит учесть, что для 3, 4, 5 выплат количество клиентов в каждой группе **менее 19 человек** - это довольно маленькое количество, чтобы сделать вывод.\n",
    "\n",
    "## Шаг 2. Проверка метода умножения на матрицу\n",
    "- При **умножении** на обратимую матрицу, результат **качества** линейной регрессии и сами **предсказания** останутся **таким же**.\n",
    "- Для исходных и преобразованных данных значение $w_{0}$ останется **одинаковым**.\n",
    "- Параметры **$w$ различаются**. Однако соотношение ${w}$ и ${(X^T X)^{-1} X^T}$ равно одному и тому же значению $y$.\n",
    "\n",
    "## Шаг 3. Алгоритм преобразования\n",
    "- Качество модели практически не поменяется из-за того, что в первом и втором случае **целевой признак** один и тот же, а **предсказанные  результаты** очень похожи. Метрика **R-квадрат** рассчитывается на основе этих значений.\n",
    "\n",
    "## Шаг 4. Проверка алгоритма\n",
    "- С помощью **линейной регрессии из sklearn** были обучены исходные и зашифрованные данные, сверена метрика R-квадрат.  \n",
    "- Предсказанные значения и, соответственно, R-квадрат в обоих случах **очень похожи**. Различия могут быть вызваны округлениями в процессе вычисления."
   ]
  }
 ],
 "metadata": {
  "kernelspec": {
   "display_name": "Python 3",
   "language": "python",
   "name": "python3"
  },
  "language_info": {
   "codemirror_mode": {
    "name": "ipython",
    "version": 3
   },
   "file_extension": ".py",
   "mimetype": "text/x-python",
   "name": "python",
   "nbconvert_exporter": "python",
   "pygments_lexer": "ipython3",
   "version": "3.7.6"
  }
 },
 "nbformat": 4,
 "nbformat_minor": 2
}
